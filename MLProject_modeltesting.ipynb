{
 "cells": [
  {
   "cell_type": "code",
   "execution_count": 2,
   "id": "6d9a0a9e-0367-4527-bade-93da94431b2e",
   "metadata": {},
   "outputs": [],
   "source": [
    "import numpy as np\n",
    "import pandas as pd\n",
    "import matplotlib.pyplot as plt\n",
    "\n",
    "from sklearn.model_selection import GridSearchCV, StratifiedKFold, train_test_split, KFold, cross_val_score, cross_val_predict, RandomizedSearchCV\n",
    "from sklearn.metrics import r2_score, mean_squared_error\n",
    "from sklearn.compose import ColumnTransformer, TransformedTargetRegressor\n",
    "from sklearn.pipeline import Pipeline\n",
    "from sklearn.preprocessing import OrdinalEncoder, OneHotEncoder, FunctionTransformer, LabelEncoder, StandardScaler, PolynomialFeatures\n",
    "from sklearn.impute import SimpleImputer\n",
    "from sklearn.linear_model import LinearRegression, Ridge, Lasso, ElasticNet, RidgeCV, LassoCV, ElasticNetCV\n",
    "from sklearn.ensemble import RandomForestRegressor, HistGradientBoostingRegressor\n",
    "import statsmodels.api as sm\n",
    "from sklearn.svm import SVR\n",
    "from catboost import CatBoostRegressor\n",
    "\n",
    "import time\n",
    "import warnings\n",
    "from tqdm.notebook import tqdm\n",
    "\n",
    "from __future__ import annotations\n",
    "from typing import Iterable, Optional, List, Dict, Tuple\n",
    "from sklearn.base import BaseEstimator, TransformerMixin"
   ]
  },
  {
   "cell_type": "code",
   "execution_count": 3,
   "id": "60f819db-60d8-4b77-b021-915225606f2b",
   "metadata": {},
   "outputs": [],
   "source": [
    "Ames_original = pd.read_csv('Ames_HousePrice.csv', index_col=0)\n",
    "\n",
    "Ames = Ames_original.copy()\n",
    "\n",
    "# Hardcode NAN encoding where appropriate\n",
    "\n",
    "bath_cols = [\"FullBath\", \"HalfBath\", \"BsmtFullBath\", \"BsmtHalfBath\"]\n",
    "Ames[bath_cols] = Ames[bath_cols].fillna(0)\n",
    "\n",
    "garage_cols = ['GarageArea', 'GarageCars']\n",
    "Ames[garage_cols] = Ames[garage_cols].fillna(0)\n",
    "\n",
    "basement_cols = ['BsmtFinSF1', 'BsmtFinSF2', 'BsmtUnfSF', 'TotalBsmtSF']\n",
    "Ames[basement_cols] = Ames[basement_cols].fillna(0)\n",
    "\n",
    "Ames['MasVnrArea'] = Ames['MasVnrArea'].fillna(0)\n",
    "Ames['PoolArea'] = Ames['PoolArea'].fillna(0)\n",
    "\n",
    "# Convert the below numeric features to categorical features\n",
    "Ames['MSSubClass'] = Ames['MSSubClass'].astype('object')\n",
    "Ames['YrSold'] = Ames['YrSold'].astype('object')\n",
    "Ames['MoSold'] = Ames['MoSold'].astype('object')"
   ]
  },
  {
   "cell_type": "code",
   "execution_count": 4,
   "id": "a397f67a-1046-4563-a05e-21bfac035832",
   "metadata": {},
   "outputs": [],
   "source": [
    "def _patch_ct(ct: ColumnTransformer):\n",
    "    try:\n",
    "        params = ct.get_params(deep=False)\n",
    "        if \"force_int_remainder_cols\" in params:\n",
    "            val = params[\"force_int_remainder_cols\"]\n",
    "            if val == \"deprecated\" or not isinstance(val, (bool,)):\n",
    "                ct.set_params(force_int_remainder_cols=False)\n",
    "    except Exception:\n",
    "        if hasattr(ct, \"__dict__\") and \"force_int_remainder_cols\" in ct.__dict__:\n",
    "            del ct.__dict__[\"force_int_remainder_cols\"]\n",
    "\n",
    "def patch_sklearn_objects(obj):\n",
    "    if isinstance(obj, ColumnTransformer):\n",
    "        _patch_ct(obj)\n",
    "        for _, trans, _ in getattr(obj, \"transformers\", []):\n",
    "            if isinstance(trans, (Pipeline, ColumnTransformer)):\n",
    "                patch_sklearn_objects(trans)\n",
    "        return obj\n",
    "\n",
    "    if isinstance(obj, Pipeline):\n",
    "        for _, step in obj.steps:\n",
    "            if isinstance(step, (Pipeline, ColumnTransformer)):\n",
    "                patch_sklearn_objects(step)\n",
    "        return obj\n",
    "\n",
    "    for attr in (\"named_steps\", \"_final_estimator\"):\n",
    "        if hasattr(obj, attr):\n",
    "            sub = getattr(obj, attr)\n",
    "            try:\n",
    "                patch_sklearn_objects(sub)\n",
    "            except Exception:\n",
    "                pass\n",
    "    return obj"
   ]
  },
  {
   "cell_type": "code",
   "execution_count": 46,
   "id": "5da00c4c-b2f6-47f3-a994-21a196a2822a",
   "metadata": {},
   "outputs": [],
   "source": [
    "X_fe = Ames.copy()\n",
    "\n",
    "# Targeted Feature Engineering\n",
    "X_fe[\"TotalSF\"] = X_fe[\"GrLivArea\"] + X_fe[\"TotalBsmtSF\"]\n",
    "X_fe[\"HouseAgeSinceRemod\"] = X_fe[\"YrSold\"].astype(int) - X_fe[\"YearRemodAdd\"].astype(int)\n",
    "X_fe['TotalBaths'] = X_fe['FullBath'] + 0.4 * X_fe['HalfBath'] + 1.2 * X_fe['BsmtFullBath'] + 0.2 * X_fe['BsmtHalfBath']\n",
    "\n",
    "\n",
    "# Add Interactions\n",
    "X_fe['TotalSF_x_Qual'] = X_fe['TotalSF'] * X_fe['OverallQual']\n",
    "\n",
    "X_fe = X_fe.drop(columns=['SalePrice','PID','YearBuilt'])\n",
    "y = Ames['SalePrice']"
   ]
  },
  {
   "cell_type": "code",
   "execution_count": null,
   "id": "0e516629-cada-430f-919e-98f0b3b24984",
   "metadata": {},
   "outputs": [],
   "source": []
  },
  {
   "cell_type": "code",
   "execution_count": 6,
   "id": "92035a73-aa9c-4e71-aafe-5654b079b523",
   "metadata": {},
   "outputs": [],
   "source": [
    "# === ONE-CELL START: encoders + pipelines + CV helper (no-TTR, short params) ===\n",
    "# ----------------------------- Ordinal maps -----------------------------\n",
    "ORDINAL_ORDER: Dict[str, List[str]] = {\n",
    "    'Electrical': ['Mix', 'FuseP', 'FuseF', 'FuseA', 'SBrkr'],\n",
    "    'LotShape': ['IR3', 'IR2', 'IR1', 'Reg'],\n",
    "    'Utilities': ['ELO', 'NoSeWa', 'NoSewr', 'AllPub'],\n",
    "    'LandSlope': ['Sev', 'Mod', 'Gtl'],\n",
    "    'ExterQual': ['Po', 'Fa', 'TA', 'Gd', 'Ex'],\n",
    "    'ExterCond': ['Po', 'Fa', 'TA', 'Gd', 'Ex'],\n",
    "    'BsmtQual': ['None', 'Po', 'Fa', 'TA', 'Gd', 'Ex'],\n",
    "    'BsmtCond': ['None', 'Po', 'Fa', 'TA', 'Gd', 'Ex'],\n",
    "    'BsmtExposure': ['None', 'No', 'Mn', 'Av', 'Gd'],\n",
    "    'BsmtFinType1': ['None', 'Unf', 'LwQ', 'Rec', 'BLQ', 'ALQ', 'GLQ'],\n",
    "    'BsmtFinType2': ['None', 'Unf', 'LwQ', 'Rec', 'BLQ', 'ALQ', 'GLQ'],\n",
    "    'HeatingQC': ['Po', 'Fa', 'TA', 'Gd', 'Ex'],\n",
    "    'KitchenQual': ['Po', 'Fa', 'TA', 'Gd', 'Ex'],\n",
    "    'Functional': ['Sal', 'Sev', 'Maj2', 'Maj1', 'Mod', 'Min2', 'Min1', 'Typ'],\n",
    "    'FireplaceQu': ['None', 'Po', 'Fa', 'TA', 'Gd', 'Ex'],\n",
    "    'GarageFinish': ['None', 'Unf', 'RFn', 'Fin'],\n",
    "    'GarageQual': ['None', 'Po', 'Fa', 'TA', 'Gd', 'Ex'],\n",
    "    'GarageCond': ['None', 'Po', 'Fa', 'TA', 'Gd', 'Ex'],\n",
    "    'PavedDrive': ['N', 'P', 'Y'],\n",
    "    'PoolQC': ['None', 'Fa', 'TA', 'Gd', 'Ex'],\n",
    "    'Fence': ['None', 'MnWw', 'GdWo', 'MnPrv', 'GdPrv']\n",
    "}\n",
    "\n",
    "# --------------------- Utilities (metrics + helpers) --------------------\n",
    "def rmse(y_true, y_pred) -> float:\n",
    "    return float(np.sqrt(mean_squared_error(y_true, y_pred)))\n",
    "\n",
    "from pandas.api.types import CategoricalDtype\n",
    "def _is_object_like(s: pd.Series) -> bool:\n",
    "    return s.dtype.kind in (\"O\", \"b\") or isinstance(s.dtype, CategoricalDtype)\n",
    "\n",
    "# --------------------------- Quantile capper ----------------------------\n",
    "class QuantileCapper(BaseEstimator, TransformerMixin):\n",
    "    def __init__(self, lower_q: float = 0.01, upper_q: float = 0.99):\n",
    "        self.lower_q = lower_q\n",
    "        self.upper_q = upper_q\n",
    "\n",
    "    def fit(self, X, y=None):\n",
    "        df = X if isinstance(X, pd.DataFrame) else pd.DataFrame(X)\n",
    "        self.feature_names_in_ = list(df.columns)\n",
    "        self.lower_ = df.quantile(self.lower_q)\n",
    "        self.upper_ = df.quantile(self.upper_q)\n",
    "        return self\n",
    "\n",
    "    def transform(self, X):\n",
    "        df = X if isinstance(X, pd.DataFrame) else pd.DataFrame(X, columns=self.feature_names_in_)\n",
    "        df = df.clip(self.lower_, self.upper_, axis=1)\n",
    "        return df.infer_objects(copy=False)   # <--- this silences the warning\n",
    "\n",
    "    def get_feature_names_out(self, input_features=None):\n",
    "        return np.asarray(self.feature_names_in_, dtype=object)\n",
    "\n",
    "# ------------------------- Preprocessor builder -------------------------\n",
    "def build_preprocessor(\n",
    "    df: pd.DataFrame,\n",
    "    *,\n",
    "    mode: str = \"linear\",  # 'linear' -> log/scale; 'tree' -> no log/scale on numerics\n",
    "    numeric_cap: Optional[Iterable[str]] = None,\n",
    "    lower_q: float = 0.01,\n",
    "    upper_q: float = 0.99,\n",
    "    log_cols: Optional[Iterable[str]] = None,          # (linear mode only)\n",
    "    scale_features: Optional[Iterable[str]] = None,    # (linear mode only)\n",
    "    zero_impute_cols: Optional[Iterable[str]] = None   # exact zeros for these numerics\n",
    ") -> ColumnTransformer:\n",
    "\n",
    "    if mode not in {\"linear\", \"tree\"}:\n",
    "        raise ValueError(\"mode must be 'linear' or 'tree'\")\n",
    "\n",
    "    num_all = df.select_dtypes(include=[\"number\"]).columns.tolist()\n",
    "    cat_all = [c for c in df.columns if _is_object_like(df[c])]\n",
    "\n",
    "    ordinal_explicit = [c for c in ORDINAL_ORDER.keys() if c in df.columns and c != \"Electrical\"]\n",
    "    nominal_all = [c for c in cat_all if c not in ORDINAL_ORDER.keys()]\n",
    "\n",
    "    zero_impute_cols = list(zero_impute_cols or [\"BsmtFullBath\", \"BsmtHalfBath\"])\n",
    "    zero_impute_cols = [c for c in zero_impute_cols if c in num_all]\n",
    "\n",
    "    default_cap = [\n",
    "        \"LotArea\",\"LotFrontage\",\"MasVnrArea\",\"TotalBsmtSF\",\n",
    "        \"BsmtFinSF1\",\"BsmtFinSF2\",\"BsmtUnfSF\",\n",
    "        \"1stFlrSF\",\"2ndFlrSF\",\"LowQualFinSF\",\"GrLivArea\",\n",
    "        \"GarageArea\",\"WoodDeckSF\",\"OpenPorchSF\",\"EnclosedPorch\",\n",
    "        \"3SsnPorch\",\"ScreenPorch\",\"PoolArea\",\"MiscVal\",\n",
    "        \"TotalSF\",\"GrLivArea_per_LotArea\",\n",
    "    ]\n",
    "    numeric_cap = set(numeric_cap or default_cap) & set(num_all)\n",
    "\n",
    "    if mode == \"linear\":\n",
    "        log_cols = set(log_cols or [\n",
    "            \"LotArea\", \"LotFrontage\", \"MasVnrArea\",\n",
    "            \"BsmtFinSF1\",\"BsmtFinSF2\",\"BsmtUnfSF\",\"TotalBsmtSF\",\n",
    "            \"1stFlrSF\",\"2ndFlrSF\",\"LowQualFinSF\",\"GrLivArea\",\n",
    "            \"GarageArea\",\"WoodDeckSF\",\"OpenPorchSF\",\"EnclosedPorch\",\n",
    "            \"3SsnPorch\",\"ScreenPorch\",\"PoolArea\",\"MiscVal\",\"TotalSF\",\"GrLivArea_per_LotArea\",\n",
    "        ])\n",
    "        scale_features = set(scale_features or (\n",
    "            {\n",
    "                \"GrLivArea\",\"LotFrontage\",\"LotArea\",\"MasVnrArea\",\n",
    "                \"BsmtFinSF1\",\"BsmtFinSF2\",\"BsmtUnfSF\",\"TotalBsmtSF\",\n",
    "                \"1stFlrSF\",\"2ndFlrSF\",\"LowQualFinSF\",\"GarageArea\",\n",
    "                \"WoodDeckSF\",\"OpenPorchSF\",\"EnclosedPorch\",\"3SsnPorch\",\n",
    "                \"ScreenPorch\",\"PoolArea\",\"MiscVal\",\"TotalSF\",\"GrLivArea_per_LotArea\",\n",
    "            }\n",
    "            | {\"BsmtFullBath\",\"BsmtHalfBath\",\"FullBath\",\"HalfBath\",\n",
    "               \"BedroomAbvGr\",\"KitchenAbvGr\",\"TotRmsAbvGrd\",\"Fireplaces\",\n",
    "               \"GarageCars\",\"TotalBaths\"}\n",
    "            | {\"OverallQual\",\"OverallCond\"}\n",
    "            | {\"HouseAge\",\"HouseAgeSinceRemod\",\"GarageAge\"}\n",
    "        ))\n",
    "    else:\n",
    "        log_cols = set()\n",
    "        scale_features = set()\n",
    "\n",
    "    num_log_cap   = sorted((log_cols & numeric_cap) & set(num_all))\n",
    "    num_log_plain = sorted((log_cols - numeric_cap) & set(num_all))\n",
    "    num_cap_only  = sorted((numeric_cap - log_cols) & set(num_all))\n",
    "    used_linear_buckets = set(num_log_cap) | set(num_log_plain) | set(num_cap_only)\n",
    "    num_plain = sorted([c for c in num_all if c not in used_linear_buckets])\n",
    "\n",
    "    def make_imputer_for(cols: List[str]) -> ColumnTransformer:\n",
    "        zero_cols = [c for c in cols if c in zero_impute_cols]\n",
    "        mean_cols = [c for c in cols if c not in zero_impute_cols]\n",
    "        transformers = []\n",
    "        if zero_cols:\n",
    "            transformers.append((\"zero_imp\", SimpleImputer(strategy=\"constant\", fill_value=0), zero_cols))\n",
    "        if mean_cols:\n",
    "            transformers.append((\"mean_imp\", SimpleImputer(strategy=\"mean\"), mean_cols))\n",
    "        return ColumnTransformer(transformers=transformers, remainder=\"drop\", verbose_feature_names_out=False)\n",
    "\n",
    "    def numeric_branch(cols: List[str], *, cap: bool, log: bool, scale: bool):\n",
    "        if not cols:\n",
    "            return None\n",
    "        steps = []\n",
    "        if cap:\n",
    "            steps.append((\"cap\", QuantileCapper(lower_q=lower_q, upper_q=upper_q)))\n",
    "        steps.append((\"impute\", make_imputer_for(cols)))\n",
    "        if log:\n",
    "            steps.append((\"log1p\", FunctionTransformer(np.log1p, validate=False)))\n",
    "        if scale:\n",
    "            steps.append((\"scale\", StandardScaler()))\n",
    "        return (\"_tmp\", Pipeline(steps=steps), cols)\n",
    "\n",
    "    branches = []\n",
    "    branches += [numeric_branch(num_log_cap,   cap=True,  log=(mode==\"linear\"), scale=(mode==\"linear\"))] or []\n",
    "    branches += [numeric_branch(num_log_plain, cap=False, log=(mode==\"linear\"), scale=(mode==\"linear\"))] or []\n",
    "    branches += [numeric_branch(num_cap_only,  cap=True,  log=False,           scale=(mode==\"linear\"))] or []\n",
    "    branches += [numeric_branch(num_plain,     cap=False, log=False,           scale=(mode==\"linear\"))] or []\n",
    "    branches = [b for b in branches if b is not None]\n",
    "\n",
    "    electrical_pipe = Pipeline(steps=[\n",
    "        (\"impute_mf\", SimpleImputer(strategy=\"most_frequent\")),\n",
    "        (\"ordinal\",   OrdinalEncoder(categories=[ORDINAL_ORDER[\"Electrical\"]],\n",
    "                                     handle_unknown=\"use_encoded_value\", unknown_value=-1)),\n",
    "    ]) if \"Electrical\" in df.columns else \"drop\"\n",
    "\n",
    "    if \"Electrical\" in nominal_all: nominal_all.remove(\"Electrical\")\n",
    "    if \"Electrical\" in ordinal_explicit: ordinal_explicit.remove(\"Electrical\")\n",
    "\n",
    "    ordinal_pipe = (\n",
    "        Pipeline(steps=[\n",
    "            (\"impute_none\", SimpleImputer(strategy=\"constant\", fill_value=\"None\")),\n",
    "            (\"ordinal\", OrdinalEncoder(categories=[ORDINAL_ORDER[c] for c in ordinal_explicit],\n",
    "                                       handle_unknown=\"use_encoded_value\", unknown_value=-1))\n",
    "        ])\n",
    "        if ordinal_explicit else \"drop\"\n",
    "    )\n",
    "\n",
    "    nominal_pipe = (\n",
    "        Pipeline(steps=[\n",
    "            (\"impute_none\", SimpleImputer(strategy=\"constant\", fill_value=\"None\")),\n",
    "            (\"onehot\", OneHotEncoder(handle_unknown=\"ignore\", sparse_output=False)),\n",
    "        ])\n",
    "        if nominal_all else \"drop\"\n",
    "    )\n",
    "\n",
    "    transformers = []\n",
    "    if \"Electrical\" in df.columns:\n",
    "        transformers.append((\"elect\", electrical_pipe, [\"Electrical\"]))\n",
    "    name_map = [\"num_log_cap\",\"num_log_plain\",\"num_cap\",\"num_plain\"]\n",
    "    for i, b in enumerate(branches):\n",
    "        transformers.append((name_map[i], b[1], b[2]))\n",
    "    if ordinal_explicit:\n",
    "        transformers.append((\"ordinal\", ordinal_pipe, ordinal_explicit))\n",
    "    if nominal_all:\n",
    "        transformers.append((\"nominal\", nominal_pipe, nominal_all))\n",
    "\n",
    "    pre = ColumnTransformer(\n",
    "        transformers=transformers,\n",
    "        remainder=\"drop\",\n",
    "        sparse_threshold=0.3,\n",
    "        verbose_feature_names_out=False\n",
    "    )\n",
    "    return pre\n",
    "\n",
    "\n",
    "\n",
    "def make_catboost_pipe(df_schema, **cb_params):\n",
    "    pre = build_preprocessor(df_schema, mode=\"tree\", log_cols=[], scale_features=[])\n",
    "    # set safe defaults only if not provided\n",
    "    cb_params = dict(cb_params)\n",
    "    cb_params.setdefault(\"loss_function\", \"RMSE\")\n",
    "    cb_params.setdefault(\"random_state\", 42)\n",
    "    cb_params.setdefault(\"verbose\", 0)\n",
    "    cb_params.setdefault(\"thread_count\", -1)\n",
    "    reg = CatBoostRegressor(**cb_params)\n",
    "    return Pipeline([(\"prep\", pre), (\"reg\", reg)])\n",
    "\n",
    "def make_linear_pipe(\n",
    "    df_schema: pd.DataFrame,\n",
    "    *,\n",
    "    model: str = \"ridge\",                     # 'ridge' | 'lasso' | 'enet'  (pass kwargs via model_kwargs)\n",
    "    model_kwargs: Optional[dict] = None,\n",
    "    # preprocessing knobs (optional; use defaults if omitted)\n",
    "    numeric_cap: Optional[Iterable[str]] = None,\n",
    "    lower_q: float = 0.01,\n",
    "    upper_q: float = 0.99,\n",
    "    log_cols: Optional[Iterable[str]] = None,\n",
    "    scale_features: Optional[Iterable[str]] = None,\n",
    "    zero_impute_cols: Optional[Iterable[str]] = None,\n",
    ") -> Pipeline:\n",
    "    \"\"\"\n",
    "    Linear pipeline with fold-safe preprocessing. NO TTR — keep params short (reg__alpha etc).\n",
    "    Target logging is handled by the evaluator.\n",
    "    \"\"\"\n",
    "    model_kwargs = model_kwargs or {}\n",
    "    key = (model or \"\").lower()\n",
    "    if key == \"ridge\":\n",
    "        model_kwargs = dict(model_kwargs or {})\n",
    "        model_kwargs.setdefault(\"max_iter\", 200_000)\n",
    "        model_kwargs.setdefault(\"tol\", 1e-3)\n",
    "        base = Ridge(**model_kwargs)\n",
    "    elif key == \"lasso\":\n",
    "        base = Lasso(max_iter=200_000, tol=1e-3, **model_kwargs)\n",
    "    elif key == \"enet\":\n",
    "        base = ElasticNet(max_iter=200_000, tol=1e-3, **model_kwargs)\n",
    "    else:\n",
    "        raise ValueError(\"model must be 'ridge' | 'lasso' | 'enet'\")\n",
    "\n",
    "    pre = build_preprocessor(\n",
    "        df_schema, mode=\"linear\",\n",
    "        numeric_cap=numeric_cap, lower_q=lower_q, upper_q=upper_q,\n",
    "        log_cols=log_cols, scale_features=scale_features,\n",
    "        zero_impute_cols=zero_impute_cols\n",
    "    )\n",
    "    return Pipeline([(\"prep\", pre), (\"reg\", base)])\n",
    "\n",
    "def make_histgb_pipe(\n",
    "    df_schema: pd.DataFrame,\n",
    "    *,\n",
    "    hgb_kwargs: Optional[dict] = None,\n",
    "    numeric_cap: Optional[Iterable[str]] = None,\n",
    "    lower_q: float = 0.01,\n",
    "    upper_q: float = 0.99,\n",
    "    zero_impute_cols: Optional[Iterable[str]] = None,\n",
    ") -> Pipeline:\n",
    "    \"\"\"\n",
    "    Tree pipeline: cap + impute + encoders; NO log/scale on features.\n",
    "    \"\"\"\n",
    "    hgb_kwargs = hgb_kwargs or {\"random_state\": 42}\n",
    "    pre = build_preprocessor(\n",
    "        df_schema, mode=\"tree\",\n",
    "        numeric_cap=numeric_cap, lower_q=lower_q, upper_q=upper_q,\n",
    "        log_cols=[], scale_features=[],\n",
    "        zero_impute_cols=zero_impute_cols\n",
    "    )\n",
    "    return Pipeline([(\"prep\", pre), (\"reg\", HistGradientBoostingRegressor(**hgb_kwargs))])\n",
    "\n",
    "\n",
    "# ---------------------- Quick CV leaderboard helper --------------------\n",
    "def cv_eval_models(\n",
    "    X: pd.DataFrame,\n",
    "    y: pd.Series | np.ndarray,\n",
    "    models: list[tuple[str, BaseEstimator]],\n",
    "    *,\n",
    "    cv: int = 5,\n",
    "    random_state: int = 42,\n",
    "    log_target: bool = True,\n",
    "    show_progress: bool = True,\n",
    ") -> pd.DataFrame:\n",
    "\n",
    "    y_np = y.to_numpy() if hasattr(y, \"to_numpy\") else np.asarray(y)\n",
    "    kf = KFold(n_splits=cv, shuffle=True, random_state=random_state)\n",
    "    rows = []\n",
    "\n",
    "    # Outer loop: models (optional outer bar)\n",
    "    model_iter = models if not show_progress else tqdm(models, desc=\"Models\", leave=True)\n",
    "\n",
    "    for name, est in model_iter:\n",
    "        fold_rmses, oof = [], np.zeros(len(y_np), dtype=float)\n",
    "        # Inner loop: folds (progress bar per model)\n",
    "        fold_iter = range(cv) if not show_progress else tqdm(range(cv), desc=f\"{name} folds\", leave=False)\n",
    "\n",
    "        for i, (tr, va) in zip(fold_iter, kf.split(X)):\n",
    "            X_tr, X_va = X.iloc[tr], X.iloc[va]\n",
    "            y_tr, y_va = y_np[tr], y_np[va]\n",
    "\n",
    "            y_tr_used = np.log1p(y_tr) if log_target else y_tr\n",
    "            est.fit(X_tr, y_tr_used)\n",
    "\n",
    "            pred = est.predict(X_va)\n",
    "            if log_target:\n",
    "                pred = np.expm1(pred)\n",
    "\n",
    "            fold_rmses.append(float(np.sqrt(((y_va - pred) ** 2).mean())))\n",
    "            oof[va] = pred\n",
    "\n",
    "        # full fit\n",
    "        y_full_used = np.log1p(y_np) if log_target else y_np\n",
    "        est.fit(X, y_full_used)\n",
    "        y_full = est.predict(X)\n",
    "        if log_target:\n",
    "            y_full = np.expm1(y_full)\n",
    "\n",
    "        rows.append({\n",
    "            \"model\": name,\n",
    "            \"cv_rmse_mean\": float(np.mean(fold_rmses)),\n",
    "            \"cv_rmse_std\":  float(np.std(fold_rmses, ddof=0)),\n",
    "            \"r2_cv\":  float(r2_score(y_np, oof)),\n",
    "            \"r2_full\": float(r2_score(y_np, y_full)),\n",
    "        })\n",
    "\n",
    "    return pd.DataFrame(rows).sort_values(\"cv_rmse_mean\").reset_index(drop=True)"
   ]
  },
  {
   "cell_type": "code",
   "execution_count": 7,
   "id": "8030ad54-add6-4793-9665-f55826a9c132",
   "metadata": {},
   "outputs": [],
   "source": [
    "from sklearn.ensemble import RandomForestRegressor\n",
    "\n",
    "def make_rf_pipe(\n",
    "    df_schema: pd.DataFrame,\n",
    "    *,\n",
    "    rf_kwargs: Optional[dict] = None,\n",
    "    numeric_cap: Optional[Iterable[str]] = None,\n",
    "    lower_q: float = 0.01,\n",
    "    upper_q: float = 0.99,\n",
    "    zero_impute_cols: Optional[Iterable[str]] = None,\n",
    ") -> Pipeline:\n",
    "    rf_kwargs = rf_kwargs or {\"n_estimators\": 600, \"random_state\": 42, \"n_jobs\": -1}\n",
    "    pre = build_preprocessor(\n",
    "        df_schema, mode=\"tree\",\n",
    "        numeric_cap=numeric_cap, lower_q=lower_q, upper_q=upper_q,\n",
    "        log_cols=[], scale_features=[], zero_impute_cols=zero_impute_cols\n",
    "    )\n",
    "    return Pipeline([(\"prep\", pre), (\"reg\", RandomForestRegressor(**rf_kwargs))])"
   ]
  },
  {
   "cell_type": "code",
   "execution_count": null,
   "id": "18725bed-c840-4732-9e75-1c3c9834c74f",
   "metadata": {},
   "outputs": [],
   "source": []
  },
  {
   "cell_type": "code",
   "execution_count": null,
   "id": "af3fa557-6839-4f26-9550-25adb6034154",
   "metadata": {},
   "outputs": [],
   "source": []
  },
  {
   "cell_type": "code",
   "execution_count": null,
   "id": "82a2cc25-7202-4b8a-af6d-af34de515121",
   "metadata": {},
   "outputs": [],
   "source": []
  },
  {
   "cell_type": "code",
   "execution_count": null,
   "id": "97d1a2c0-dc9c-4b42-be81-9d954ff07d8a",
   "metadata": {},
   "outputs": [],
   "source": []
  },
  {
   "cell_type": "code",
   "execution_count": 14,
   "id": "469c3093-8e0a-4270-a32b-6caf5d8fadbd",
   "metadata": {},
   "outputs": [
    {
     "data": {
      "application/vnd.jupyter.widget-view+json": {
       "model_id": "fa587e3ddca841f198df0830a3fe444d",
       "version_major": 2,
       "version_minor": 0
      },
      "text/plain": [
       "Models:   0%|          | 0/6 [00:00<?, ?it/s]"
      ]
     },
     "metadata": {},
     "output_type": "display_data"
    },
    {
     "data": {
      "application/vnd.jupyter.widget-view+json": {
       "model_id": "e340ddd5fd264527aff4c92edb02c483",
       "version_major": 2,
       "version_minor": 0
      },
      "text/plain": [
       "Ridge folds:   0%|          | 0/5 [00:00<?, ?it/s]"
      ]
     },
     "metadata": {},
     "output_type": "display_data"
    },
    {
     "data": {
      "application/vnd.jupyter.widget-view+json": {
       "model_id": "41735bad30964d5fa59d2345a29d43ab",
       "version_major": 2,
       "version_minor": 0
      },
      "text/plain": [
       "Lasso folds:   0%|          | 0/5 [00:00<?, ?it/s]"
      ]
     },
     "metadata": {},
     "output_type": "display_data"
    },
    {
     "data": {
      "application/vnd.jupyter.widget-view+json": {
       "model_id": "5d1e4aa470bb4f91b19bee2300e333d0",
       "version_major": 2,
       "version_minor": 0
      },
      "text/plain": [
       "ElasticNet folds:   0%|          | 0/5 [00:00<?, ?it/s]"
      ]
     },
     "metadata": {},
     "output_type": "display_data"
    },
    {
     "data": {
      "application/vnd.jupyter.widget-view+json": {
       "model_id": "a07fff55057b42aba61d0d3f57f71fde",
       "version_major": 2,
       "version_minor": 0
      },
      "text/plain": [
       "HistGB folds:   0%|          | 0/5 [00:00<?, ?it/s]"
      ]
     },
     "metadata": {},
     "output_type": "display_data"
    },
    {
     "data": {
      "application/vnd.jupyter.widget-view+json": {
       "model_id": "946b890386ad4d088f760709fec60272",
       "version_major": 2,
       "version_minor": 0
      },
      "text/plain": [
       "RandomForest folds:   0%|          | 0/5 [00:00<?, ?it/s]"
      ]
     },
     "metadata": {},
     "output_type": "display_data"
    },
    {
     "data": {
      "application/vnd.jupyter.widget-view+json": {
       "model_id": "e7ca9c61a0d64fffa416dab6b436702d",
       "version_major": 2,
       "version_minor": 0
      },
      "text/plain": [
       "CatBoost folds:   0%|          | 0/5 [00:00<?, ?it/s]"
      ]
     },
     "metadata": {},
     "output_type": "display_data"
    },
    {
     "data": {
      "text/html": [
       "<div>\n",
       "<style scoped>\n",
       "    .dataframe tbody tr th:only-of-type {\n",
       "        vertical-align: middle;\n",
       "    }\n",
       "\n",
       "    .dataframe tbody tr th {\n",
       "        vertical-align: top;\n",
       "    }\n",
       "\n",
       "    .dataframe thead th {\n",
       "        text-align: right;\n",
       "    }\n",
       "</style>\n",
       "<table border=\"1\" class=\"dataframe\">\n",
       "  <thead>\n",
       "    <tr style=\"text-align: right;\">\n",
       "      <th></th>\n",
       "      <th>model</th>\n",
       "      <th>cv_rmse_mean</th>\n",
       "      <th>cv_rmse_std</th>\n",
       "      <th>r2_cv</th>\n",
       "      <th>r2_full</th>\n",
       "    </tr>\n",
       "  </thead>\n",
       "  <tbody>\n",
       "    <tr>\n",
       "      <th>0</th>\n",
       "      <td>CatBoost</td>\n",
       "      <td>19919.363633</td>\n",
       "      <td>2639.280564</td>\n",
       "      <td>0.928254</td>\n",
       "      <td>0.997781</td>\n",
       "    </tr>\n",
       "    <tr>\n",
       "      <th>1</th>\n",
       "      <td>Ridge</td>\n",
       "      <td>21698.015260</td>\n",
       "      <td>4333.621219</td>\n",
       "      <td>0.913001</td>\n",
       "      <td>0.933312</td>\n",
       "    </tr>\n",
       "    <tr>\n",
       "      <th>2</th>\n",
       "      <td>HistGB</td>\n",
       "      <td>22017.466224</td>\n",
       "      <td>3303.436649</td>\n",
       "      <td>0.911918</td>\n",
       "      <td>0.980334</td>\n",
       "    </tr>\n",
       "    <tr>\n",
       "      <th>3</th>\n",
       "      <td>Lasso</td>\n",
       "      <td>23048.429537</td>\n",
       "      <td>5142.897199</td>\n",
       "      <td>0.900901</td>\n",
       "      <td>0.922936</td>\n",
       "    </tr>\n",
       "    <tr>\n",
       "      <th>4</th>\n",
       "      <td>RandomForest</td>\n",
       "      <td>24493.614466</td>\n",
       "      <td>3805.550498</td>\n",
       "      <td>0.890818</td>\n",
       "      <td>0.986077</td>\n",
       "    </tr>\n",
       "    <tr>\n",
       "      <th>5</th>\n",
       "      <td>ElasticNet</td>\n",
       "      <td>27593.944904</td>\n",
       "      <td>3935.917524</td>\n",
       "      <td>0.861942</td>\n",
       "      <td>0.872540</td>\n",
       "    </tr>\n",
       "  </tbody>\n",
       "</table>\n",
       "</div>"
      ],
      "text/plain": [
       "          model  cv_rmse_mean  cv_rmse_std     r2_cv   r2_full\n",
       "0      CatBoost  19919.363633  2639.280564  0.928254  0.997781\n",
       "1         Ridge  21698.015260  4333.621219  0.913001  0.933312\n",
       "2        HistGB  22017.466224  3303.436649  0.911918  0.980334\n",
       "3         Lasso  23048.429537  5142.897199  0.900901  0.922936\n",
       "4  RandomForest  24493.614466  3805.550498  0.890818  0.986077\n",
       "5    ElasticNet  27593.944904  3935.917524  0.861942  0.872540"
      ]
     },
     "execution_count": 14,
     "metadata": {},
     "output_type": "execute_result"
    }
   ],
   "source": [
    "warnings.filterwarnings(\"ignore\")\n",
    "models = [\n",
    "    (\"Ridge\",       make_linear_pipe(X_fe, model=\"ridge\",  model_kwargs={\"alpha\":50.0})),\n",
    "    (\"Lasso\",       make_linear_pipe(X_fe, model=\"lasso\",  model_kwargs={\"alpha\":0.001})),\n",
    "    (\"ElasticNet\",  make_linear_pipe(X_fe, model=\"enet\",   model_kwargs={\"alpha\":0.05, \"l1_ratio\":0.5})),\n",
    "    (\"HistGB\",      make_histgb_pipe(X_fe, hgb_kwargs={\"learning_rate\":0.08, \"max_leaf_nodes\":31,\n",
    "                                                       \"min_samples_leaf\":20, \"random_state\":42})),\n",
    "    (\"RandomForest\",make_rf_pipe(X_fe, rf_kwargs={\"n_estimators\":600, \"max_depth\":None,\n",
    "                                                  \"min_samples_leaf\":1, \"random_state\":42, \"n_jobs\":-1})),\n",
    "    # ↓ remove random_seed to avoid clash with default random_state in make_catboost_pipe\n",
    "    (\"CatBoost\",    make_catboost_pipe(X_fe, depth=8, learning_rate=0.05,\n",
    "                                       l2_leaf_reg=3.0, iterations=1200, loss_function=\"RMSE\",\n",
    "                                       verbose=0)),  # random_state=42 is set inside the maker\n",
    "]\n",
    "\n",
    "\n",
    "\n",
    "leaderboard = cv_eval_models(X_fe, y, models, cv=5, log_target=True, random_state=42)\n",
    "leaderboard"
   ]
  },
  {
   "cell_type": "code",
   "execution_count": 15,
   "id": "6b388ea5-8d12-4186-8110-0f1f403bc87d",
   "metadata": {},
   "outputs": [
    {
     "data": {
      "text/html": [
       "<div>\n",
       "<style scoped>\n",
       "    .dataframe tbody tr th:only-of-type {\n",
       "        vertical-align: middle;\n",
       "    }\n",
       "\n",
       "    .dataframe tbody tr th {\n",
       "        vertical-align: top;\n",
       "    }\n",
       "\n",
       "    .dataframe thead th {\n",
       "        text-align: right;\n",
       "    }\n",
       "</style>\n",
       "<table border=\"1\" class=\"dataframe\">\n",
       "  <thead>\n",
       "    <tr style=\"text-align: right;\">\n",
       "      <th></th>\n",
       "      <th>feature</th>\n",
       "      <th>importance</th>\n",
       "    </tr>\n",
       "  </thead>\n",
       "  <tbody>\n",
       "    <tr>\n",
       "      <th>0</th>\n",
       "      <td>TotalSF_x_Qual</td>\n",
       "      <td>28.221094</td>\n",
       "    </tr>\n",
       "    <tr>\n",
       "      <th>1</th>\n",
       "      <td>TotalSF</td>\n",
       "      <td>6.574034</td>\n",
       "    </tr>\n",
       "    <tr>\n",
       "      <th>2</th>\n",
       "      <td>OverallCond</td>\n",
       "      <td>3.464670</td>\n",
       "    </tr>\n",
       "    <tr>\n",
       "      <th>3</th>\n",
       "      <td>OverallQual</td>\n",
       "      <td>3.323448</td>\n",
       "    </tr>\n",
       "    <tr>\n",
       "      <th>4</th>\n",
       "      <td>HouseAgeSinceRemod</td>\n",
       "      <td>3.133656</td>\n",
       "    </tr>\n",
       "    <tr>\n",
       "      <th>5</th>\n",
       "      <td>TotalBaths</td>\n",
       "      <td>3.119479</td>\n",
       "    </tr>\n",
       "    <tr>\n",
       "      <th>6</th>\n",
       "      <td>LotArea</td>\n",
       "      <td>2.889748</td>\n",
       "    </tr>\n",
       "    <tr>\n",
       "      <th>7</th>\n",
       "      <td>GarageCars</td>\n",
       "      <td>2.385915</td>\n",
       "    </tr>\n",
       "    <tr>\n",
       "      <th>8</th>\n",
       "      <td>GarageYrBlt</td>\n",
       "      <td>2.354373</td>\n",
       "    </tr>\n",
       "    <tr>\n",
       "      <th>9</th>\n",
       "      <td>GrLivArea</td>\n",
       "      <td>2.325904</td>\n",
       "    </tr>\n",
       "    <tr>\n",
       "      <th>10</th>\n",
       "      <td>GarageArea</td>\n",
       "      <td>2.026182</td>\n",
       "    </tr>\n",
       "    <tr>\n",
       "      <th>11</th>\n",
       "      <td>BsmtFinSF1</td>\n",
       "      <td>1.894204</td>\n",
       "    </tr>\n",
       "    <tr>\n",
       "      <th>12</th>\n",
       "      <td>KitchenQual</td>\n",
       "      <td>1.874575</td>\n",
       "    </tr>\n",
       "    <tr>\n",
       "      <th>13</th>\n",
       "      <td>Fireplaces</td>\n",
       "      <td>1.590070</td>\n",
       "    </tr>\n",
       "    <tr>\n",
       "      <th>14</th>\n",
       "      <td>YearRemodAdd</td>\n",
       "      <td>1.369463</td>\n",
       "    </tr>\n",
       "    <tr>\n",
       "      <th>15</th>\n",
       "      <td>BsmtQual</td>\n",
       "      <td>1.272376</td>\n",
       "    </tr>\n",
       "    <tr>\n",
       "      <th>16</th>\n",
       "      <td>BsmtFinType1</td>\n",
       "      <td>1.189138</td>\n",
       "    </tr>\n",
       "    <tr>\n",
       "      <th>17</th>\n",
       "      <td>BsmtUnfSF</td>\n",
       "      <td>1.181349</td>\n",
       "    </tr>\n",
       "    <tr>\n",
       "      <th>18</th>\n",
       "      <td>TotalBsmtSF</td>\n",
       "      <td>1.131980</td>\n",
       "    </tr>\n",
       "    <tr>\n",
       "      <th>19</th>\n",
       "      <td>GarageFinish</td>\n",
       "      <td>1.097489</td>\n",
       "    </tr>\n",
       "  </tbody>\n",
       "</table>\n",
       "</div>"
      ],
      "text/plain": [
       "               feature  importance\n",
       "0       TotalSF_x_Qual   28.221094\n",
       "1              TotalSF    6.574034\n",
       "2          OverallCond    3.464670\n",
       "3          OverallQual    3.323448\n",
       "4   HouseAgeSinceRemod    3.133656\n",
       "5           TotalBaths    3.119479\n",
       "6              LotArea    2.889748\n",
       "7           GarageCars    2.385915\n",
       "8          GarageYrBlt    2.354373\n",
       "9            GrLivArea    2.325904\n",
       "10          GarageArea    2.026182\n",
       "11          BsmtFinSF1    1.894204\n",
       "12         KitchenQual    1.874575\n",
       "13          Fireplaces    1.590070\n",
       "14        YearRemodAdd    1.369463\n",
       "15            BsmtQual    1.272376\n",
       "16        BsmtFinType1    1.189138\n",
       "17           BsmtUnfSF    1.181349\n",
       "18         TotalBsmtSF    1.131980\n",
       "19        GarageFinish    1.097489"
      ]
     },
     "execution_count": 15,
     "metadata": {},
     "output_type": "execute_result"
    }
   ],
   "source": [
    "best_df = variants[ablation.iloc[0][\"variant\"]]   # choose the winning variant\n",
    "final_pipe = cat_pipe_for(best_df)\n",
    "final_pipe.fit(best_df, np.log1p(y))              # log target to match evaluator\n",
    "# back-transform only when predicting, not needed for importances\n",
    "\n",
    "feat_names = final_pipe.named_steps[\"prep\"].get_feature_names_out()\n",
    "importances = final_pipe.named_steps[\"reg\"].get_feature_importance()\n",
    "\n",
    "imp = (pd.DataFrame({\"feature\": feat_names, \"importance\": importances})\n",
    "         .sort_values(\"importance\", ascending=False)\n",
    "         .reset_index(drop=True))\n",
    "imp.head(20)"
   ]
  },
  {
   "cell_type": "code",
   "execution_count": 17,
   "id": "08106065-a4f7-43f5-8e52-50355631832a",
   "metadata": {},
   "outputs": [
    {
     "data": {
      "application/vnd.jupyter.widget-view+json": {
       "model_id": "9d5d68bde276411e9fe1cde48b77a820",
       "version_major": 2,
       "version_minor": 0
      },
      "text/plain": [
       "Models:   0%|          | 0/1 [00:00<?, ?it/s]"
      ]
     },
     "metadata": {},
     "output_type": "display_data"
    },
    {
     "data": {
      "application/vnd.jupyter.widget-view+json": {
       "model_id": "398219feeb01411380da2da43c0253d0",
       "version_major": 2,
       "version_minor": 0
      },
      "text/plain": [
       "CatBoost folds:   0%|          | 0/5 [00:00<?, ?it/s]"
      ]
     },
     "metadata": {},
     "output_type": "display_data"
    },
    {
     "data": {
      "application/vnd.jupyter.widget-view+json": {
       "model_id": "d777c36f08fb467a9948cc564dd02fc9",
       "version_major": 2,
       "version_minor": 0
      },
      "text/plain": [
       "Models:   0%|          | 0/1 [00:00<?, ?it/s]"
      ]
     },
     "metadata": {},
     "output_type": "display_data"
    },
    {
     "data": {
      "application/vnd.jupyter.widget-view+json": {
       "model_id": "0a292925a62343f083271eb293c3bd3f",
       "version_major": 2,
       "version_minor": 0
      },
      "text/plain": [
       "CatBoost folds:   0%|          | 0/5 [00:00<?, ?it/s]"
      ]
     },
     "metadata": {},
     "output_type": "display_data"
    },
    {
     "data": {
      "application/vnd.jupyter.widget-view+json": {
       "model_id": "9e86eca38b32419c9a2b0b3f1d4f247a",
       "version_major": 2,
       "version_minor": 0
      },
      "text/plain": [
       "Models:   0%|          | 0/1 [00:00<?, ?it/s]"
      ]
     },
     "metadata": {},
     "output_type": "display_data"
    },
    {
     "data": {
      "application/vnd.jupyter.widget-view+json": {
       "model_id": "582ac55a0d194518b38d2d22f41781b8",
       "version_major": 2,
       "version_minor": 0
      },
      "text/plain": [
       "CatBoost folds:   0%|          | 0/5 [00:00<?, ?it/s]"
      ]
     },
     "metadata": {},
     "output_type": "display_data"
    },
    {
     "data": {
      "text/html": [
       "<div>\n",
       "<style scoped>\n",
       "    .dataframe tbody tr th:only-of-type {\n",
       "        vertical-align: middle;\n",
       "    }\n",
       "\n",
       "    .dataframe tbody tr th {\n",
       "        vertical-align: top;\n",
       "    }\n",
       "\n",
       "    .dataframe thead th {\n",
       "        text-align: right;\n",
       "    }\n",
       "</style>\n",
       "<table border=\"1\" class=\"dataframe\">\n",
       "  <thead>\n",
       "    <tr style=\"text-align: right;\">\n",
       "      <th></th>\n",
       "      <th>variant</th>\n",
       "      <th>cv_rmse_mean</th>\n",
       "      <th>cv_rmse_std</th>\n",
       "      <th>r2_cv</th>\n",
       "      <th>r2_full</th>\n",
       "    </tr>\n",
       "  </thead>\n",
       "  <tbody>\n",
       "    <tr>\n",
       "      <th>0</th>\n",
       "      <td>All_features</td>\n",
       "      <td>19919.363633</td>\n",
       "      <td>2639.280564</td>\n",
       "      <td>0.928254</td>\n",
       "      <td>0.997781</td>\n",
       "    </tr>\n",
       "    <tr>\n",
       "      <th>1</th>\n",
       "      <td>Dropped_TotalSF</td>\n",
       "      <td>19986.993061</td>\n",
       "      <td>2815.164561</td>\n",
       "      <td>0.927604</td>\n",
       "      <td>0.997802</td>\n",
       "    </tr>\n",
       "    <tr>\n",
       "      <th>2</th>\n",
       "      <td>Dropped_HouseAgeSinceRemod</td>\n",
       "      <td>20145.413686</td>\n",
       "      <td>2787.515940</td>\n",
       "      <td>0.926502</td>\n",
       "      <td>0.997842</td>\n",
       "    </tr>\n",
       "  </tbody>\n",
       "</table>\n",
       "</div>"
      ],
      "text/plain": [
       "                      variant  cv_rmse_mean  cv_rmse_std     r2_cv   r2_full\n",
       "0                All_features  19919.363633  2639.280564  0.928254  0.997781\n",
       "1             Dropped_TotalSF  19986.993061  2815.164561  0.927604  0.997802\n",
       "2  Dropped_HouseAgeSinceRemod  20145.413686  2787.515940  0.926502  0.997842"
      ]
     },
     "execution_count": 17,
     "metadata": {},
     "output_type": "execute_result"
    }
   ],
   "source": [
    "# --- Define the CatBoost pipeline (reuse your helper) ---\n",
    "def cat_pipe_for(df_schema):\n",
    "    return make_catboost_pipe(\n",
    "        df_schema,\n",
    "        depth=8, learning_rate=0.05,\n",
    "        l2_leaf_reg=3.0, iterations=1200,\n",
    "        loss_function=\"RMSE\", verbose=0\n",
    "    )\n",
    "\n",
    "def eval_one(Xmat, label=\"CatBoost\"):\n",
    "    return cv_eval_models(\n",
    "        Xmat, y,\n",
    "        [(label, cat_pipe_for(Xmat))],\n",
    "        cv=5, log_target=True, random_state=42\n",
    "    )\n",
    "\n",
    "# --- Features to test (engineered ones you might want to drop) ---\n",
    "eng_feats_to_test = [\n",
    "    \"TotalSF\",\n",
    "    \"HouseAgeSinceRemod\",\n",
    "    # (TotalBaths and TotalSF_x_Qual are excluded — we already know they're good)\n",
    "]\n",
    "\n",
    "# --- Build variants (baseline = all engineered features) ---\n",
    "variants = {\"All_features\": X_fe.copy()}\n",
    "\n",
    "for f in eng_feats_to_test:\n",
    "    if f in X_fe.columns:\n",
    "        cols = [c for c in X_fe.columns if c != f]\n",
    "        variants[f\"Dropped_{f}\"] = X_fe[cols]\n",
    "\n",
    "# --- Run evaluation ---\n",
    "ablation_rows = []\n",
    "for name, Xv in variants.items():\n",
    "    res = eval_one(Xv, label=\"CatBoost\")\n",
    "    row = res.iloc[0].to_dict()\n",
    "    row[\"variant\"] = name\n",
    "    ablation_rows.append(row)\n",
    "\n",
    "ablation = (\n",
    "    pd.DataFrame(ablation_rows)\n",
    "      .sort_values(\"cv_rmse_mean\")\n",
    "      .reset_index(drop=True)\n",
    ")\n",
    "\n",
    "ablation[[\"variant\",\"cv_rmse_mean\",\"cv_rmse_std\",\"r2_cv\",\"r2_full\"]]"
   ]
  },
  {
   "cell_type": "code",
   "execution_count": 18,
   "id": "9706fe65-6c28-414c-88a5-19972f916121",
   "metadata": {},
   "outputs": [
    {
     "data": {
      "application/vnd.jupyter.widget-view+json": {
       "model_id": "b2a58404836f4f6183b41f55a0ff5403",
       "version_major": 2,
       "version_minor": 0
      },
      "text/plain": [
       "Models:   0%|          | 0/1 [00:00<?, ?it/s]"
      ]
     },
     "metadata": {},
     "output_type": "display_data"
    },
    {
     "data": {
      "application/vnd.jupyter.widget-view+json": {
       "model_id": "7a28ad5f42484935a6fe429b8099664b",
       "version_major": 2,
       "version_minor": 0
      },
      "text/plain": [
       "CatBoost folds:   0%|          | 0/5 [00:00<?, ?it/s]"
      ]
     },
     "metadata": {},
     "output_type": "display_data"
    },
    {
     "data": {
      "application/vnd.jupyter.widget-view+json": {
       "model_id": "8860ee6e849147a5858f3a65fd3cc810",
       "version_major": 2,
       "version_minor": 0
      },
      "text/plain": [
       "Models:   0%|          | 0/1 [00:00<?, ?it/s]"
      ]
     },
     "metadata": {},
     "output_type": "display_data"
    },
    {
     "data": {
      "application/vnd.jupyter.widget-view+json": {
       "model_id": "89a0791c40714ae38d2a7bb3e232f194",
       "version_major": 2,
       "version_minor": 0
      },
      "text/plain": [
       "CatBoost folds:   0%|          | 0/5 [00:00<?, ?it/s]"
      ]
     },
     "metadata": {},
     "output_type": "display_data"
    },
    {
     "data": {
      "text/html": [
       "<div>\n",
       "<style scoped>\n",
       "    .dataframe tbody tr th:only-of-type {\n",
       "        vertical-align: middle;\n",
       "    }\n",
       "\n",
       "    .dataframe tbody tr th {\n",
       "        vertical-align: top;\n",
       "    }\n",
       "\n",
       "    .dataframe thead th {\n",
       "        text-align: right;\n",
       "    }\n",
       "</style>\n",
       "<table border=\"1\" class=\"dataframe\">\n",
       "  <thead>\n",
       "    <tr style=\"text-align: right;\">\n",
       "      <th></th>\n",
       "      <th>drop_set</th>\n",
       "      <th>cv_rmse_mean</th>\n",
       "      <th>cv_rmse_std</th>\n",
       "      <th>r2_cv</th>\n",
       "      <th>r2_full</th>\n",
       "    </tr>\n",
       "  </thead>\n",
       "  <tbody>\n",
       "    <tr>\n",
       "      <th>0</th>\n",
       "      <td>None (All_features)</td>\n",
       "      <td>19919.363633</td>\n",
       "      <td>2639.280564</td>\n",
       "      <td>0.928254</td>\n",
       "      <td>0.997781</td>\n",
       "    </tr>\n",
       "    <tr>\n",
       "      <th>1</th>\n",
       "      <td>Drop: TotalSF + HouseAgeSinceRemod</td>\n",
       "      <td>20291.647002</td>\n",
       "      <td>2755.623649</td>\n",
       "      <td>0.925483</td>\n",
       "      <td>0.997743</td>\n",
       "    </tr>\n",
       "  </tbody>\n",
       "</table>\n",
       "</div>"
      ],
      "text/plain": [
       "                             drop_set  cv_rmse_mean  cv_rmse_std     r2_cv  \\\n",
       "0                 None (All_features)  19919.363633  2639.280564  0.928254   \n",
       "1  Drop: TotalSF + HouseAgeSinceRemod  20291.647002  2755.623649  0.925483   \n",
       "\n",
       "    r2_full  \n",
       "0  0.997781  \n",
       "1  0.997743  "
      ]
     },
     "execution_count": 18,
     "metadata": {},
     "output_type": "execute_result"
    }
   ],
   "source": [
    "import itertools\n",
    "import pandas as pd\n",
    "\n",
    "# Reuse your helpers\n",
    "def cat_pipe_for(df_schema):\n",
    "    return make_catboost_pipe(\n",
    "        df_schema,\n",
    "        depth=8, learning_rate=0.05,\n",
    "        l2_leaf_reg=3.0, iterations=1200,\n",
    "        loss_function=\"RMSE\", verbose=0\n",
    "    )\n",
    "\n",
    "def eval_one(Xmat, label=\"CatBoost\"):\n",
    "    return cv_eval_models(\n",
    "        Xmat, y,\n",
    "        [(label, cat_pipe_for(Xmat))],\n",
    "        cv=5, log_target=True, random_state=42\n",
    "    )\n",
    "\n",
    "# Engineered features worth testing for redundancy in pairs\n",
    "pair_pool = [\n",
    "    \"TotalSF\",\n",
    "    \"HouseAgeSinceRemod\",\n",
    "    # Intentionally NOT including \"TotalBaths\" and \"TotalSF_x_Qual\" — we keep those.\n",
    "]\n",
    "\n",
    "# Baseline row (all features kept)\n",
    "rows = []\n",
    "base_res = eval_one(X_fe, label=\"CatBoost\")\n",
    "base_row = base_res.iloc[0].to_dict()\n",
    "base_row[\"drop_set\"] = \"None (All_features)\"\n",
    "rows.append(base_row)\n",
    "\n",
    "# --- Pairwise drops ---\n",
    "for f1, f2 in itertools.combinations(pair_pool, 2):\n",
    "    cols = [c for c in X_fe.columns if c not in (f1, f2)]\n",
    "    Xv = X_fe[cols]\n",
    "    res = eval_one(Xv, label=\"CatBoost\")\n",
    "    row = res.iloc[0].to_dict()\n",
    "    row[\"drop_set\"] = f\"Drop: {f1} + {f2}\"\n",
    "    rows.append(row)\n",
    "\n",
    "pair_ablation = (\n",
    "    pd.DataFrame(rows)\n",
    "      .sort_values(\"cv_rmse_mean\", ascending=True)\n",
    "      .reset_index(drop=True)\n",
    ")\n",
    "\n",
    "pair_ablation[[\"drop_set\",\"cv_rmse_mean\",\"cv_rmse_std\",\"r2_cv\",\"r2_full\"]]"
   ]
  },
  {
   "cell_type": "code",
   "execution_count": 19,
   "id": "608533f3-ba6e-46e5-afe0-51232e9f011e",
   "metadata": {},
   "outputs": [
    {
     "data": {
      "text/html": [
       "<div>\n",
       "<style scoped>\n",
       "    .dataframe tbody tr th:only-of-type {\n",
       "        vertical-align: middle;\n",
       "    }\n",
       "\n",
       "    .dataframe tbody tr th {\n",
       "        vertical-align: top;\n",
       "    }\n",
       "\n",
       "    .dataframe thead th {\n",
       "        text-align: right;\n",
       "    }\n",
       "</style>\n",
       "<table border=\"1\" class=\"dataframe\">\n",
       "  <thead>\n",
       "    <tr style=\"text-align: right;\">\n",
       "      <th></th>\n",
       "      <th>drop_set</th>\n",
       "      <th>cv_rmse_mean</th>\n",
       "      <th>cv_rmse_std</th>\n",
       "      <th>r2_cv</th>\n",
       "      <th>r2_full</th>\n",
       "    </tr>\n",
       "  </thead>\n",
       "  <tbody>\n",
       "    <tr>\n",
       "      <th>0</th>\n",
       "      <td>None (All_features)</td>\n",
       "      <td>19919.363633</td>\n",
       "      <td>2639.280564</td>\n",
       "      <td>0.928254</td>\n",
       "      <td>0.997781</td>\n",
       "    </tr>\n",
       "  </tbody>\n",
       "</table>\n",
       "</div>"
      ],
      "text/plain": [
       "              drop_set  cv_rmse_mean  cv_rmse_std     r2_cv   r2_full\n",
       "0  None (All_features)  19919.363633  2639.280564  0.928254  0.997781"
      ]
     },
     "execution_count": 19,
     "metadata": {},
     "output_type": "execute_result"
    }
   ],
   "source": [
    "k = 3  # set to 3 for triples; 2 for pairs; etc.\n",
    "rows = []\n",
    "rows.append(base_row)  # from earlier\n",
    "\n",
    "for drop_set in itertools.combinations(pair_pool, k):\n",
    "    cols = [c for c in X_fe.columns if c not in drop_set]\n",
    "    Xv = X_fe[cols]\n",
    "    res = eval_one(Xv, label=\"CatBoost\")\n",
    "    row = res.iloc[0].to_dict()\n",
    "    row[\"drop_set\"] = \"Drop: \" + \" + \".join(drop_set)\n",
    "    rows.append(row)\n",
    "\n",
    "kwise_ablation = (\n",
    "    pd.DataFrame(rows)\n",
    "      .sort_values(\"cv_rmse_mean\", ascending=True)\n",
    "      .reset_index(drop=True)\n",
    ")\n",
    "\n",
    "kwise_ablation[[\"drop_set\",\"cv_rmse_mean\",\"cv_rmse_std\",\"r2_cv\",\"r2_full\"]]"
   ]
  },
  {
   "cell_type": "code",
   "execution_count": 20,
   "id": "a8d0952c-d201-44ea-906d-50b50dfc062f",
   "metadata": {},
   "outputs": [
    {
     "data": {
      "application/vnd.jupyter.widget-view+json": {
       "model_id": "6fb152e4b40c4dce90dd7b40807edcaa",
       "version_major": 2,
       "version_minor": 0
      },
      "text/plain": [
       "Models:   0%|          | 0/1 [00:00<?, ?it/s]"
      ]
     },
     "metadata": {},
     "output_type": "display_data"
    },
    {
     "data": {
      "application/vnd.jupyter.widget-view+json": {
       "model_id": "ff62ea0c8c2c4fd6a6d327e51fdd9eda",
       "version_major": 2,
       "version_minor": 0
      },
      "text/plain": [
       "CatBoost folds:   0%|          | 0/5 [00:00<?, ?it/s]"
      ]
     },
     "metadata": {},
     "output_type": "display_data"
    },
    {
     "data": {
      "application/vnd.jupyter.widget-view+json": {
       "model_id": "acc39eb3655842a2ac28199f8230651f",
       "version_major": 2,
       "version_minor": 0
      },
      "text/plain": [
       "Models:   0%|          | 0/1 [00:00<?, ?it/s]"
      ]
     },
     "metadata": {},
     "output_type": "display_data"
    },
    {
     "data": {
      "application/vnd.jupyter.widget-view+json": {
       "model_id": "f9306f3ab7504e859b111c7519648f11",
       "version_major": 2,
       "version_minor": 0
      },
      "text/plain": [
       "CatBoost folds:   0%|          | 0/5 [00:00<?, ?it/s]"
      ]
     },
     "metadata": {},
     "output_type": "display_data"
    },
    {
     "data": {
      "application/vnd.jupyter.widget-view+json": {
       "model_id": "cbab99f3512b4d45b5b025a835375b04",
       "version_major": 2,
       "version_minor": 0
      },
      "text/plain": [
       "Models:   0%|          | 0/1 [00:00<?, ?it/s]"
      ]
     },
     "metadata": {},
     "output_type": "display_data"
    },
    {
     "data": {
      "application/vnd.jupyter.widget-view+json": {
       "model_id": "a522e2e1792c4cb28fbb76388beabb49",
       "version_major": 2,
       "version_minor": 0
      },
      "text/plain": [
       "CatBoost folds:   0%|          | 0/5 [00:00<?, ?it/s]"
      ]
     },
     "metadata": {},
     "output_type": "display_data"
    },
    {
     "data": {
      "application/vnd.jupyter.widget-view+json": {
       "model_id": "aae4ea5286e14bf88cab808995987188",
       "version_major": 2,
       "version_minor": 0
      },
      "text/plain": [
       "Models:   0%|          | 0/1 [00:00<?, ?it/s]"
      ]
     },
     "metadata": {},
     "output_type": "display_data"
    },
    {
     "data": {
      "application/vnd.jupyter.widget-view+json": {
       "model_id": "13abc05db7c74f86915052c82b57280b",
       "version_major": 2,
       "version_minor": 0
      },
      "text/plain": [
       "CatBoost folds:   0%|          | 0/5 [00:00<?, ?it/s]"
      ]
     },
     "metadata": {},
     "output_type": "display_data"
    },
    {
     "data": {
      "application/vnd.jupyter.widget-view+json": {
       "model_id": "eb61e8fc0cd64a6294f8505f6c540a72",
       "version_major": 2,
       "version_minor": 0
      },
      "text/plain": [
       "Models:   0%|          | 0/1 [00:00<?, ?it/s]"
      ]
     },
     "metadata": {},
     "output_type": "display_data"
    },
    {
     "data": {
      "application/vnd.jupyter.widget-view+json": {
       "model_id": "7e5703f5bb0b4ee08f8bed2a10c7f0fa",
       "version_major": 2,
       "version_minor": 0
      },
      "text/plain": [
       "CatBoost folds:   0%|          | 0/5 [00:00<?, ?it/s]"
      ]
     },
     "metadata": {},
     "output_type": "display_data"
    },
    {
     "data": {
      "application/vnd.jupyter.widget-view+json": {
       "model_id": "f452cd6069eb4597a5fb5c3020159a92",
       "version_major": 2,
       "version_minor": 0
      },
      "text/plain": [
       "Models:   0%|          | 0/1 [00:00<?, ?it/s]"
      ]
     },
     "metadata": {},
     "output_type": "display_data"
    },
    {
     "data": {
      "application/vnd.jupyter.widget-view+json": {
       "model_id": "835109607554476bad8fe69bd578ff34",
       "version_major": 2,
       "version_minor": 0
      },
      "text/plain": [
       "CatBoost folds:   0%|          | 0/5 [00:00<?, ?it/s]"
      ]
     },
     "metadata": {},
     "output_type": "display_data"
    },
    {
     "data": {
      "application/vnd.jupyter.widget-view+json": {
       "model_id": "61b74c8ae34f4e33964167c14857564b",
       "version_major": 2,
       "version_minor": 0
      },
      "text/plain": [
       "Models:   0%|          | 0/1 [00:00<?, ?it/s]"
      ]
     },
     "metadata": {},
     "output_type": "display_data"
    },
    {
     "data": {
      "application/vnd.jupyter.widget-view+json": {
       "model_id": "5bffabd0b4774269ab61a9ded4a9006a",
       "version_major": 2,
       "version_minor": 0
      },
      "text/plain": [
       "CatBoost folds:   0%|          | 0/5 [00:00<?, ?it/s]"
      ]
     },
     "metadata": {},
     "output_type": "display_data"
    },
    {
     "data": {
      "application/vnd.jupyter.widget-view+json": {
       "model_id": "3e47e303dc0d414d9184e6051ea1871e",
       "version_major": 2,
       "version_minor": 0
      },
      "text/plain": [
       "Models:   0%|          | 0/1 [00:00<?, ?it/s]"
      ]
     },
     "metadata": {},
     "output_type": "display_data"
    },
    {
     "data": {
      "application/vnd.jupyter.widget-view+json": {
       "model_id": "5188673224014125b878104c0963ce23",
       "version_major": 2,
       "version_minor": 0
      },
      "text/plain": [
       "CatBoost folds:   0%|          | 0/5 [00:00<?, ?it/s]"
      ]
     },
     "metadata": {},
     "output_type": "display_data"
    },
    {
     "data": {
      "application/vnd.jupyter.widget-view+json": {
       "model_id": "c16776ab79ba4272aa98e3bef2de12a5",
       "version_major": 2,
       "version_minor": 0
      },
      "text/plain": [
       "Models:   0%|          | 0/1 [00:00<?, ?it/s]"
      ]
     },
     "metadata": {},
     "output_type": "display_data"
    },
    {
     "data": {
      "application/vnd.jupyter.widget-view+json": {
       "model_id": "df7fbd1e5d1541aaa6690cef6351f7dd",
       "version_major": 2,
       "version_minor": 0
      },
      "text/plain": [
       "CatBoost folds:   0%|          | 0/5 [00:00<?, ?it/s]"
      ]
     },
     "metadata": {},
     "output_type": "display_data"
    },
    {
     "data": {
      "application/vnd.jupyter.widget-view+json": {
       "model_id": "84eff4c3bb004f758f74691e248b02ed",
       "version_major": 2,
       "version_minor": 0
      },
      "text/plain": [
       "Models:   0%|          | 0/1 [00:00<?, ?it/s]"
      ]
     },
     "metadata": {},
     "output_type": "display_data"
    },
    {
     "data": {
      "application/vnd.jupyter.widget-view+json": {
       "model_id": "7396100f3f5f420b9a3556f5eeeaf7f4",
       "version_major": 2,
       "version_minor": 0
      },
      "text/plain": [
       "CatBoost folds:   0%|          | 0/5 [00:00<?, ?it/s]"
      ]
     },
     "metadata": {},
     "output_type": "display_data"
    },
    {
     "data": {
      "application/vnd.jupyter.widget-view+json": {
       "model_id": "ddea19ebc008471193a60479de1153ea",
       "version_major": 2,
       "version_minor": 0
      },
      "text/plain": [
       "Models:   0%|          | 0/1 [00:00<?, ?it/s]"
      ]
     },
     "metadata": {},
     "output_type": "display_data"
    },
    {
     "data": {
      "application/vnd.jupyter.widget-view+json": {
       "model_id": "0b56b083a9334c5286a0626c839698c4",
       "version_major": 2,
       "version_minor": 0
      },
      "text/plain": [
       "CatBoost folds:   0%|          | 0/5 [00:00<?, ?it/s]"
      ]
     },
     "metadata": {},
     "output_type": "display_data"
    },
    {
     "data": {
      "application/vnd.jupyter.widget-view+json": {
       "model_id": "3cecef9ef9af48b9a6525cdb51ac265f",
       "version_major": 2,
       "version_minor": 0
      },
      "text/plain": [
       "Models:   0%|          | 0/1 [00:00<?, ?it/s]"
      ]
     },
     "metadata": {},
     "output_type": "display_data"
    },
    {
     "data": {
      "application/vnd.jupyter.widget-view+json": {
       "model_id": "84c92e03e6a14eaaa976f60d900bc61a",
       "version_major": 2,
       "version_minor": 0
      },
      "text/plain": [
       "CatBoost folds:   0%|          | 0/5 [00:00<?, ?it/s]"
      ]
     },
     "metadata": {},
     "output_type": "display_data"
    },
    {
     "data": {
      "application/vnd.jupyter.widget-view+json": {
       "model_id": "5a8b52975a2d490a9a9beabb59d68a13",
       "version_major": 2,
       "version_minor": 0
      },
      "text/plain": [
       "Models:   0%|          | 0/1 [00:00<?, ?it/s]"
      ]
     },
     "metadata": {},
     "output_type": "display_data"
    },
    {
     "data": {
      "application/vnd.jupyter.widget-view+json": {
       "model_id": "30bd9e59b51342faa9883de0c379ad9c",
       "version_major": 2,
       "version_minor": 0
      },
      "text/plain": [
       "CatBoost folds:   0%|          | 0/5 [00:00<?, ?it/s]"
      ]
     },
     "metadata": {},
     "output_type": "display_data"
    },
    {
     "data": {
      "application/vnd.jupyter.widget-view+json": {
       "model_id": "5e4fcc4dc7cd41a1968a1d6afeebe38c",
       "version_major": 2,
       "version_minor": 0
      },
      "text/plain": [
       "Models:   0%|          | 0/1 [00:00<?, ?it/s]"
      ]
     },
     "metadata": {},
     "output_type": "display_data"
    },
    {
     "data": {
      "application/vnd.jupyter.widget-view+json": {
       "model_id": "b300e633fcc9420a99ed8b8c122c6a60",
       "version_major": 2,
       "version_minor": 0
      },
      "text/plain": [
       "CatBoost folds:   0%|          | 0/5 [00:00<?, ?it/s]"
      ]
     },
     "metadata": {},
     "output_type": "display_data"
    },
    {
     "data": {
      "application/vnd.jupyter.widget-view+json": {
       "model_id": "0ed1ff72fb6a44ababced89ab09e68df",
       "version_major": 2,
       "version_minor": 0
      },
      "text/plain": [
       "Models:   0%|          | 0/1 [00:00<?, ?it/s]"
      ]
     },
     "metadata": {},
     "output_type": "display_data"
    },
    {
     "data": {
      "application/vnd.jupyter.widget-view+json": {
       "model_id": "7bccf4d717944a1ba24b549218e39209",
       "version_major": 2,
       "version_minor": 0
      },
      "text/plain": [
       "CatBoost folds:   0%|          | 0/5 [00:00<?, ?it/s]"
      ]
     },
     "metadata": {},
     "output_type": "display_data"
    },
    {
     "data": {
      "application/vnd.jupyter.widget-view+json": {
       "model_id": "986f5ec415df4f1999626278118ef1ce",
       "version_major": 2,
       "version_minor": 0
      },
      "text/plain": [
       "Models:   0%|          | 0/1 [00:00<?, ?it/s]"
      ]
     },
     "metadata": {},
     "output_type": "display_data"
    },
    {
     "data": {
      "application/vnd.jupyter.widget-view+json": {
       "model_id": "39e3194c6f8049b99fb1cb7df9d7c377",
       "version_major": 2,
       "version_minor": 0
      },
      "text/plain": [
       "CatBoost folds:   0%|          | 0/5 [00:00<?, ?it/s]"
      ]
     },
     "metadata": {},
     "output_type": "display_data"
    },
    {
     "data": {
      "application/vnd.jupyter.widget-view+json": {
       "model_id": "a0b5f30eacbe48f08e340a4e80191f4e",
       "version_major": 2,
       "version_minor": 0
      },
      "text/plain": [
       "Models:   0%|          | 0/1 [00:00<?, ?it/s]"
      ]
     },
     "metadata": {},
     "output_type": "display_data"
    },
    {
     "data": {
      "application/vnd.jupyter.widget-view+json": {
       "model_id": "18b60bf105d549d6b1da44f3c3aee090",
       "version_major": 2,
       "version_minor": 0
      },
      "text/plain": [
       "CatBoost folds:   0%|          | 0/5 [00:00<?, ?it/s]"
      ]
     },
     "metadata": {},
     "output_type": "display_data"
    },
    {
     "data": {
      "application/vnd.jupyter.widget-view+json": {
       "model_id": "741de02bc0134345807ab6b25c08578d",
       "version_major": 2,
       "version_minor": 0
      },
      "text/plain": [
       "Models:   0%|          | 0/1 [00:00<?, ?it/s]"
      ]
     },
     "metadata": {},
     "output_type": "display_data"
    },
    {
     "data": {
      "application/vnd.jupyter.widget-view+json": {
       "model_id": "526b6389c6c04dabae1a322203b4d86d",
       "version_major": 2,
       "version_minor": 0
      },
      "text/plain": [
       "CatBoost folds:   0%|          | 0/5 [00:00<?, ?it/s]"
      ]
     },
     "metadata": {},
     "output_type": "display_data"
    },
    {
     "data": {
      "application/vnd.jupyter.widget-view+json": {
       "model_id": "722ec3ef224b4afd940631a99bfb8062",
       "version_major": 2,
       "version_minor": 0
      },
      "text/plain": [
       "Models:   0%|          | 0/1 [00:00<?, ?it/s]"
      ]
     },
     "metadata": {},
     "output_type": "display_data"
    },
    {
     "data": {
      "application/vnd.jupyter.widget-view+json": {
       "model_id": "c562a7769664485eb140ff054935f238",
       "version_major": 2,
       "version_minor": 0
      },
      "text/plain": [
       "CatBoost folds:   0%|          | 0/5 [00:00<?, ?it/s]"
      ]
     },
     "metadata": {},
     "output_type": "display_data"
    },
    {
     "data": {
      "application/vnd.jupyter.widget-view+json": {
       "model_id": "40430c52c5ff431497acd2bfb1137b6c",
       "version_major": 2,
       "version_minor": 0
      },
      "text/plain": [
       "Models:   0%|          | 0/1 [00:00<?, ?it/s]"
      ]
     },
     "metadata": {},
     "output_type": "display_data"
    },
    {
     "data": {
      "application/vnd.jupyter.widget-view+json": {
       "model_id": "3d32a6e3686c4cb0ad4d165f7cb84162",
       "version_major": 2,
       "version_minor": 0
      },
      "text/plain": [
       "CatBoost folds:   0%|          | 0/5 [00:00<?, ?it/s]"
      ]
     },
     "metadata": {},
     "output_type": "display_data"
    },
    {
     "data": {
      "text/html": [
       "<div>\n",
       "<style scoped>\n",
       "    .dataframe tbody tr th:only-of-type {\n",
       "        vertical-align: middle;\n",
       "    }\n",
       "\n",
       "    .dataframe tbody tr th {\n",
       "        vertical-align: top;\n",
       "    }\n",
       "\n",
       "    .dataframe thead th {\n",
       "        text-align: right;\n",
       "    }\n",
       "</style>\n",
       "<table border=\"1\" class=\"dataframe\">\n",
       "  <thead>\n",
       "    <tr style=\"text-align: right;\">\n",
       "      <th></th>\n",
       "      <th>model</th>\n",
       "      <th>cv_rmse_mean</th>\n",
       "      <th>cv_rmse_std</th>\n",
       "      <th>r2_cv</th>\n",
       "      <th>r2_full</th>\n",
       "      <th>subsample</th>\n",
       "      <th>learning_rate</th>\n",
       "      <th>l2_leaf_reg</th>\n",
       "      <th>iterations</th>\n",
       "      <th>depth</th>\n",
       "      <th>colsample_bylevel</th>\n",
       "    </tr>\n",
       "  </thead>\n",
       "  <tbody>\n",
       "    <tr>\n",
       "      <th>0</th>\n",
       "      <td>CatBoost</td>\n",
       "      <td>19114.173641</td>\n",
       "      <td>2961.098155</td>\n",
       "      <td>0.933519</td>\n",
       "      <td>0.992759</td>\n",
       "      <td>1.00</td>\n",
       "      <td>0.05</td>\n",
       "      <td>5</td>\n",
       "      <td>1500</td>\n",
       "      <td>6</td>\n",
       "      <td>0.8</td>\n",
       "    </tr>\n",
       "    <tr>\n",
       "      <th>1</th>\n",
       "      <td>CatBoost</td>\n",
       "      <td>19600.268204</td>\n",
       "      <td>2638.925070</td>\n",
       "      <td>0.930496</td>\n",
       "      <td>0.995212</td>\n",
       "      <td>0.85</td>\n",
       "      <td>0.07</td>\n",
       "      <td>7</td>\n",
       "      <td>1500</td>\n",
       "      <td>6</td>\n",
       "      <td>0.6</td>\n",
       "    </tr>\n",
       "    <tr>\n",
       "      <th>2</th>\n",
       "      <td>CatBoost</td>\n",
       "      <td>19710.441200</td>\n",
       "      <td>3059.310554</td>\n",
       "      <td>0.929300</td>\n",
       "      <td>0.998917</td>\n",
       "      <td>0.70</td>\n",
       "      <td>0.10</td>\n",
       "      <td>7</td>\n",
       "      <td>1500</td>\n",
       "      <td>7</td>\n",
       "      <td>0.8</td>\n",
       "    </tr>\n",
       "    <tr>\n",
       "      <th>3</th>\n",
       "      <td>CatBoost</td>\n",
       "      <td>19779.892564</td>\n",
       "      <td>3233.470963</td>\n",
       "      <td>0.928618</td>\n",
       "      <td>0.992532</td>\n",
       "      <td>0.85</td>\n",
       "      <td>0.03</td>\n",
       "      <td>3</td>\n",
       "      <td>2000</td>\n",
       "      <td>6</td>\n",
       "      <td>0.8</td>\n",
       "    </tr>\n",
       "    <tr>\n",
       "      <th>4</th>\n",
       "      <td>CatBoost</td>\n",
       "      <td>19809.291129</td>\n",
       "      <td>2949.957536</td>\n",
       "      <td>0.928723</td>\n",
       "      <td>0.986371</td>\n",
       "      <td>1.00</td>\n",
       "      <td>0.03</td>\n",
       "      <td>1</td>\n",
       "      <td>1000</td>\n",
       "      <td>6</td>\n",
       "      <td>0.8</td>\n",
       "    </tr>\n",
       "    <tr>\n",
       "      <th>5</th>\n",
       "      <td>CatBoost</td>\n",
       "      <td>19871.895178</td>\n",
       "      <td>3241.451255</td>\n",
       "      <td>0.927961</td>\n",
       "      <td>0.988960</td>\n",
       "      <td>0.70</td>\n",
       "      <td>0.05</td>\n",
       "      <td>10</td>\n",
       "      <td>1500</td>\n",
       "      <td>6</td>\n",
       "      <td>1.0</td>\n",
       "    </tr>\n",
       "    <tr>\n",
       "      <th>6</th>\n",
       "      <td>CatBoost</td>\n",
       "      <td>20025.259211</td>\n",
       "      <td>2959.819409</td>\n",
       "      <td>0.927184</td>\n",
       "      <td>0.999012</td>\n",
       "      <td>0.70</td>\n",
       "      <td>0.07</td>\n",
       "      <td>10</td>\n",
       "      <td>2000</td>\n",
       "      <td>8</td>\n",
       "      <td>1.0</td>\n",
       "    </tr>\n",
       "    <tr>\n",
       "      <th>7</th>\n",
       "      <td>CatBoost</td>\n",
       "      <td>20209.969687</td>\n",
       "      <td>2974.669209</td>\n",
       "      <td>0.925848</td>\n",
       "      <td>0.992667</td>\n",
       "      <td>1.00</td>\n",
       "      <td>0.03</td>\n",
       "      <td>5</td>\n",
       "      <td>1500</td>\n",
       "      <td>8</td>\n",
       "      <td>0.8</td>\n",
       "    </tr>\n",
       "    <tr>\n",
       "      <th>8</th>\n",
       "      <td>CatBoost</td>\n",
       "      <td>20226.223615</td>\n",
       "      <td>2486.345171</td>\n",
       "      <td>0.926205</td>\n",
       "      <td>0.998032</td>\n",
       "      <td>1.00</td>\n",
       "      <td>0.03</td>\n",
       "      <td>5</td>\n",
       "      <td>2000</td>\n",
       "      <td>9</td>\n",
       "      <td>0.6</td>\n",
       "    </tr>\n",
       "    <tr>\n",
       "      <th>9</th>\n",
       "      <td>CatBoost</td>\n",
       "      <td>20307.785383</td>\n",
       "      <td>3005.347250</td>\n",
       "      <td>0.925111</td>\n",
       "      <td>0.977986</td>\n",
       "      <td>0.70</td>\n",
       "      <td>0.01</td>\n",
       "      <td>3</td>\n",
       "      <td>2000</td>\n",
       "      <td>7</td>\n",
       "      <td>0.8</td>\n",
       "    </tr>\n",
       "  </tbody>\n",
       "</table>\n",
       "</div>"
      ],
      "text/plain": [
       "      model  cv_rmse_mean  cv_rmse_std     r2_cv   r2_full  subsample  \\\n",
       "0  CatBoost  19114.173641  2961.098155  0.933519  0.992759       1.00   \n",
       "1  CatBoost  19600.268204  2638.925070  0.930496  0.995212       0.85   \n",
       "2  CatBoost  19710.441200  3059.310554  0.929300  0.998917       0.70   \n",
       "3  CatBoost  19779.892564  3233.470963  0.928618  0.992532       0.85   \n",
       "4  CatBoost  19809.291129  2949.957536  0.928723  0.986371       1.00   \n",
       "5  CatBoost  19871.895178  3241.451255  0.927961  0.988960       0.70   \n",
       "6  CatBoost  20025.259211  2959.819409  0.927184  0.999012       0.70   \n",
       "7  CatBoost  20209.969687  2974.669209  0.925848  0.992667       1.00   \n",
       "8  CatBoost  20226.223615  2486.345171  0.926205  0.998032       1.00   \n",
       "9  CatBoost  20307.785383  3005.347250  0.925111  0.977986       0.70   \n",
       "\n",
       "   learning_rate  l2_leaf_reg  iterations  depth  colsample_bylevel  \n",
       "0           0.05            5        1500      6                0.8  \n",
       "1           0.07            7        1500      6                0.6  \n",
       "2           0.10            7        1500      7                0.8  \n",
       "3           0.03            3        2000      6                0.8  \n",
       "4           0.03            1        1000      6                0.8  \n",
       "5           0.05           10        1500      6                1.0  \n",
       "6           0.07           10        2000      8                1.0  \n",
       "7           0.03            5        1500      8                0.8  \n",
       "8           0.03            5        2000      9                0.6  \n",
       "9           0.01            3        2000      7                0.8  "
      ]
     },
     "execution_count": 20,
     "metadata": {},
     "output_type": "execute_result"
    }
   ],
   "source": [
    "from sklearn.model_selection import ParameterSampler\n",
    "\n",
    "param_grid = {\n",
    "    \"depth\": [6, 7, 8, 9, 10],\n",
    "    \"learning_rate\": [0.01, 0.03, 0.05, 0.07, 0.1],\n",
    "    \"l2_leaf_reg\": [1, 3, 5, 7, 10],\n",
    "    \"subsample\": [0.7, 0.85, 1.0],\n",
    "    \"colsample_bylevel\": [0.6, 0.8, 1.0],\n",
    "    \"iterations\": [1000, 1500, 2000],\n",
    "}\n",
    "\n",
    "# sample ~20 random combos for speed\n",
    "param_list = list(ParameterSampler(param_grid, n_iter=20, random_state=42))\n",
    "\n",
    "results = []\n",
    "for params in param_list:\n",
    "    model = make_catboost_pipe(X_fe, **params)\n",
    "    res = cv_eval_models(X_fe, y, [(\"CatBoost\", model)], cv=5, log_target=True, random_state=42)\n",
    "    row = res.iloc[0].to_dict()\n",
    "    row.update(params)\n",
    "    results.append(row)\n",
    "\n",
    "tuning_results = pd.DataFrame(results).sort_values(\"cv_rmse_mean\").reset_index(drop=True)\n",
    "tuning_results.head(10)"
   ]
  },
  {
   "cell_type": "code",
   "execution_count": 22,
   "id": "0b81d0e4-b7dd-41bd-b593-787dc8cb39de",
   "metadata": {
    "scrolled": true
   },
   "outputs": [
    {
     "data": {
      "application/vnd.jupyter.widget-view+json": {
       "model_id": "1aa0ee04b9734e749acdaa26c26d9804",
       "version_major": 2,
       "version_minor": 0
      },
      "text/plain": [
       "Models:   0%|          | 0/1 [00:00<?, ?it/s]"
      ]
     },
     "metadata": {},
     "output_type": "display_data"
    },
    {
     "data": {
      "application/vnd.jupyter.widget-view+json": {
       "model_id": "1ad54f6b787345d0b7000b043339dcbd",
       "version_major": 2,
       "version_minor": 0
      },
      "text/plain": [
       "CatBoost folds:   0%|          | 0/5 [00:00<?, ?it/s]"
      ]
     },
     "metadata": {},
     "output_type": "display_data"
    },
    {
     "data": {
      "application/vnd.jupyter.widget-view+json": {
       "model_id": "1d7edad557104b4cbea6a5c8745e0d43",
       "version_major": 2,
       "version_minor": 0
      },
      "text/plain": [
       "Models:   0%|          | 0/1 [00:00<?, ?it/s]"
      ]
     },
     "metadata": {},
     "output_type": "display_data"
    },
    {
     "data": {
      "application/vnd.jupyter.widget-view+json": {
       "model_id": "5494e21256da4f5d87ddc4b7414f748b",
       "version_major": 2,
       "version_minor": 0
      },
      "text/plain": [
       "CatBoost folds:   0%|          | 0/5 [00:00<?, ?it/s]"
      ]
     },
     "metadata": {},
     "output_type": "display_data"
    },
    {
     "data": {
      "application/vnd.jupyter.widget-view+json": {
       "model_id": "f361a2f5e74f48519269e6f2d1f1dbf5",
       "version_major": 2,
       "version_minor": 0
      },
      "text/plain": [
       "Models:   0%|          | 0/1 [00:00<?, ?it/s]"
      ]
     },
     "metadata": {},
     "output_type": "display_data"
    },
    {
     "data": {
      "application/vnd.jupyter.widget-view+json": {
       "model_id": "9c4a8823c3af4845975cb5236c26c2c4",
       "version_major": 2,
       "version_minor": 0
      },
      "text/plain": [
       "CatBoost folds:   0%|          | 0/5 [00:00<?, ?it/s]"
      ]
     },
     "metadata": {},
     "output_type": "display_data"
    },
    {
     "data": {
      "application/vnd.jupyter.widget-view+json": {
       "model_id": "f74ebb0491e44163996cc71604b8236a",
       "version_major": 2,
       "version_minor": 0
      },
      "text/plain": [
       "Models:   0%|          | 0/1 [00:00<?, ?it/s]"
      ]
     },
     "metadata": {},
     "output_type": "display_data"
    },
    {
     "data": {
      "application/vnd.jupyter.widget-view+json": {
       "model_id": "e99d1c84a8f3499ba1ce44ce59252a15",
       "version_major": 2,
       "version_minor": 0
      },
      "text/plain": [
       "CatBoost folds:   0%|          | 0/5 [00:00<?, ?it/s]"
      ]
     },
     "metadata": {},
     "output_type": "display_data"
    },
    {
     "data": {
      "application/vnd.jupyter.widget-view+json": {
       "model_id": "34215e97b864442d8cba6a803be13c43",
       "version_major": 2,
       "version_minor": 0
      },
      "text/plain": [
       "Models:   0%|          | 0/1 [00:00<?, ?it/s]"
      ]
     },
     "metadata": {},
     "output_type": "display_data"
    },
    {
     "data": {
      "application/vnd.jupyter.widget-view+json": {
       "model_id": "cf7267fd0c264ccc8e7610e79dd170aa",
       "version_major": 2,
       "version_minor": 0
      },
      "text/plain": [
       "CatBoost folds:   0%|          | 0/5 [00:00<?, ?it/s]"
      ]
     },
     "metadata": {},
     "output_type": "display_data"
    },
    {
     "data": {
      "application/vnd.jupyter.widget-view+json": {
       "model_id": "d468fd358adb4424841e7488db3ac23c",
       "version_major": 2,
       "version_minor": 0
      },
      "text/plain": [
       "Models:   0%|          | 0/1 [00:00<?, ?it/s]"
      ]
     },
     "metadata": {},
     "output_type": "display_data"
    },
    {
     "data": {
      "application/vnd.jupyter.widget-view+json": {
       "model_id": "caa03be0a80d4b8ea816951e8edb94a2",
       "version_major": 2,
       "version_minor": 0
      },
      "text/plain": [
       "CatBoost folds:   0%|          | 0/5 [00:00<?, ?it/s]"
      ]
     },
     "metadata": {},
     "output_type": "display_data"
    },
    {
     "data": {
      "application/vnd.jupyter.widget-view+json": {
       "model_id": "e69f09eb02de4f51bd64bf84b8838806",
       "version_major": 2,
       "version_minor": 0
      },
      "text/plain": [
       "Models:   0%|          | 0/1 [00:00<?, ?it/s]"
      ]
     },
     "metadata": {},
     "output_type": "display_data"
    },
    {
     "data": {
      "application/vnd.jupyter.widget-view+json": {
       "model_id": "afc5c824e74b41c6a9cc5a1bd76c6097",
       "version_major": 2,
       "version_minor": 0
      },
      "text/plain": [
       "CatBoost folds:   0%|          | 0/5 [00:00<?, ?it/s]"
      ]
     },
     "metadata": {},
     "output_type": "display_data"
    },
    {
     "data": {
      "application/vnd.jupyter.widget-view+json": {
       "model_id": "eaffc86cfdef4cf4842a9d973a668395",
       "version_major": 2,
       "version_minor": 0
      },
      "text/plain": [
       "Models:   0%|          | 0/1 [00:00<?, ?it/s]"
      ]
     },
     "metadata": {},
     "output_type": "display_data"
    },
    {
     "data": {
      "application/vnd.jupyter.widget-view+json": {
       "model_id": "91786d22f15c41cf9273da41c4ba32d0",
       "version_major": 2,
       "version_minor": 0
      },
      "text/plain": [
       "CatBoost folds:   0%|          | 0/5 [00:00<?, ?it/s]"
      ]
     },
     "metadata": {},
     "output_type": "display_data"
    },
    {
     "data": {
      "text/html": [
       "<div>\n",
       "<style scoped>\n",
       "    .dataframe tbody tr th:only-of-type {\n",
       "        vertical-align: middle;\n",
       "    }\n",
       "\n",
       "    .dataframe tbody tr th {\n",
       "        vertical-align: top;\n",
       "    }\n",
       "\n",
       "    .dataframe thead th {\n",
       "        text-align: right;\n",
       "    }\n",
       "</style>\n",
       "<table border=\"1\" class=\"dataframe\">\n",
       "  <thead>\n",
       "    <tr style=\"text-align: right;\">\n",
       "      <th></th>\n",
       "      <th>model</th>\n",
       "      <th>cv_rmse_mean</th>\n",
       "      <th>cv_rmse_std</th>\n",
       "      <th>r2_cv</th>\n",
       "      <th>r2_full</th>\n",
       "      <th>depth</th>\n",
       "      <th>learning_rate</th>\n",
       "      <th>l2_leaf_reg</th>\n",
       "      <th>iterations</th>\n",
       "      <th>colsample_bylevel</th>\n",
       "      <th>loss_function</th>\n",
       "      <th>verbose</th>\n",
       "      <th>bootstrap_type</th>\n",
       "      <th>bagging_temperature</th>\n",
       "      <th>subsample</th>\n",
       "      <th>grow_policy</th>\n",
       "      <th>min_data_in_leaf</th>\n",
       "      <th>random_strength</th>\n",
       "    </tr>\n",
       "  </thead>\n",
       "  <tbody>\n",
       "    <tr>\n",
       "      <th>0</th>\n",
       "      <td>CatBoost</td>\n",
       "      <td>19305.878999</td>\n",
       "      <td>3391.344055</td>\n",
       "      <td>0.931725</td>\n",
       "      <td>0.993045</td>\n",
       "      <td>6</td>\n",
       "      <td>0.05</td>\n",
       "      <td>5</td>\n",
       "      <td>1500</td>\n",
       "      <td>0.8</td>\n",
       "      <td>RMSE</td>\n",
       "      <td>0</td>\n",
       "      <td>NaN</td>\n",
       "      <td>NaN</td>\n",
       "      <td>1.0</td>\n",
       "      <td>NaN</td>\n",
       "      <td>NaN</td>\n",
       "      <td>2.0</td>\n",
       "    </tr>\n",
       "    <tr>\n",
       "      <th>1</th>\n",
       "      <td>CatBoost</td>\n",
       "      <td>19549.109766</td>\n",
       "      <td>3364.682031</td>\n",
       "      <td>0.930077</td>\n",
       "      <td>0.993239</td>\n",
       "      <td>6</td>\n",
       "      <td>0.05</td>\n",
       "      <td>5</td>\n",
       "      <td>1500</td>\n",
       "      <td>0.8</td>\n",
       "      <td>RMSE</td>\n",
       "      <td>0</td>\n",
       "      <td>NaN</td>\n",
       "      <td>NaN</td>\n",
       "      <td>1.0</td>\n",
       "      <td>NaN</td>\n",
       "      <td>NaN</td>\n",
       "      <td>0.5</td>\n",
       "    </tr>\n",
       "    <tr>\n",
       "      <th>2</th>\n",
       "      <td>CatBoost</td>\n",
       "      <td>19575.859351</td>\n",
       "      <td>3026.260839</td>\n",
       "      <td>0.930276</td>\n",
       "      <td>0.992784</td>\n",
       "      <td>6</td>\n",
       "      <td>0.05</td>\n",
       "      <td>5</td>\n",
       "      <td>1500</td>\n",
       "      <td>0.8</td>\n",
       "      <td>RMSE</td>\n",
       "      <td>0</td>\n",
       "      <td>Bernoulli</td>\n",
       "      <td>NaN</td>\n",
       "      <td>0.7</td>\n",
       "      <td>NaN</td>\n",
       "      <td>NaN</td>\n",
       "      <td>NaN</td>\n",
       "    </tr>\n",
       "    <tr>\n",
       "      <th>3</th>\n",
       "      <td>CatBoost</td>\n",
       "      <td>19621.353158</td>\n",
       "      <td>3100.028820</td>\n",
       "      <td>0.929878</td>\n",
       "      <td>0.993000</td>\n",
       "      <td>6</td>\n",
       "      <td>0.05</td>\n",
       "      <td>5</td>\n",
       "      <td>1500</td>\n",
       "      <td>0.8</td>\n",
       "      <td>RMSE</td>\n",
       "      <td>0</td>\n",
       "      <td>Bernoulli</td>\n",
       "      <td>NaN</td>\n",
       "      <td>0.8</td>\n",
       "      <td>NaN</td>\n",
       "      <td>NaN</td>\n",
       "      <td>NaN</td>\n",
       "    </tr>\n",
       "    <tr>\n",
       "      <th>4</th>\n",
       "      <td>CatBoost</td>\n",
       "      <td>19686.530927</td>\n",
       "      <td>3832.890570</td>\n",
       "      <td>0.928520</td>\n",
       "      <td>0.990832</td>\n",
       "      <td>6</td>\n",
       "      <td>0.05</td>\n",
       "      <td>5</td>\n",
       "      <td>1500</td>\n",
       "      <td>0.8</td>\n",
       "      <td>RMSE</td>\n",
       "      <td>0</td>\n",
       "      <td>Bayesian</td>\n",
       "      <td>1.0</td>\n",
       "      <td>NaN</td>\n",
       "      <td>NaN</td>\n",
       "      <td>NaN</td>\n",
       "      <td>NaN</td>\n",
       "    </tr>\n",
       "    <tr>\n",
       "      <th>5</th>\n",
       "      <td>CatBoost</td>\n",
       "      <td>19932.520929</td>\n",
       "      <td>2715.467136</td>\n",
       "      <td>0.928089</td>\n",
       "      <td>0.996479</td>\n",
       "      <td>6</td>\n",
       "      <td>0.05</td>\n",
       "      <td>5</td>\n",
       "      <td>1500</td>\n",
       "      <td>0.8</td>\n",
       "      <td>RMSE</td>\n",
       "      <td>0</td>\n",
       "      <td>NaN</td>\n",
       "      <td>NaN</td>\n",
       "      <td>1.0</td>\n",
       "      <td>Lossguide</td>\n",
       "      <td>20.0</td>\n",
       "      <td>NaN</td>\n",
       "    </tr>\n",
       "    <tr>\n",
       "      <th>6</th>\n",
       "      <td>CatBoost</td>\n",
       "      <td>20038.601458</td>\n",
       "      <td>2855.394453</td>\n",
       "      <td>0.927197</td>\n",
       "      <td>0.994616</td>\n",
       "      <td>6</td>\n",
       "      <td>0.05</td>\n",
       "      <td>5</td>\n",
       "      <td>1500</td>\n",
       "      <td>0.8</td>\n",
       "      <td>RMSE</td>\n",
       "      <td>0</td>\n",
       "      <td>NaN</td>\n",
       "      <td>NaN</td>\n",
       "      <td>1.0</td>\n",
       "      <td>Lossguide</td>\n",
       "      <td>50.0</td>\n",
       "      <td>NaN</td>\n",
       "    </tr>\n",
       "    <tr>\n",
       "      <th>7</th>\n",
       "      <td>CatBoost</td>\n",
       "      <td>20305.770446</td>\n",
       "      <td>3939.163607</td>\n",
       "      <td>0.923973</td>\n",
       "      <td>0.987423</td>\n",
       "      <td>6</td>\n",
       "      <td>0.05</td>\n",
       "      <td>5</td>\n",
       "      <td>1500</td>\n",
       "      <td>0.8</td>\n",
       "      <td>RMSE</td>\n",
       "      <td>0</td>\n",
       "      <td>Bayesian</td>\n",
       "      <td>2.0</td>\n",
       "      <td>NaN</td>\n",
       "      <td>NaN</td>\n",
       "      <td>NaN</td>\n",
       "      <td>NaN</td>\n",
       "    </tr>\n",
       "  </tbody>\n",
       "</table>\n",
       "</div>"
      ],
      "text/plain": [
       "      model  cv_rmse_mean  cv_rmse_std     r2_cv   r2_full  depth  \\\n",
       "0  CatBoost  19305.878999  3391.344055  0.931725  0.993045      6   \n",
       "1  CatBoost  19549.109766  3364.682031  0.930077  0.993239      6   \n",
       "2  CatBoost  19575.859351  3026.260839  0.930276  0.992784      6   \n",
       "3  CatBoost  19621.353158  3100.028820  0.929878  0.993000      6   \n",
       "4  CatBoost  19686.530927  3832.890570  0.928520  0.990832      6   \n",
       "5  CatBoost  19932.520929  2715.467136  0.928089  0.996479      6   \n",
       "6  CatBoost  20038.601458  2855.394453  0.927197  0.994616      6   \n",
       "7  CatBoost  20305.770446  3939.163607  0.923973  0.987423      6   \n",
       "\n",
       "   learning_rate  l2_leaf_reg  iterations  colsample_bylevel loss_function  \\\n",
       "0           0.05            5        1500                0.8          RMSE   \n",
       "1           0.05            5        1500                0.8          RMSE   \n",
       "2           0.05            5        1500                0.8          RMSE   \n",
       "3           0.05            5        1500                0.8          RMSE   \n",
       "4           0.05            5        1500                0.8          RMSE   \n",
       "5           0.05            5        1500                0.8          RMSE   \n",
       "6           0.05            5        1500                0.8          RMSE   \n",
       "7           0.05            5        1500                0.8          RMSE   \n",
       "\n",
       "   verbose bootstrap_type  bagging_temperature  subsample grow_policy  \\\n",
       "0        0            NaN                  NaN        1.0         NaN   \n",
       "1        0            NaN                  NaN        1.0         NaN   \n",
       "2        0      Bernoulli                  NaN        0.7         NaN   \n",
       "3        0      Bernoulli                  NaN        0.8         NaN   \n",
       "4        0       Bayesian                  1.0        NaN         NaN   \n",
       "5        0            NaN                  NaN        1.0   Lossguide   \n",
       "6        0            NaN                  NaN        1.0   Lossguide   \n",
       "7        0       Bayesian                  2.0        NaN         NaN   \n",
       "\n",
       "   min_data_in_leaf  random_strength  \n",
       "0               NaN              2.0  \n",
       "1               NaN              0.5  \n",
       "2               NaN              NaN  \n",
       "3               NaN              NaN  \n",
       "4               NaN              NaN  \n",
       "5              20.0              NaN  \n",
       "6              50.0              NaN  \n",
       "7               NaN              NaN  "
      ]
     },
     "execution_count": 22,
     "metadata": {},
     "output_type": "execute_result"
    }
   ],
   "source": [
    "from copy import deepcopy\n",
    "\n",
    "base_params = {\n",
    "    \"depth\": 6, \"learning_rate\": 0.05, \"l2_leaf_reg\": 5,\n",
    "    \"iterations\": 1500, \"subsample\": 1.0, \"colsample_bylevel\": 0.8,\n",
    "    \"loss_function\": \"RMSE\", \"verbose\": 0\n",
    "}\n",
    "\n",
    "# Candidate tweaks (note: no subsample on Bayesian, add bagging_temperature)\n",
    "test_variants = [\n",
    "    # Bootstrap strategies\n",
    "    {\"bootstrap_type\": \"Bayesian\",  \"bagging_temperature\": 1.0},         # no subsample\n",
    "    {\"bootstrap_type\": \"Bayesian\",  \"bagging_temperature\": 2.0},         # no subsample\n",
    "    {\"bootstrap_type\": \"Bernoulli\", \"subsample\": 0.8},\n",
    "    {\"bootstrap_type\": \"Bernoulli\", \"subsample\": 0.7},\n",
    "\n",
    "    # Growth policy\n",
    "    {\"grow_policy\": \"Lossguide\", \"min_data_in_leaf\": 20},\n",
    "    {\"grow_policy\": \"Lossguide\", \"min_data_in_leaf\": 50},\n",
    "\n",
    "    # Randomness strength\n",
    "    {\"random_strength\": 0.5},\n",
    "    {\"random_strength\": 2.0},\n",
    "]\n",
    "\n",
    "def sanitize_params(base, tweak):\n",
    "    p = deepcopy(base)\n",
    "    p.update(tweak)\n",
    "\n",
    "    # Handle bootstrap constraints\n",
    "    bt = p.get(\"bootstrap_type\", None)\n",
    "    if bt == \"Bayesian\":\n",
    "        # Bayesian: remove subsample, ensure bagging_temperature present (default to 1.0)\n",
    "        p.pop(\"subsample\", None)\n",
    "        p.setdefault(\"bagging_temperature\", 1.0)\n",
    "    elif bt == \"Bernoulli\":\n",
    "        # Bernoulli: require subsample < 1.0 (set if missing)\n",
    "        p.setdefault(\"subsample\", 0.8)\n",
    "        # bagging_temperature is not used for Bernoulli; safe to drop if present\n",
    "        p.pop(\"bagging_temperature\", None)\n",
    "    else:\n",
    "        # For default bootstrap, bagging_temperature isn’t used\n",
    "        p.pop(\"bagging_temperature\", None)\n",
    "\n",
    "    return p\n",
    "\n",
    "results = []\n",
    "for tweak in test_variants:\n",
    "    params = sanitize_params(base_params, tweak)\n",
    "    model = make_catboost_pipe(X_fe, **params)\n",
    "    res = cv_eval_models(X_fe, y, [(\"CatBoost\", model)], cv=5, log_target=True, random_state=42)\n",
    "    row = res.iloc[0].to_dict()\n",
    "    row.update(params)   # record the actual params used after sanitization\n",
    "    results.append(row)\n",
    "\n",
    "perf_df = (pd.DataFrame(results)\n",
    "             .sort_values(\"cv_rmse_mean\")\n",
    "             .reset_index(drop=True))\n",
    "perf_df"
   ]
  },
  {
   "cell_type": "code",
   "execution_count": 23,
   "id": "88a236e8-77da-427c-9196-6015c4033c93",
   "metadata": {},
   "outputs": [
    {
     "name": "stdout",
     "output_type": "stream",
     "text": [
      "The history saving thread hit an unexpected error (OperationalError('attempt to write a readonly database')).History will not be written to the database.\n"
     ]
    }
   ],
   "source": [
    "from sklearn.model_selection import KFold, StratifiedKFold\n",
    "\n",
    "def cv_eval_models(\n",
    "    X: pd.DataFrame,\n",
    "    y: pd.Series | np.ndarray,\n",
    "    models: list[tuple[str, BaseEstimator]],\n",
    "    *,\n",
    "    cv: int = 5,\n",
    "    random_state: int = 42,\n",
    "    log_target: bool = True,\n",
    "    show_progress: bool = True,\n",
    "    splitter=None,                 # NEW: pass a sklearn splitter here to override KFold\n",
    "    stratify_labels=None           # NEW: labels for stratified splitters (e.g., y-quantiles)\n",
    ") -> pd.DataFrame:\n",
    "    \"\"\"\n",
    "    If `splitter` is provided, we'll use it. For StratifiedKFold, also pass `stratify_labels`.\n",
    "    Otherwise falls back to KFold(cv, shuffle=True).\n",
    "    \"\"\"\n",
    "    y_np = y.to_numpy() if hasattr(y, \"to_numpy\") else np.asarray(y)\n",
    "    if splitter is None:\n",
    "        kf = KFold(n_splits=cv, shuffle=True, random_state=random_state)\n",
    "        splits = list(kf.split(X))\n",
    "    else:\n",
    "        # For StratifiedKFold, we need labels; otherwise y is fine.\n",
    "        if isinstance(splitter, StratifiedKFold):\n",
    "            if stratify_labels is None:\n",
    "                raise ValueError(\"Pass stratify_labels when using StratifiedKFold\")\n",
    "            splits = list(splitter.split(X, stratify_labels))\n",
    "        else:\n",
    "            splits = list(splitter.split(X))\n",
    "\n",
    "    rows = []\n",
    "    model_iter = models\n",
    "    if show_progress:\n",
    "        from tqdm.notebook import tqdm\n",
    "        model_iter = tqdm(models, desc=\"Models\", leave=True)\n",
    "\n",
    "    for name, est in model_iter:\n",
    "        fold_rmses, oof = [], np.zeros(len(y_np), dtype=float)\n",
    "        if show_progress:\n",
    "            from tqdm.notebook import tqdm\n",
    "            fold_iter = tqdm(splits, desc=f\"{name} folds\", leave=False)\n",
    "        else:\n",
    "            fold_iter = splits\n",
    "\n",
    "        for tr, va in fold_iter:\n",
    "            X_tr, X_va = X.iloc[tr], X.iloc[va]\n",
    "            y_tr, y_va = y_np[tr], y_np[va]\n",
    "\n",
    "            y_tr_used = np.log1p(y_tr) if log_target else y_tr\n",
    "            est.fit(X_tr, y_tr_used)\n",
    "\n",
    "            pred = est.predict(X_va)\n",
    "            if log_target:\n",
    "                pred = np.expm1(pred)\n",
    "\n",
    "            fold_rmses.append(float(np.sqrt(((y_va - pred) ** 2).mean())))\n",
    "            oof[va] = pred\n",
    "\n",
    "        # full fit for r2_full\n",
    "        y_full_used = np.log1p(y_np) if log_target else y_np\n",
    "        est.fit(X, y_full_used)\n",
    "        y_full = est.predict(X)\n",
    "        if log_target:\n",
    "            y_full = np.expm1(y_full)\n",
    "\n",
    "        rows.append({\n",
    "            \"model\": name,\n",
    "            \"cv_rmse_mean\": float(np.mean(fold_rmses)),\n",
    "            \"cv_rmse_std\":  float(np.std(fold_rmses, ddof=0)),\n",
    "            \"r2_cv\":  float(r2_score(y_np, oof)),\n",
    "            \"r2_full\": float(r2_score(y_np, y_full)),\n",
    "        })\n",
    "\n",
    "    return pd.DataFrame(rows).sort_values(\"cv_rmse_mean\").reset_index(drop=True)"
   ]
  },
  {
   "cell_type": "code",
   "execution_count": 24,
   "id": "c72f4122-fa89-4e3c-a8ee-5d3b3b4b2aad",
   "metadata": {},
   "outputs": [],
   "source": [
    "def make_price_strata(y, n_bins: int = 10):\n",
    "    # Balanced bins for continuous targets\n",
    "    return pd.qcut(y, q=n_bins, labels=False, duplicates=\"drop\")"
   ]
  },
  {
   "cell_type": "code",
   "execution_count": 25,
   "id": "73c1c5f9-dce5-4b0c-9aae-cd225f9de8e0",
   "metadata": {},
   "outputs": [
    {
     "data": {
      "application/vnd.jupyter.widget-view+json": {
       "model_id": "781e82ee47c84302b2a4b456357708f9",
       "version_major": 2,
       "version_minor": 0
      },
      "text/plain": [
       "Models:   0%|          | 0/1 [00:00<?, ?it/s]"
      ]
     },
     "metadata": {},
     "output_type": "display_data"
    },
    {
     "data": {
      "application/vnd.jupyter.widget-view+json": {
       "model_id": "74f11a2c1a064cc4ac4bc6849671709b",
       "version_major": 2,
       "version_minor": 0
      },
      "text/plain": [
       "CatBoost (tuned, strat10) folds:   0%|          | 0/10 [00:00<?, ?it/s]"
      ]
     },
     "metadata": {},
     "output_type": "display_data"
    },
    {
     "data": {
      "text/html": [
       "<div>\n",
       "<style scoped>\n",
       "    .dataframe tbody tr th:only-of-type {\n",
       "        vertical-align: middle;\n",
       "    }\n",
       "\n",
       "    .dataframe tbody tr th {\n",
       "        vertical-align: top;\n",
       "    }\n",
       "\n",
       "    .dataframe thead th {\n",
       "        text-align: right;\n",
       "    }\n",
       "</style>\n",
       "<table border=\"1\" class=\"dataframe\">\n",
       "  <thead>\n",
       "    <tr style=\"text-align: right;\">\n",
       "      <th></th>\n",
       "      <th>model</th>\n",
       "      <th>cv_rmse_mean</th>\n",
       "      <th>cv_rmse_std</th>\n",
       "      <th>r2_cv</th>\n",
       "      <th>r2_full</th>\n",
       "    </tr>\n",
       "  </thead>\n",
       "  <tbody>\n",
       "    <tr>\n",
       "      <th>0</th>\n",
       "      <td>CatBoost (tuned, strat10)</td>\n",
       "      <td>19481.544551</td>\n",
       "      <td>4410.524728</td>\n",
       "      <td>0.929101</td>\n",
       "      <td>0.992759</td>\n",
       "    </tr>\n",
       "  </tbody>\n",
       "</table>\n",
       "</div>"
      ],
      "text/plain": [
       "                       model  cv_rmse_mean  cv_rmse_std     r2_cv   r2_full\n",
       "0  CatBoost (tuned, strat10)  19481.544551  4410.524728  0.929101  0.992759"
      ]
     },
     "execution_count": 25,
     "metadata": {},
     "output_type": "execute_result"
    }
   ],
   "source": [
    "# Your best CatBoost params from tuning\n",
    "best_params = dict(\n",
    "    depth=6, learning_rate=0.05, l2_leaf_reg=5,\n",
    "    iterations=1500, subsample=1.0, colsample_bylevel=0.8,\n",
    "    loss_function=\"RMSE\", verbose=0\n",
    ")\n",
    "\n",
    "final_X = X_fe  # <- use your refined X_fe (after dropping RanchColonial, HouseAge, etc.)\n",
    "final_model = make_catboost_pipe(final_X, **best_params)\n",
    "\n",
    "# 10-fold STRATIFIED by price quantiles\n",
    "y_bins = make_price_strata(y, n_bins=10)\n",
    "skf10 = StratifiedKFold(n_splits=10, shuffle=True, random_state=42)\n",
    "\n",
    "lb_strat10 = cv_eval_models(\n",
    "    final_X, y,\n",
    "    models=[(\"CatBoost (tuned, strat10)\", final_model)],\n",
    "    splitter=skf10,\n",
    "    stratify_labels=y_bins,\n",
    "    log_target=True,\n",
    "    show_progress=True\n",
    ")\n",
    "lb_strat10"
   ]
  },
  {
   "cell_type": "code",
   "execution_count": 26,
   "id": "aaa69f88-06a9-4a61-86ac-7898807dab73",
   "metadata": {},
   "outputs": [
    {
     "data": {
      "text/html": [
       "<div>\n",
       "<style scoped>\n",
       "    .dataframe tbody tr th:only-of-type {\n",
       "        vertical-align: middle;\n",
       "    }\n",
       "\n",
       "    .dataframe tbody tr th {\n",
       "        vertical-align: top;\n",
       "    }\n",
       "\n",
       "    .dataframe thead th {\n",
       "        text-align: right;\n",
       "    }\n",
       "</style>\n",
       "<table border=\"1\" class=\"dataframe\">\n",
       "  <thead>\n",
       "    <tr style=\"text-align: right;\">\n",
       "      <th></th>\n",
       "      <th>model</th>\n",
       "      <th>cv_rmse_mean</th>\n",
       "      <th>cv_rmse_std</th>\n",
       "      <th>r2_cv</th>\n",
       "      <th>r2_full</th>\n",
       "    </tr>\n",
       "  </thead>\n",
       "  <tbody>\n",
       "    <tr>\n",
       "      <th>0</th>\n",
       "      <td>CatBoost (tuned, kf5)</td>\n",
       "      <td>19114.173641</td>\n",
       "      <td>2961.098155</td>\n",
       "      <td>0.933519</td>\n",
       "      <td>0.992759</td>\n",
       "    </tr>\n",
       "    <tr>\n",
       "      <th>1</th>\n",
       "      <td>CatBoost (tuned, kf10)</td>\n",
       "      <td>19271.036848</td>\n",
       "      <td>4262.889590</td>\n",
       "      <td>0.930778</td>\n",
       "      <td>0.992759</td>\n",
       "    </tr>\n",
       "    <tr>\n",
       "      <th>2</th>\n",
       "      <td>CatBoost (tuned, strat10)</td>\n",
       "      <td>19481.544551</td>\n",
       "      <td>4410.524728</td>\n",
       "      <td>0.929101</td>\n",
       "      <td>0.992759</td>\n",
       "    </tr>\n",
       "  </tbody>\n",
       "</table>\n",
       "</div>"
      ],
      "text/plain": [
       "                       model  cv_rmse_mean  cv_rmse_std     r2_cv   r2_full\n",
       "0      CatBoost (tuned, kf5)  19114.173641  2961.098155  0.933519  0.992759\n",
       "1     CatBoost (tuned, kf10)  19271.036848  4262.889590  0.930778  0.992759\n",
       "2  CatBoost (tuned, strat10)  19481.544551  4410.524728  0.929101  0.992759"
      ]
     },
     "execution_count": 26,
     "metadata": {},
     "output_type": "execute_result"
    }
   ],
   "source": [
    "# Plain 5-fold KFold (your original baseline)\n",
    "lb_kf5 = cv_eval_models(final_X, y, [(\"CatBoost (tuned, kf5)\", final_model)],\n",
    "                        cv=5, log_target=True, random_state=42, show_progress=False)\n",
    "\n",
    "# Plain 10-fold KFold\n",
    "kf10 = KFold(n_splits=10, shuffle=True, random_state=42)\n",
    "lb_kf10 = cv_eval_models(final_X, y, [(\"CatBoost (tuned, kf10)\", final_model)],\n",
    "                         splitter=kf10, log_target=True, show_progress=False)\n",
    "\n",
    "pd.concat([lb_kf5, lb_kf10, lb_strat10], ignore_index=True)"
   ]
  },
  {
   "cell_type": "code",
   "execution_count": 31,
   "id": "742fcf9c-6faa-48b0-a828-9d8d12fe2384",
   "metadata": {},
   "outputs": [
    {
     "name": "stdout",
     "output_type": "stream",
     "text": [
      "Final CatBoost model trained and saved as cb_final.pkl\n"
     ]
    }
   ],
   "source": [
    "# === Final CatBoost model ===\n",
    "best_params = dict(\n",
    "    depth=6,\n",
    "    learning_rate=0.05,\n",
    "    l2_leaf_reg=5,\n",
    "    iterations=1500,\n",
    "    subsample=1.0,\n",
    "    colsample_bylevel=0.8,\n",
    "    loss_function=\"RMSE\",\n",
    "    verbose=0,\n",
    "    random_state=42\n",
    ")\n",
    "\n",
    "cb_final = make_catboost_pipe(X_fe, **best_params)\n",
    "\n",
    "# Fit on the full dataset (log-transform target for consistency)\n",
    "cb_final.fit(X_fe, np.log1p(y))\n",
    "\n",
    "# Save the model pipeline to disk\n",
    "import joblib\n",
    "joblib.dump(cb_final, \"cb_final.pkl\")\n",
    "\n",
    "print(\"Final CatBoost model trained and saved as cb_final.pkl\")"
   ]
  },
  {
   "cell_type": "code",
   "execution_count": 33,
   "id": "0822dbb5-7e4c-439e-bf1d-5170097cdb59",
   "metadata": {},
   "outputs": [
    {
     "name": "stdout",
     "output_type": "stream",
     "text": [
      "=== Final CatBoost Model Performance ===\n",
      "Train RMSE: 5,527, R²: 0.994\n",
      " Test RMSE: 19,016, R²: 0.941\n",
      "\n",
      "Model saved as cb_final.pkl\n",
      "Performance summary saved as cb_final_scorecard.txt\n"
     ]
    }
   ],
   "source": [
    "from sklearn.model_selection import train_test_split\n",
    "from sklearn.metrics import mean_squared_error, r2_score\n",
    "import numpy as np\n",
    "import joblib\n",
    "\n",
    "def rmse(y_true, y_pred):\n",
    "    return np.sqrt(mean_squared_error(y_true, y_pred))\n",
    "\n",
    "# === Final CatBoost tuned parameters ===\n",
    "best_params = dict(\n",
    "    depth=6,\n",
    "    learning_rate=0.05,\n",
    "    l2_leaf_reg=5,\n",
    "    iterations=1500,\n",
    "    subsample=1.0,\n",
    "    colsample_bylevel=0.8,\n",
    "    loss_function=\"RMSE\",\n",
    "    verbose=0,\n",
    "    random_state=42\n",
    ")\n",
    "\n",
    "# Build pipeline\n",
    "cb_final = make_catboost_pipe(X_fe, **best_params)\n",
    "\n",
    "# Train/test split (20% holdout)\n",
    "X_train, X_test, y_train, y_test = train_test_split(\n",
    "    X_fe, y, test_size=0.2, random_state=42\n",
    ")\n",
    "\n",
    "# Fit on train (log target for consistency)\n",
    "cb_final.fit(X_train, np.log1p(y_train))\n",
    "\n",
    "# Predictions (invert log)\n",
    "y_pred_train = np.expm1(cb_final.predict(X_train))\n",
    "y_pred_test  = np.expm1(cb_final.predict(X_test))\n",
    "\n",
    "# Performance metrics\n",
    "rmse_train = rmse(y_train, y_pred_train)\n",
    "r2_train   = r2_score(y_train, y_pred_train)\n",
    "\n",
    "rmse_test  = rmse(y_test, y_pred_test)\n",
    "r2_test    = r2_score(y_test, y_pred_test)\n",
    "\n",
    "print(\"=== Final CatBoost Model Performance ===\")\n",
    "print(f\"Train RMSE: {rmse_train:,.0f}, R²: {r2_train:.3f}\")\n",
    "print(f\" Test RMSE: {rmse_test:,.0f}, R²: {r2_test:.3f}\")\n",
    "\n",
    "# Save model and metrics\n",
    "joblib.dump(cb_final, \"cb_final.pkl\")\n",
    "with open(\"cb_final_scorecard.txt\", \"w\") as f:\n",
    "    f.write(\"Final CatBoost Model Performance\\n\")\n",
    "    f.write(f\"Train RMSE: {rmse_train:,.0f}, R²: {r2_train:.3f}\\n\")\n",
    "    f.write(f\" Test RMSE: {rmse_test:,.0f}, R²: {r2_test:.3f}\\n\")\n",
    "\n",
    "print(\"\\nModel saved as cb_final.pkl\")\n",
    "print(\"Performance summary saved as cb_final_scorecard.txt\")"
   ]
  },
  {
   "cell_type": "code",
   "execution_count": 34,
   "id": "b7b2e9a0-ead4-4312-871b-69c71393b5fc",
   "metadata": {},
   "outputs": [
    {
     "data": {
      "application/vnd.jupyter.widget-view+json": {
       "model_id": "c907e85994754df392e5f0d0ecdbcfd4",
       "version_major": 2,
       "version_minor": 0
      },
      "text/plain": [
       "Models:   0%|          | 0/1 [00:00<?, ?it/s]"
      ]
     },
     "metadata": {},
     "output_type": "display_data"
    },
    {
     "data": {
      "application/vnd.jupyter.widget-view+json": {
       "model_id": "0877f45d0e6e499380286447594ca5fc",
       "version_major": 2,
       "version_minor": 0
      },
      "text/plain": [
       "CatBoost folds:   0%|          | 0/5 [00:00<?, ?it/s]"
      ]
     },
     "metadata": {},
     "output_type": "display_data"
    },
    {
     "data": {
      "application/vnd.jupyter.widget-view+json": {
       "model_id": "9aeee804061e4aeaa8be7edd72a91887",
       "version_major": 2,
       "version_minor": 0
      },
      "text/plain": [
       "Models:   0%|          | 0/1 [00:00<?, ?it/s]"
      ]
     },
     "metadata": {},
     "output_type": "display_data"
    },
    {
     "data": {
      "application/vnd.jupyter.widget-view+json": {
       "model_id": "02af2c63c8e1479f935915403f838d30",
       "version_major": 2,
       "version_minor": 0
      },
      "text/plain": [
       "CatBoost folds:   0%|          | 0/5 [00:00<?, ?it/s]"
      ]
     },
     "metadata": {},
     "output_type": "display_data"
    },
    {
     "data": {
      "application/vnd.jupyter.widget-view+json": {
       "model_id": "35490d61adc4404791bffd3466984e12",
       "version_major": 2,
       "version_minor": 0
      },
      "text/plain": [
       "Models:   0%|          | 0/1 [00:00<?, ?it/s]"
      ]
     },
     "metadata": {},
     "output_type": "display_data"
    },
    {
     "data": {
      "application/vnd.jupyter.widget-view+json": {
       "model_id": "a5eac53927f84dc9bdf97987f59cc173",
       "version_major": 2,
       "version_minor": 0
      },
      "text/plain": [
       "CatBoost folds:   0%|          | 0/5 [00:00<?, ?it/s]"
      ]
     },
     "metadata": {},
     "output_type": "display_data"
    },
    {
     "data": {
      "application/vnd.jupyter.widget-view+json": {
       "model_id": "62b78b6cb24c4a9db97c5119cd98481a",
       "version_major": 2,
       "version_minor": 0
      },
      "text/plain": [
       "Models:   0%|          | 0/1 [00:00<?, ?it/s]"
      ]
     },
     "metadata": {},
     "output_type": "display_data"
    },
    {
     "data": {
      "application/vnd.jupyter.widget-view+json": {
       "model_id": "0c13646c5f554a1895cbdc8f327ce13c",
       "version_major": 2,
       "version_minor": 0
      },
      "text/plain": [
       "CatBoost folds:   0%|          | 0/5 [00:00<?, ?it/s]"
      ]
     },
     "metadata": {},
     "output_type": "display_data"
    },
    {
     "data": {
      "application/vnd.jupyter.widget-view+json": {
       "model_id": "8ab5b3f92d144bde996c5269398308a5",
       "version_major": 2,
       "version_minor": 0
      },
      "text/plain": [
       "Models:   0%|          | 0/1 [00:00<?, ?it/s]"
      ]
     },
     "metadata": {},
     "output_type": "display_data"
    },
    {
     "data": {
      "application/vnd.jupyter.widget-view+json": {
       "model_id": "76d6346988144ba7830654a390970653",
       "version_major": 2,
       "version_minor": 0
      },
      "text/plain": [
       "CatBoost folds:   0%|          | 0/5 [00:00<?, ?it/s]"
      ]
     },
     "metadata": {},
     "output_type": "display_data"
    },
    {
     "data": {
      "text/html": [
       "<div>\n",
       "<style scoped>\n",
       "    .dataframe tbody tr th:only-of-type {\n",
       "        vertical-align: middle;\n",
       "    }\n",
       "\n",
       "    .dataframe tbody tr th {\n",
       "        vertical-align: top;\n",
       "    }\n",
       "\n",
       "    .dataframe thead th {\n",
       "        text-align: right;\n",
       "    }\n",
       "</style>\n",
       "<table border=\"1\" class=\"dataframe\">\n",
       "  <thead>\n",
       "    <tr style=\"text-align: right;\">\n",
       "      <th></th>\n",
       "      <th>model</th>\n",
       "      <th>cv_rmse_mean</th>\n",
       "      <th>cv_rmse_std</th>\n",
       "      <th>r2_cv</th>\n",
       "      <th>r2_full</th>\n",
       "      <th>coeffs</th>\n",
       "    </tr>\n",
       "  </thead>\n",
       "  <tbody>\n",
       "    <tr>\n",
       "      <th>0</th>\n",
       "      <td>CatBoost</td>\n",
       "      <td>19724.101584</td>\n",
       "      <td>3475.382393</td>\n",
       "      <td>0.928722</td>\n",
       "      <td>0.993290</td>\n",
       "      <td>(1.0, 0.4, 1.2, 0.5)</td>\n",
       "    </tr>\n",
       "    <tr>\n",
       "      <th>1</th>\n",
       "      <td>CatBoost</td>\n",
       "      <td>19729.343816</td>\n",
       "      <td>3584.794800</td>\n",
       "      <td>0.928547</td>\n",
       "      <td>0.992842</td>\n",
       "      <td>(1.0, 0.5, 1.0, 0.25)</td>\n",
       "    </tr>\n",
       "    <tr>\n",
       "      <th>2</th>\n",
       "      <td>CatBoost</td>\n",
       "      <td>19763.853539</td>\n",
       "      <td>3343.080978</td>\n",
       "      <td>0.928603</td>\n",
       "      <td>0.992796</td>\n",
       "      <td>(1.0, 0.5, 1.0, 0.5)</td>\n",
       "    </tr>\n",
       "    <tr>\n",
       "      <th>3</th>\n",
       "      <td>CatBoost</td>\n",
       "      <td>19796.708920</td>\n",
       "      <td>3314.102918</td>\n",
       "      <td>0.928406</td>\n",
       "      <td>0.993112</td>\n",
       "      <td>(1.0, 0.5, 1.5, 0.75)</td>\n",
       "    </tr>\n",
       "    <tr>\n",
       "      <th>4</th>\n",
       "      <td>CatBoost</td>\n",
       "      <td>19948.026445</td>\n",
       "      <td>3328.172004</td>\n",
       "      <td>0.927321</td>\n",
       "      <td>0.993169</td>\n",
       "      <td>(1.0, 0.5, 1.2, 0.6)</td>\n",
       "    </tr>\n",
       "  </tbody>\n",
       "</table>\n",
       "</div>"
      ],
      "text/plain": [
       "      model  cv_rmse_mean  cv_rmse_std     r2_cv   r2_full  \\\n",
       "0  CatBoost  19724.101584  3475.382393  0.928722  0.993290   \n",
       "1  CatBoost  19729.343816  3584.794800  0.928547  0.992842   \n",
       "2  CatBoost  19763.853539  3343.080978  0.928603  0.992796   \n",
       "3  CatBoost  19796.708920  3314.102918  0.928406  0.993112   \n",
       "4  CatBoost  19948.026445  3328.172004  0.927321  0.993169   \n",
       "\n",
       "                  coeffs  \n",
       "0   (1.0, 0.4, 1.2, 0.5)  \n",
       "1  (1.0, 0.5, 1.0, 0.25)  \n",
       "2   (1.0, 0.5, 1.0, 0.5)  \n",
       "3  (1.0, 0.5, 1.5, 0.75)  \n",
       "4   (1.0, 0.5, 1.2, 0.6)  "
      ]
     },
     "metadata": {},
     "output_type": "display_data"
    }
   ],
   "source": [
    "from itertools import product\n",
    "\n",
    "# Define candidate weights (FullBath, HalfBath, BsmtFullBath, BsmtHalfBath)\n",
    "coeff_grid = [\n",
    "    (1.0, 0.5, 1.0, 0.5),   # classic\n",
    "    (1.0, 0.5, 1.2, 0.6),   # your current\n",
    "    (1.0, 0.5, 1.0, 0.25),  # basement smaller\n",
    "    (1.0, 0.5, 1.5, 0.75),  # basement larger\n",
    "    (1.0, 0.4, 1.2, 0.5),   # tweak half bath smaller\n",
    "]\n",
    "\n",
    "results = []\n",
    "\n",
    "for coeffs in coeff_grid:\n",
    "    w_full, w_half, w_bfull, w_bhalf = coeffs\n",
    "    \n",
    "    # Rebuild X with new TotalBaths\n",
    "    X_test = X_fe.copy()\n",
    "    X_test[\"TotalBaths\"] = (\n",
    "        w_full  * Ames[\"FullBath\"].fillna(0) +\n",
    "        w_half  * Ames[\"HalfBath\"].fillna(0) +\n",
    "        w_bfull * Ames[\"BsmtFullBath\"].fillna(0) +\n",
    "        w_bhalf * Ames[\"BsmtHalfBath\"].fillna(0)\n",
    "    )\n",
    "    \n",
    "    # Build model\n",
    "    model = make_catboost_pipe(\n",
    "        X_test,\n",
    "        depth=6,\n",
    "        learning_rate=0.05,\n",
    "        l2_leaf_reg=5,\n",
    "        iterations=1500,\n",
    "        colsample_bylevel=0.8,\n",
    "        loss_function=\"RMSE\",\n",
    "        verbose=0\n",
    "    )\n",
    "    \n",
    "    # Evaluate with 5-fold CV\n",
    "    res = cv_eval_models(\n",
    "        X_test, y,\n",
    "        [(\"CatBoost\", model)],\n",
    "        cv=5,\n",
    "        log_target=True,\n",
    "        random_state=42\n",
    "    )\n",
    "    row = res.iloc[0].to_dict()\n",
    "    row[\"coeffs\"] = coeffs\n",
    "    results.append(row)\n",
    "\n",
    "# Convert to DataFrame and sort by RMSE\n",
    "bath_weight_results = pd.DataFrame(results).sort_values(\"cv_rmse_mean\").reset_index(drop=True)\n",
    "display(bath_weight_results)"
   ]
  },
  {
   "cell_type": "code",
   "execution_count": 35,
   "id": "059f23ea-6ed3-4bbb-8a10-7dcef21b2555",
   "metadata": {},
   "outputs": [
    {
     "data": {
      "application/vnd.jupyter.widget-view+json": {
       "model_id": "4ace66f792634df8b213d0c6f86fa3c7",
       "version_major": 2,
       "version_minor": 0
      },
      "text/plain": [
       "Bath weight grid:   0%|          | 0/80 [00:00<?, ?it/s]"
      ]
     },
     "metadata": {},
     "output_type": "display_data"
    },
    {
     "data": {
      "application/vnd.jupyter.widget-view+json": {
       "model_id": "55ee026303114de6a6a476a617b0cf78",
       "version_major": 2,
       "version_minor": 0
      },
      "text/plain": [
       "Models:   0%|          | 0/1 [00:00<?, ?it/s]"
      ]
     },
     "metadata": {},
     "output_type": "display_data"
    },
    {
     "data": {
      "application/vnd.jupyter.widget-view+json": {
       "model_id": "d867add773d9422ca99e864b444938ca",
       "version_major": 2,
       "version_minor": 0
      },
      "text/plain": [
       "CatBoost folds:   0%|          | 0/5 [00:00<?, ?it/s]"
      ]
     },
     "metadata": {},
     "output_type": "display_data"
    },
    {
     "data": {
      "application/vnd.jupyter.widget-view+json": {
       "model_id": "8bf775c0b9094cebac765088415b4a27",
       "version_major": 2,
       "version_minor": 0
      },
      "text/plain": [
       "Models:   0%|          | 0/1 [00:00<?, ?it/s]"
      ]
     },
     "metadata": {},
     "output_type": "display_data"
    },
    {
     "data": {
      "application/vnd.jupyter.widget-view+json": {
       "model_id": "7968e3bbf6034fb8aebbf20ad6e7c129",
       "version_major": 2,
       "version_minor": 0
      },
      "text/plain": [
       "CatBoost folds:   0%|          | 0/5 [00:00<?, ?it/s]"
      ]
     },
     "metadata": {},
     "output_type": "display_data"
    },
    {
     "data": {
      "application/vnd.jupyter.widget-view+json": {
       "model_id": "148841381f2f489280cf3476c8909f02",
       "version_major": 2,
       "version_minor": 0
      },
      "text/plain": [
       "Models:   0%|          | 0/1 [00:00<?, ?it/s]"
      ]
     },
     "metadata": {},
     "output_type": "display_data"
    },
    {
     "data": {
      "application/vnd.jupyter.widget-view+json": {
       "model_id": "97d660f2d7e84fc59683f9d6ede86e08",
       "version_major": 2,
       "version_minor": 0
      },
      "text/plain": [
       "CatBoost folds:   0%|          | 0/5 [00:00<?, ?it/s]"
      ]
     },
     "metadata": {},
     "output_type": "display_data"
    },
    {
     "data": {
      "application/vnd.jupyter.widget-view+json": {
       "model_id": "bcd19acf7e7345e5b6c40da3d46e901d",
       "version_major": 2,
       "version_minor": 0
      },
      "text/plain": [
       "Models:   0%|          | 0/1 [00:00<?, ?it/s]"
      ]
     },
     "metadata": {},
     "output_type": "display_data"
    },
    {
     "data": {
      "application/vnd.jupyter.widget-view+json": {
       "model_id": "87f8d166879846f49c479126ba555e6a",
       "version_major": 2,
       "version_minor": 0
      },
      "text/plain": [
       "CatBoost folds:   0%|          | 0/5 [00:00<?, ?it/s]"
      ]
     },
     "metadata": {},
     "output_type": "display_data"
    },
    {
     "data": {
      "application/vnd.jupyter.widget-view+json": {
       "model_id": "618e2f233d434ec99bd5355e2c8f3b73",
       "version_major": 2,
       "version_minor": 0
      },
      "text/plain": [
       "Models:   0%|          | 0/1 [00:00<?, ?it/s]"
      ]
     },
     "metadata": {},
     "output_type": "display_data"
    },
    {
     "data": {
      "application/vnd.jupyter.widget-view+json": {
       "model_id": "8eff3199190642d1a86c4b8ecb819dc8",
       "version_major": 2,
       "version_minor": 0
      },
      "text/plain": [
       "CatBoost folds:   0%|          | 0/5 [00:00<?, ?it/s]"
      ]
     },
     "metadata": {},
     "output_type": "display_data"
    },
    {
     "data": {
      "application/vnd.jupyter.widget-view+json": {
       "model_id": "3677fcdcaafa487986dff0e56078297d",
       "version_major": 2,
       "version_minor": 0
      },
      "text/plain": [
       "Models:   0%|          | 0/1 [00:00<?, ?it/s]"
      ]
     },
     "metadata": {},
     "output_type": "display_data"
    },
    {
     "data": {
      "application/vnd.jupyter.widget-view+json": {
       "model_id": "c1436617bd884f8abad9ef5be544867c",
       "version_major": 2,
       "version_minor": 0
      },
      "text/plain": [
       "CatBoost folds:   0%|          | 0/5 [00:00<?, ?it/s]"
      ]
     },
     "metadata": {},
     "output_type": "display_data"
    },
    {
     "data": {
      "application/vnd.jupyter.widget-view+json": {
       "model_id": "de3c61ee09ab4d3aa05778d87bc54d4a",
       "version_major": 2,
       "version_minor": 0
      },
      "text/plain": [
       "Models:   0%|          | 0/1 [00:00<?, ?it/s]"
      ]
     },
     "metadata": {},
     "output_type": "display_data"
    },
    {
     "data": {
      "application/vnd.jupyter.widget-view+json": {
       "model_id": "8b8ef228164948f1badab5f86dd184b0",
       "version_major": 2,
       "version_minor": 0
      },
      "text/plain": [
       "CatBoost folds:   0%|          | 0/5 [00:00<?, ?it/s]"
      ]
     },
     "metadata": {},
     "output_type": "display_data"
    },
    {
     "data": {
      "application/vnd.jupyter.widget-view+json": {
       "model_id": "08a499524d444d9e91cd0d53dd22759d",
       "version_major": 2,
       "version_minor": 0
      },
      "text/plain": [
       "Models:   0%|          | 0/1 [00:00<?, ?it/s]"
      ]
     },
     "metadata": {},
     "output_type": "display_data"
    },
    {
     "data": {
      "application/vnd.jupyter.widget-view+json": {
       "model_id": "a41570484afe427abbde79fcbcb6d1b4",
       "version_major": 2,
       "version_minor": 0
      },
      "text/plain": [
       "CatBoost folds:   0%|          | 0/5 [00:00<?, ?it/s]"
      ]
     },
     "metadata": {},
     "output_type": "display_data"
    },
    {
     "data": {
      "application/vnd.jupyter.widget-view+json": {
       "model_id": "b0a00a072fdf487587fce06702eab897",
       "version_major": 2,
       "version_minor": 0
      },
      "text/plain": [
       "Models:   0%|          | 0/1 [00:00<?, ?it/s]"
      ]
     },
     "metadata": {},
     "output_type": "display_data"
    },
    {
     "data": {
      "application/vnd.jupyter.widget-view+json": {
       "model_id": "d042e49c024f473ab16a74cb42ed31d3",
       "version_major": 2,
       "version_minor": 0
      },
      "text/plain": [
       "CatBoost folds:   0%|          | 0/5 [00:00<?, ?it/s]"
      ]
     },
     "metadata": {},
     "output_type": "display_data"
    },
    {
     "data": {
      "application/vnd.jupyter.widget-view+json": {
       "model_id": "6280aab6171f487a84fe70f8129c54c1",
       "version_major": 2,
       "version_minor": 0
      },
      "text/plain": [
       "Models:   0%|          | 0/1 [00:00<?, ?it/s]"
      ]
     },
     "metadata": {},
     "output_type": "display_data"
    },
    {
     "data": {
      "application/vnd.jupyter.widget-view+json": {
       "model_id": "f9389b8f923845a7aa5c660f80b56e45",
       "version_major": 2,
       "version_minor": 0
      },
      "text/plain": [
       "CatBoost folds:   0%|          | 0/5 [00:00<?, ?it/s]"
      ]
     },
     "metadata": {},
     "output_type": "display_data"
    },
    {
     "data": {
      "application/vnd.jupyter.widget-view+json": {
       "model_id": "ca52918deb0c4b3f9563612999be19fd",
       "version_major": 2,
       "version_minor": 0
      },
      "text/plain": [
       "Models:   0%|          | 0/1 [00:00<?, ?it/s]"
      ]
     },
     "metadata": {},
     "output_type": "display_data"
    },
    {
     "data": {
      "application/vnd.jupyter.widget-view+json": {
       "model_id": "db9fb6e0b0ea45beaf97722557ae5ece",
       "version_major": 2,
       "version_minor": 0
      },
      "text/plain": [
       "CatBoost folds:   0%|          | 0/5 [00:00<?, ?it/s]"
      ]
     },
     "metadata": {},
     "output_type": "display_data"
    },
    {
     "data": {
      "application/vnd.jupyter.widget-view+json": {
       "model_id": "48c746d033744038ad3b80e4ff33609d",
       "version_major": 2,
       "version_minor": 0
      },
      "text/plain": [
       "Models:   0%|          | 0/1 [00:00<?, ?it/s]"
      ]
     },
     "metadata": {},
     "output_type": "display_data"
    },
    {
     "data": {
      "application/vnd.jupyter.widget-view+json": {
       "model_id": "2eb1ab4bf3cb45fba7068c90ecc1b943",
       "version_major": 2,
       "version_minor": 0
      },
      "text/plain": [
       "CatBoost folds:   0%|          | 0/5 [00:00<?, ?it/s]"
      ]
     },
     "metadata": {},
     "output_type": "display_data"
    },
    {
     "data": {
      "application/vnd.jupyter.widget-view+json": {
       "model_id": "b9b1485c22f444228dae0e769adc17c5",
       "version_major": 2,
       "version_minor": 0
      },
      "text/plain": [
       "Models:   0%|          | 0/1 [00:00<?, ?it/s]"
      ]
     },
     "metadata": {},
     "output_type": "display_data"
    },
    {
     "data": {
      "application/vnd.jupyter.widget-view+json": {
       "model_id": "4222993502d14c72832328580a468556",
       "version_major": 2,
       "version_minor": 0
      },
      "text/plain": [
       "CatBoost folds:   0%|          | 0/5 [00:00<?, ?it/s]"
      ]
     },
     "metadata": {},
     "output_type": "display_data"
    },
    {
     "data": {
      "application/vnd.jupyter.widget-view+json": {
       "model_id": "385f64db94834db9b3337e78ad841c30",
       "version_major": 2,
       "version_minor": 0
      },
      "text/plain": [
       "Models:   0%|          | 0/1 [00:00<?, ?it/s]"
      ]
     },
     "metadata": {},
     "output_type": "display_data"
    },
    {
     "data": {
      "application/vnd.jupyter.widget-view+json": {
       "model_id": "c2fcb13ab98448989746cdb425988056",
       "version_major": 2,
       "version_minor": 0
      },
      "text/plain": [
       "CatBoost folds:   0%|          | 0/5 [00:00<?, ?it/s]"
      ]
     },
     "metadata": {},
     "output_type": "display_data"
    },
    {
     "data": {
      "application/vnd.jupyter.widget-view+json": {
       "model_id": "7871f1866226481794098fdb4c6799a9",
       "version_major": 2,
       "version_minor": 0
      },
      "text/plain": [
       "Models:   0%|          | 0/1 [00:00<?, ?it/s]"
      ]
     },
     "metadata": {},
     "output_type": "display_data"
    },
    {
     "data": {
      "application/vnd.jupyter.widget-view+json": {
       "model_id": "61718b6cf5314e99b07b33e13732a830",
       "version_major": 2,
       "version_minor": 0
      },
      "text/plain": [
       "CatBoost folds:   0%|          | 0/5 [00:00<?, ?it/s]"
      ]
     },
     "metadata": {},
     "output_type": "display_data"
    },
    {
     "data": {
      "application/vnd.jupyter.widget-view+json": {
       "model_id": "cb0dd687bc0243e6ad08c9f724b90279",
       "version_major": 2,
       "version_minor": 0
      },
      "text/plain": [
       "Models:   0%|          | 0/1 [00:00<?, ?it/s]"
      ]
     },
     "metadata": {},
     "output_type": "display_data"
    },
    {
     "data": {
      "application/vnd.jupyter.widget-view+json": {
       "model_id": "b86d11695c6b40e8a9c0b8a2a5efa2dd",
       "version_major": 2,
       "version_minor": 0
      },
      "text/plain": [
       "CatBoost folds:   0%|          | 0/5 [00:00<?, ?it/s]"
      ]
     },
     "metadata": {},
     "output_type": "display_data"
    },
    {
     "data": {
      "application/vnd.jupyter.widget-view+json": {
       "model_id": "e1975e36bac94ea684ec6d41ddd3b326",
       "version_major": 2,
       "version_minor": 0
      },
      "text/plain": [
       "Models:   0%|          | 0/1 [00:00<?, ?it/s]"
      ]
     },
     "metadata": {},
     "output_type": "display_data"
    },
    {
     "data": {
      "application/vnd.jupyter.widget-view+json": {
       "model_id": "800bdb18cde64d36a9ce22533027dbd2",
       "version_major": 2,
       "version_minor": 0
      },
      "text/plain": [
       "CatBoost folds:   0%|          | 0/5 [00:00<?, ?it/s]"
      ]
     },
     "metadata": {},
     "output_type": "display_data"
    },
    {
     "data": {
      "application/vnd.jupyter.widget-view+json": {
       "model_id": "c6fc4ff567a644ee8117306d91baa3e4",
       "version_major": 2,
       "version_minor": 0
      },
      "text/plain": [
       "Models:   0%|          | 0/1 [00:00<?, ?it/s]"
      ]
     },
     "metadata": {},
     "output_type": "display_data"
    },
    {
     "data": {
      "application/vnd.jupyter.widget-view+json": {
       "model_id": "65a9a61b50c047dca04991fcd848ff86",
       "version_major": 2,
       "version_minor": 0
      },
      "text/plain": [
       "CatBoost folds:   0%|          | 0/5 [00:00<?, ?it/s]"
      ]
     },
     "metadata": {},
     "output_type": "display_data"
    },
    {
     "data": {
      "application/vnd.jupyter.widget-view+json": {
       "model_id": "2ea1d824d9da46819d327251e4dcff1e",
       "version_major": 2,
       "version_minor": 0
      },
      "text/plain": [
       "Models:   0%|          | 0/1 [00:00<?, ?it/s]"
      ]
     },
     "metadata": {},
     "output_type": "display_data"
    },
    {
     "data": {
      "application/vnd.jupyter.widget-view+json": {
       "model_id": "cbcf7e3a63c94f49bb49231bcda7ed59",
       "version_major": 2,
       "version_minor": 0
      },
      "text/plain": [
       "CatBoost folds:   0%|          | 0/5 [00:00<?, ?it/s]"
      ]
     },
     "metadata": {},
     "output_type": "display_data"
    },
    {
     "data": {
      "application/vnd.jupyter.widget-view+json": {
       "model_id": "4a832755f99242eda2cfc99cbff50861",
       "version_major": 2,
       "version_minor": 0
      },
      "text/plain": [
       "Models:   0%|          | 0/1 [00:00<?, ?it/s]"
      ]
     },
     "metadata": {},
     "output_type": "display_data"
    },
    {
     "data": {
      "application/vnd.jupyter.widget-view+json": {
       "model_id": "753d4b0f35854f5c90c13fd9e99ba65c",
       "version_major": 2,
       "version_minor": 0
      },
      "text/plain": [
       "CatBoost folds:   0%|          | 0/5 [00:00<?, ?it/s]"
      ]
     },
     "metadata": {},
     "output_type": "display_data"
    },
    {
     "data": {
      "application/vnd.jupyter.widget-view+json": {
       "model_id": "63b100cf6ecd4b0fa65723cb5dd08a1a",
       "version_major": 2,
       "version_minor": 0
      },
      "text/plain": [
       "Models:   0%|          | 0/1 [00:00<?, ?it/s]"
      ]
     },
     "metadata": {},
     "output_type": "display_data"
    },
    {
     "data": {
      "application/vnd.jupyter.widget-view+json": {
       "model_id": "f3b6df6d9b8f43b0b2f5893072afea1c",
       "version_major": 2,
       "version_minor": 0
      },
      "text/plain": [
       "CatBoost folds:   0%|          | 0/5 [00:00<?, ?it/s]"
      ]
     },
     "metadata": {},
     "output_type": "display_data"
    },
    {
     "data": {
      "application/vnd.jupyter.widget-view+json": {
       "model_id": "f835f27ab7c449e2a1149936ae2f7a4e",
       "version_major": 2,
       "version_minor": 0
      },
      "text/plain": [
       "Models:   0%|          | 0/1 [00:00<?, ?it/s]"
      ]
     },
     "metadata": {},
     "output_type": "display_data"
    },
    {
     "data": {
      "application/vnd.jupyter.widget-view+json": {
       "model_id": "d0d53d9aedf64aa19a01614ecc7dfb69",
       "version_major": 2,
       "version_minor": 0
      },
      "text/plain": [
       "CatBoost folds:   0%|          | 0/5 [00:00<?, ?it/s]"
      ]
     },
     "metadata": {},
     "output_type": "display_data"
    },
    {
     "data": {
      "application/vnd.jupyter.widget-view+json": {
       "model_id": "cfcb5ec6d19c4884adac1833b2940850",
       "version_major": 2,
       "version_minor": 0
      },
      "text/plain": [
       "Models:   0%|          | 0/1 [00:00<?, ?it/s]"
      ]
     },
     "metadata": {},
     "output_type": "display_data"
    },
    {
     "data": {
      "application/vnd.jupyter.widget-view+json": {
       "model_id": "f4a5887547fe41d0b63408ad5a806333",
       "version_major": 2,
       "version_minor": 0
      },
      "text/plain": [
       "CatBoost folds:   0%|          | 0/5 [00:00<?, ?it/s]"
      ]
     },
     "metadata": {},
     "output_type": "display_data"
    },
    {
     "data": {
      "application/vnd.jupyter.widget-view+json": {
       "model_id": "2301a89c44e2404397a4d45a0b9980b9",
       "version_major": 2,
       "version_minor": 0
      },
      "text/plain": [
       "Models:   0%|          | 0/1 [00:00<?, ?it/s]"
      ]
     },
     "metadata": {},
     "output_type": "display_data"
    },
    {
     "data": {
      "application/vnd.jupyter.widget-view+json": {
       "model_id": "3990d760d4744c2cadebb6ac74e4319e",
       "version_major": 2,
       "version_minor": 0
      },
      "text/plain": [
       "CatBoost folds:   0%|          | 0/5 [00:00<?, ?it/s]"
      ]
     },
     "metadata": {},
     "output_type": "display_data"
    },
    {
     "data": {
      "application/vnd.jupyter.widget-view+json": {
       "model_id": "ac68cf30e5324572a1603bcc0124738c",
       "version_major": 2,
       "version_minor": 0
      },
      "text/plain": [
       "Models:   0%|          | 0/1 [00:00<?, ?it/s]"
      ]
     },
     "metadata": {},
     "output_type": "display_data"
    },
    {
     "data": {
      "application/vnd.jupyter.widget-view+json": {
       "model_id": "0dfa046a6ece49f7974ac5426fd273be",
       "version_major": 2,
       "version_minor": 0
      },
      "text/plain": [
       "CatBoost folds:   0%|          | 0/5 [00:00<?, ?it/s]"
      ]
     },
     "metadata": {},
     "output_type": "display_data"
    },
    {
     "data": {
      "application/vnd.jupyter.widget-view+json": {
       "model_id": "173b714250d5430b8c5808c723b6d787",
       "version_major": 2,
       "version_minor": 0
      },
      "text/plain": [
       "Models:   0%|          | 0/1 [00:00<?, ?it/s]"
      ]
     },
     "metadata": {},
     "output_type": "display_data"
    },
    {
     "data": {
      "application/vnd.jupyter.widget-view+json": {
       "model_id": "9b2da31f1f094adb898c575a937cd97d",
       "version_major": 2,
       "version_minor": 0
      },
      "text/plain": [
       "CatBoost folds:   0%|          | 0/5 [00:00<?, ?it/s]"
      ]
     },
     "metadata": {},
     "output_type": "display_data"
    },
    {
     "data": {
      "application/vnd.jupyter.widget-view+json": {
       "model_id": "ac1c26163fa04f60b34ff2855d1a5442",
       "version_major": 2,
       "version_minor": 0
      },
      "text/plain": [
       "Models:   0%|          | 0/1 [00:00<?, ?it/s]"
      ]
     },
     "metadata": {},
     "output_type": "display_data"
    },
    {
     "data": {
      "application/vnd.jupyter.widget-view+json": {
       "model_id": "5206579b7930477bbe5ce2ce4c20c312",
       "version_major": 2,
       "version_minor": 0
      },
      "text/plain": [
       "CatBoost folds:   0%|          | 0/5 [00:00<?, ?it/s]"
      ]
     },
     "metadata": {},
     "output_type": "display_data"
    },
    {
     "data": {
      "application/vnd.jupyter.widget-view+json": {
       "model_id": "8bd2914df8074ecda286314787406a7c",
       "version_major": 2,
       "version_minor": 0
      },
      "text/plain": [
       "Models:   0%|          | 0/1 [00:00<?, ?it/s]"
      ]
     },
     "metadata": {},
     "output_type": "display_data"
    },
    {
     "data": {
      "application/vnd.jupyter.widget-view+json": {
       "model_id": "bd2b438cde0e49709c15b1222f856f45",
       "version_major": 2,
       "version_minor": 0
      },
      "text/plain": [
       "CatBoost folds:   0%|          | 0/5 [00:00<?, ?it/s]"
      ]
     },
     "metadata": {},
     "output_type": "display_data"
    },
    {
     "data": {
      "application/vnd.jupyter.widget-view+json": {
       "model_id": "26efc65b60594f54b13c4908d7ca62ca",
       "version_major": 2,
       "version_minor": 0
      },
      "text/plain": [
       "Models:   0%|          | 0/1 [00:00<?, ?it/s]"
      ]
     },
     "metadata": {},
     "output_type": "display_data"
    },
    {
     "data": {
      "application/vnd.jupyter.widget-view+json": {
       "model_id": "86f9042fde4c4d5883a9547351e54e6c",
       "version_major": 2,
       "version_minor": 0
      },
      "text/plain": [
       "CatBoost folds:   0%|          | 0/5 [00:00<?, ?it/s]"
      ]
     },
     "metadata": {},
     "output_type": "display_data"
    },
    {
     "data": {
      "application/vnd.jupyter.widget-view+json": {
       "model_id": "29b424a58fb04e82acaca5ffea35e409",
       "version_major": 2,
       "version_minor": 0
      },
      "text/plain": [
       "Models:   0%|          | 0/1 [00:00<?, ?it/s]"
      ]
     },
     "metadata": {},
     "output_type": "display_data"
    },
    {
     "data": {
      "application/vnd.jupyter.widget-view+json": {
       "model_id": "234ff03e066b439fb895204565659e04",
       "version_major": 2,
       "version_minor": 0
      },
      "text/plain": [
       "CatBoost folds:   0%|          | 0/5 [00:00<?, ?it/s]"
      ]
     },
     "metadata": {},
     "output_type": "display_data"
    },
    {
     "data": {
      "application/vnd.jupyter.widget-view+json": {
       "model_id": "3d4d9dd41132428091a479f1c1fe6e65",
       "version_major": 2,
       "version_minor": 0
      },
      "text/plain": [
       "Models:   0%|          | 0/1 [00:00<?, ?it/s]"
      ]
     },
     "metadata": {},
     "output_type": "display_data"
    },
    {
     "data": {
      "application/vnd.jupyter.widget-view+json": {
       "model_id": "5edcb3e0be144dbf9c508729309b5ef1",
       "version_major": 2,
       "version_minor": 0
      },
      "text/plain": [
       "CatBoost folds:   0%|          | 0/5 [00:00<?, ?it/s]"
      ]
     },
     "metadata": {},
     "output_type": "display_data"
    },
    {
     "data": {
      "application/vnd.jupyter.widget-view+json": {
       "model_id": "a42a0572f9ba43f2a6397236067b0507",
       "version_major": 2,
       "version_minor": 0
      },
      "text/plain": [
       "Models:   0%|          | 0/1 [00:00<?, ?it/s]"
      ]
     },
     "metadata": {},
     "output_type": "display_data"
    },
    {
     "data": {
      "application/vnd.jupyter.widget-view+json": {
       "model_id": "a07eab75e96c4f0eb0b33e18fc6f6cd8",
       "version_major": 2,
       "version_minor": 0
      },
      "text/plain": [
       "CatBoost folds:   0%|          | 0/5 [00:00<?, ?it/s]"
      ]
     },
     "metadata": {},
     "output_type": "display_data"
    },
    {
     "data": {
      "application/vnd.jupyter.widget-view+json": {
       "model_id": "3c73e3a7448f4712bd263d6afd6043cf",
       "version_major": 2,
       "version_minor": 0
      },
      "text/plain": [
       "Models:   0%|          | 0/1 [00:00<?, ?it/s]"
      ]
     },
     "metadata": {},
     "output_type": "display_data"
    },
    {
     "data": {
      "application/vnd.jupyter.widget-view+json": {
       "model_id": "5c264967289c4424b7199e5de98837dc",
       "version_major": 2,
       "version_minor": 0
      },
      "text/plain": [
       "CatBoost folds:   0%|          | 0/5 [00:00<?, ?it/s]"
      ]
     },
     "metadata": {},
     "output_type": "display_data"
    },
    {
     "data": {
      "application/vnd.jupyter.widget-view+json": {
       "model_id": "d7caf2a264844577a5fcba76dde9a2b8",
       "version_major": 2,
       "version_minor": 0
      },
      "text/plain": [
       "Models:   0%|          | 0/1 [00:00<?, ?it/s]"
      ]
     },
     "metadata": {},
     "output_type": "display_data"
    },
    {
     "data": {
      "application/vnd.jupyter.widget-view+json": {
       "model_id": "822c100d7f2a4348be5eff2a2581ae00",
       "version_major": 2,
       "version_minor": 0
      },
      "text/plain": [
       "CatBoost folds:   0%|          | 0/5 [00:00<?, ?it/s]"
      ]
     },
     "metadata": {},
     "output_type": "display_data"
    },
    {
     "data": {
      "application/vnd.jupyter.widget-view+json": {
       "model_id": "668329e0c3674b3abf1d8d101056541a",
       "version_major": 2,
       "version_minor": 0
      },
      "text/plain": [
       "Models:   0%|          | 0/1 [00:00<?, ?it/s]"
      ]
     },
     "metadata": {},
     "output_type": "display_data"
    },
    {
     "data": {
      "application/vnd.jupyter.widget-view+json": {
       "model_id": "e50a03474afe4f20804c0a81f6eb03c7",
       "version_major": 2,
       "version_minor": 0
      },
      "text/plain": [
       "CatBoost folds:   0%|          | 0/5 [00:00<?, ?it/s]"
      ]
     },
     "metadata": {},
     "output_type": "display_data"
    },
    {
     "data": {
      "application/vnd.jupyter.widget-view+json": {
       "model_id": "a44254c842f04b258f555c9b963905c8",
       "version_major": 2,
       "version_minor": 0
      },
      "text/plain": [
       "Models:   0%|          | 0/1 [00:00<?, ?it/s]"
      ]
     },
     "metadata": {},
     "output_type": "display_data"
    },
    {
     "data": {
      "application/vnd.jupyter.widget-view+json": {
       "model_id": "8a815676ca8b498faf97b2ce0dd66fe3",
       "version_major": 2,
       "version_minor": 0
      },
      "text/plain": [
       "CatBoost folds:   0%|          | 0/5 [00:00<?, ?it/s]"
      ]
     },
     "metadata": {},
     "output_type": "display_data"
    },
    {
     "data": {
      "application/vnd.jupyter.widget-view+json": {
       "model_id": "17f253e92a4d4bc8b717e369a425b0a7",
       "version_major": 2,
       "version_minor": 0
      },
      "text/plain": [
       "Models:   0%|          | 0/1 [00:00<?, ?it/s]"
      ]
     },
     "metadata": {},
     "output_type": "display_data"
    },
    {
     "data": {
      "application/vnd.jupyter.widget-view+json": {
       "model_id": "4d3b4849283b4d56bc38d6284927b84f",
       "version_major": 2,
       "version_minor": 0
      },
      "text/plain": [
       "CatBoost folds:   0%|          | 0/5 [00:00<?, ?it/s]"
      ]
     },
     "metadata": {},
     "output_type": "display_data"
    },
    {
     "data": {
      "application/vnd.jupyter.widget-view+json": {
       "model_id": "f4b15ca688a443dea1d60171d05c2b9e",
       "version_major": 2,
       "version_minor": 0
      },
      "text/plain": [
       "Models:   0%|          | 0/1 [00:00<?, ?it/s]"
      ]
     },
     "metadata": {},
     "output_type": "display_data"
    },
    {
     "data": {
      "application/vnd.jupyter.widget-view+json": {
       "model_id": "06f14fc4b4944a538a26d2191a789cad",
       "version_major": 2,
       "version_minor": 0
      },
      "text/plain": [
       "CatBoost folds:   0%|          | 0/5 [00:00<?, ?it/s]"
      ]
     },
     "metadata": {},
     "output_type": "display_data"
    },
    {
     "data": {
      "application/vnd.jupyter.widget-view+json": {
       "model_id": "6e48e9375b154c1783a178a29d9a3265",
       "version_major": 2,
       "version_minor": 0
      },
      "text/plain": [
       "Models:   0%|          | 0/1 [00:00<?, ?it/s]"
      ]
     },
     "metadata": {},
     "output_type": "display_data"
    },
    {
     "data": {
      "application/vnd.jupyter.widget-view+json": {
       "model_id": "f4b35a299b0d404c8ec782e29d6458fd",
       "version_major": 2,
       "version_minor": 0
      },
      "text/plain": [
       "CatBoost folds:   0%|          | 0/5 [00:00<?, ?it/s]"
      ]
     },
     "metadata": {},
     "output_type": "display_data"
    },
    {
     "data": {
      "application/vnd.jupyter.widget-view+json": {
       "model_id": "c8d593195dc14e6e9cf257a78c2b341c",
       "version_major": 2,
       "version_minor": 0
      },
      "text/plain": [
       "Models:   0%|          | 0/1 [00:00<?, ?it/s]"
      ]
     },
     "metadata": {},
     "output_type": "display_data"
    },
    {
     "data": {
      "application/vnd.jupyter.widget-view+json": {
       "model_id": "dba9db1ec88d43f3adcb3fbcd8193d70",
       "version_major": 2,
       "version_minor": 0
      },
      "text/plain": [
       "CatBoost folds:   0%|          | 0/5 [00:00<?, ?it/s]"
      ]
     },
     "metadata": {},
     "output_type": "display_data"
    },
    {
     "data": {
      "application/vnd.jupyter.widget-view+json": {
       "model_id": "447802ab0b7647aab916b9c62b77f44e",
       "version_major": 2,
       "version_minor": 0
      },
      "text/plain": [
       "Models:   0%|          | 0/1 [00:00<?, ?it/s]"
      ]
     },
     "metadata": {},
     "output_type": "display_data"
    },
    {
     "data": {
      "application/vnd.jupyter.widget-view+json": {
       "model_id": "d4a86b7553fa4db38bb2f95a25d2fa22",
       "version_major": 2,
       "version_minor": 0
      },
      "text/plain": [
       "CatBoost folds:   0%|          | 0/5 [00:00<?, ?it/s]"
      ]
     },
     "metadata": {},
     "output_type": "display_data"
    },
    {
     "data": {
      "application/vnd.jupyter.widget-view+json": {
       "model_id": "b0d5bebe1b5c4129b56cd47d8df6f456",
       "version_major": 2,
       "version_minor": 0
      },
      "text/plain": [
       "Models:   0%|          | 0/1 [00:00<?, ?it/s]"
      ]
     },
     "metadata": {},
     "output_type": "display_data"
    },
    {
     "data": {
      "application/vnd.jupyter.widget-view+json": {
       "model_id": "8857d350abd143779fa183bc2052a4e6",
       "version_major": 2,
       "version_minor": 0
      },
      "text/plain": [
       "CatBoost folds:   0%|          | 0/5 [00:00<?, ?it/s]"
      ]
     },
     "metadata": {},
     "output_type": "display_data"
    },
    {
     "data": {
      "application/vnd.jupyter.widget-view+json": {
       "model_id": "da55e97e40ac4cdab159d50a5cb39680",
       "version_major": 2,
       "version_minor": 0
      },
      "text/plain": [
       "Models:   0%|          | 0/1 [00:00<?, ?it/s]"
      ]
     },
     "metadata": {},
     "output_type": "display_data"
    },
    {
     "data": {
      "application/vnd.jupyter.widget-view+json": {
       "model_id": "15b5219700fc4836ba913e80b13f215d",
       "version_major": 2,
       "version_minor": 0
      },
      "text/plain": [
       "CatBoost folds:   0%|          | 0/5 [00:00<?, ?it/s]"
      ]
     },
     "metadata": {},
     "output_type": "display_data"
    },
    {
     "data": {
      "application/vnd.jupyter.widget-view+json": {
       "model_id": "91323e7215f243268d81ada1a8b273ba",
       "version_major": 2,
       "version_minor": 0
      },
      "text/plain": [
       "Models:   0%|          | 0/1 [00:00<?, ?it/s]"
      ]
     },
     "metadata": {},
     "output_type": "display_data"
    },
    {
     "data": {
      "application/vnd.jupyter.widget-view+json": {
       "model_id": "199651ada2a3456c9cfb11df50bdf527",
       "version_major": 2,
       "version_minor": 0
      },
      "text/plain": [
       "CatBoost folds:   0%|          | 0/5 [00:00<?, ?it/s]"
      ]
     },
     "metadata": {},
     "output_type": "display_data"
    },
    {
     "data": {
      "application/vnd.jupyter.widget-view+json": {
       "model_id": "12975db1858542ab9543c2a41c0cb313",
       "version_major": 2,
       "version_minor": 0
      },
      "text/plain": [
       "Models:   0%|          | 0/1 [00:00<?, ?it/s]"
      ]
     },
     "metadata": {},
     "output_type": "display_data"
    },
    {
     "data": {
      "application/vnd.jupyter.widget-view+json": {
       "model_id": "6359d80f4b884552ab9d318a0e7d75fe",
       "version_major": 2,
       "version_minor": 0
      },
      "text/plain": [
       "CatBoost folds:   0%|          | 0/5 [00:00<?, ?it/s]"
      ]
     },
     "metadata": {},
     "output_type": "display_data"
    },
    {
     "data": {
      "application/vnd.jupyter.widget-view+json": {
       "model_id": "c8fc53f06ccb412c994c63d318171ea3",
       "version_major": 2,
       "version_minor": 0
      },
      "text/plain": [
       "Models:   0%|          | 0/1 [00:00<?, ?it/s]"
      ]
     },
     "metadata": {},
     "output_type": "display_data"
    },
    {
     "data": {
      "application/vnd.jupyter.widget-view+json": {
       "model_id": "d3b26d8aeb27428889c7cf5cf8545e08",
       "version_major": 2,
       "version_minor": 0
      },
      "text/plain": [
       "CatBoost folds:   0%|          | 0/5 [00:00<?, ?it/s]"
      ]
     },
     "metadata": {},
     "output_type": "display_data"
    },
    {
     "data": {
      "application/vnd.jupyter.widget-view+json": {
       "model_id": "6bf5d459955c4bc0b2e23f9646c642e2",
       "version_major": 2,
       "version_minor": 0
      },
      "text/plain": [
       "Models:   0%|          | 0/1 [00:00<?, ?it/s]"
      ]
     },
     "metadata": {},
     "output_type": "display_data"
    },
    {
     "data": {
      "application/vnd.jupyter.widget-view+json": {
       "model_id": "b4f6b2a96115429390251e0b83924e7e",
       "version_major": 2,
       "version_minor": 0
      },
      "text/plain": [
       "CatBoost folds:   0%|          | 0/5 [00:00<?, ?it/s]"
      ]
     },
     "metadata": {},
     "output_type": "display_data"
    },
    {
     "data": {
      "application/vnd.jupyter.widget-view+json": {
       "model_id": "7b59918ba2464f0fb08591c43fa9f549",
       "version_major": 2,
       "version_minor": 0
      },
      "text/plain": [
       "Models:   0%|          | 0/1 [00:00<?, ?it/s]"
      ]
     },
     "metadata": {},
     "output_type": "display_data"
    },
    {
     "data": {
      "application/vnd.jupyter.widget-view+json": {
       "model_id": "0b90f339f6eb47f1a61e0de34c6b5138",
       "version_major": 2,
       "version_minor": 0
      },
      "text/plain": [
       "CatBoost folds:   0%|          | 0/5 [00:00<?, ?it/s]"
      ]
     },
     "metadata": {},
     "output_type": "display_data"
    },
    {
     "data": {
      "application/vnd.jupyter.widget-view+json": {
       "model_id": "f104bb30ab1e47cbb9050a720af9686a",
       "version_major": 2,
       "version_minor": 0
      },
      "text/plain": [
       "Models:   0%|          | 0/1 [00:00<?, ?it/s]"
      ]
     },
     "metadata": {},
     "output_type": "display_data"
    },
    {
     "data": {
      "application/vnd.jupyter.widget-view+json": {
       "model_id": "b7bf4cf94f4c493dab84db3ca54d34f5",
       "version_major": 2,
       "version_minor": 0
      },
      "text/plain": [
       "CatBoost folds:   0%|          | 0/5 [00:00<?, ?it/s]"
      ]
     },
     "metadata": {},
     "output_type": "display_data"
    },
    {
     "data": {
      "application/vnd.jupyter.widget-view+json": {
       "model_id": "02bc9eb32e6a4852958f70648663f389",
       "version_major": 2,
       "version_minor": 0
      },
      "text/plain": [
       "Models:   0%|          | 0/1 [00:00<?, ?it/s]"
      ]
     },
     "metadata": {},
     "output_type": "display_data"
    },
    {
     "data": {
      "application/vnd.jupyter.widget-view+json": {
       "model_id": "05a4e20736234fa9be9ff41bef71f006",
       "version_major": 2,
       "version_minor": 0
      },
      "text/plain": [
       "CatBoost folds:   0%|          | 0/5 [00:00<?, ?it/s]"
      ]
     },
     "metadata": {},
     "output_type": "display_data"
    },
    {
     "data": {
      "application/vnd.jupyter.widget-view+json": {
       "model_id": "a5c19613b87a4ce7b2ca5a6d41ad9179",
       "version_major": 2,
       "version_minor": 0
      },
      "text/plain": [
       "Models:   0%|          | 0/1 [00:00<?, ?it/s]"
      ]
     },
     "metadata": {},
     "output_type": "display_data"
    },
    {
     "data": {
      "application/vnd.jupyter.widget-view+json": {
       "model_id": "fc361f8f52204ac084488ef4d8172488",
       "version_major": 2,
       "version_minor": 0
      },
      "text/plain": [
       "CatBoost folds:   0%|          | 0/5 [00:00<?, ?it/s]"
      ]
     },
     "metadata": {},
     "output_type": "display_data"
    },
    {
     "data": {
      "application/vnd.jupyter.widget-view+json": {
       "model_id": "033f5af4a3644bd1a3c8958c5721ae38",
       "version_major": 2,
       "version_minor": 0
      },
      "text/plain": [
       "Models:   0%|          | 0/1 [00:00<?, ?it/s]"
      ]
     },
     "metadata": {},
     "output_type": "display_data"
    },
    {
     "data": {
      "application/vnd.jupyter.widget-view+json": {
       "model_id": "c1f9a6ba1fc443049b918b71cda605d8",
       "version_major": 2,
       "version_minor": 0
      },
      "text/plain": [
       "CatBoost folds:   0%|          | 0/5 [00:00<?, ?it/s]"
      ]
     },
     "metadata": {},
     "output_type": "display_data"
    },
    {
     "data": {
      "application/vnd.jupyter.widget-view+json": {
       "model_id": "6ef40e9ab30b4f90ac9b77f5b7511e23",
       "version_major": 2,
       "version_minor": 0
      },
      "text/plain": [
       "Models:   0%|          | 0/1 [00:00<?, ?it/s]"
      ]
     },
     "metadata": {},
     "output_type": "display_data"
    },
    {
     "data": {
      "application/vnd.jupyter.widget-view+json": {
       "model_id": "f7a693a82d0344e5aa6600be460ba919",
       "version_major": 2,
       "version_minor": 0
      },
      "text/plain": [
       "CatBoost folds:   0%|          | 0/5 [00:00<?, ?it/s]"
      ]
     },
     "metadata": {},
     "output_type": "display_data"
    },
    {
     "data": {
      "application/vnd.jupyter.widget-view+json": {
       "model_id": "188e570077874ca7a6d5873bb4ec5a2f",
       "version_major": 2,
       "version_minor": 0
      },
      "text/plain": [
       "Models:   0%|          | 0/1 [00:00<?, ?it/s]"
      ]
     },
     "metadata": {},
     "output_type": "display_data"
    },
    {
     "data": {
      "application/vnd.jupyter.widget-view+json": {
       "model_id": "6fb7745c116e4e5aa480a55dae748d8c",
       "version_major": 2,
       "version_minor": 0
      },
      "text/plain": [
       "CatBoost folds:   0%|          | 0/5 [00:00<?, ?it/s]"
      ]
     },
     "metadata": {},
     "output_type": "display_data"
    },
    {
     "data": {
      "application/vnd.jupyter.widget-view+json": {
       "model_id": "56818c542f6f4cb9a3f0529f519b4803",
       "version_major": 2,
       "version_minor": 0
      },
      "text/plain": [
       "Models:   0%|          | 0/1 [00:00<?, ?it/s]"
      ]
     },
     "metadata": {},
     "output_type": "display_data"
    },
    {
     "data": {
      "application/vnd.jupyter.widget-view+json": {
       "model_id": "9727328994d04fefbd0f8fbfafcc9057",
       "version_major": 2,
       "version_minor": 0
      },
      "text/plain": [
       "CatBoost folds:   0%|          | 0/5 [00:00<?, ?it/s]"
      ]
     },
     "metadata": {},
     "output_type": "display_data"
    },
    {
     "data": {
      "application/vnd.jupyter.widget-view+json": {
       "model_id": "231ee654f5d54ab3b3235339a8e363f7",
       "version_major": 2,
       "version_minor": 0
      },
      "text/plain": [
       "Models:   0%|          | 0/1 [00:00<?, ?it/s]"
      ]
     },
     "metadata": {},
     "output_type": "display_data"
    },
    {
     "data": {
      "application/vnd.jupyter.widget-view+json": {
       "model_id": "aa71c8fca7e84fd69dd86ffc8c748b4c",
       "version_major": 2,
       "version_minor": 0
      },
      "text/plain": [
       "CatBoost folds:   0%|          | 0/5 [00:00<?, ?it/s]"
      ]
     },
     "metadata": {},
     "output_type": "display_data"
    },
    {
     "data": {
      "application/vnd.jupyter.widget-view+json": {
       "model_id": "a90639ff056845879cc276a53797b875",
       "version_major": 2,
       "version_minor": 0
      },
      "text/plain": [
       "Models:   0%|          | 0/1 [00:00<?, ?it/s]"
      ]
     },
     "metadata": {},
     "output_type": "display_data"
    },
    {
     "data": {
      "application/vnd.jupyter.widget-view+json": {
       "model_id": "c668693f795b488ea7236679e248fca1",
       "version_major": 2,
       "version_minor": 0
      },
      "text/plain": [
       "CatBoost folds:   0%|          | 0/5 [00:00<?, ?it/s]"
      ]
     },
     "metadata": {},
     "output_type": "display_data"
    },
    {
     "data": {
      "application/vnd.jupyter.widget-view+json": {
       "model_id": "e3700177da21409fbcf57039554bfef6",
       "version_major": 2,
       "version_minor": 0
      },
      "text/plain": [
       "Models:   0%|          | 0/1 [00:00<?, ?it/s]"
      ]
     },
     "metadata": {},
     "output_type": "display_data"
    },
    {
     "data": {
      "application/vnd.jupyter.widget-view+json": {
       "model_id": "44ef6d089e3843b0b928e1560a6e56e4",
       "version_major": 2,
       "version_minor": 0
      },
      "text/plain": [
       "CatBoost folds:   0%|          | 0/5 [00:00<?, ?it/s]"
      ]
     },
     "metadata": {},
     "output_type": "display_data"
    },
    {
     "data": {
      "application/vnd.jupyter.widget-view+json": {
       "model_id": "c922745b086a4d54b9bb152986d4161b",
       "version_major": 2,
       "version_minor": 0
      },
      "text/plain": [
       "Models:   0%|          | 0/1 [00:00<?, ?it/s]"
      ]
     },
     "metadata": {},
     "output_type": "display_data"
    },
    {
     "data": {
      "application/vnd.jupyter.widget-view+json": {
       "model_id": "d3d74131b8154bb4a7b56521658cc96a",
       "version_major": 2,
       "version_minor": 0
      },
      "text/plain": [
       "CatBoost folds:   0%|          | 0/5 [00:00<?, ?it/s]"
      ]
     },
     "metadata": {},
     "output_type": "display_data"
    },
    {
     "data": {
      "application/vnd.jupyter.widget-view+json": {
       "model_id": "a6d3c502dd784e52b95a9f26e2df1832",
       "version_major": 2,
       "version_minor": 0
      },
      "text/plain": [
       "Models:   0%|          | 0/1 [00:00<?, ?it/s]"
      ]
     },
     "metadata": {},
     "output_type": "display_data"
    },
    {
     "data": {
      "application/vnd.jupyter.widget-view+json": {
       "model_id": "369aa7337100410191b2b10e38d64af0",
       "version_major": 2,
       "version_minor": 0
      },
      "text/plain": [
       "CatBoost folds:   0%|          | 0/5 [00:00<?, ?it/s]"
      ]
     },
     "metadata": {},
     "output_type": "display_data"
    },
    {
     "data": {
      "application/vnd.jupyter.widget-view+json": {
       "model_id": "02cd6fa0b7e943e0a55d3f2c24154ffd",
       "version_major": 2,
       "version_minor": 0
      },
      "text/plain": [
       "Models:   0%|          | 0/1 [00:00<?, ?it/s]"
      ]
     },
     "metadata": {},
     "output_type": "display_data"
    },
    {
     "data": {
      "application/vnd.jupyter.widget-view+json": {
       "model_id": "f81f607a4b7f4993910021e0eac8cbea",
       "version_major": 2,
       "version_minor": 0
      },
      "text/plain": [
       "CatBoost folds:   0%|          | 0/5 [00:00<?, ?it/s]"
      ]
     },
     "metadata": {},
     "output_type": "display_data"
    },
    {
     "data": {
      "application/vnd.jupyter.widget-view+json": {
       "model_id": "80e3bee7e77b49458fb5465f8098c88c",
       "version_major": 2,
       "version_minor": 0
      },
      "text/plain": [
       "Models:   0%|          | 0/1 [00:00<?, ?it/s]"
      ]
     },
     "metadata": {},
     "output_type": "display_data"
    },
    {
     "data": {
      "application/vnd.jupyter.widget-view+json": {
       "model_id": "e7feecc2f4c1461186c8a921ae0b5a9c",
       "version_major": 2,
       "version_minor": 0
      },
      "text/plain": [
       "CatBoost folds:   0%|          | 0/5 [00:00<?, ?it/s]"
      ]
     },
     "metadata": {},
     "output_type": "display_data"
    },
    {
     "data": {
      "application/vnd.jupyter.widget-view+json": {
       "model_id": "9ffea39f355e454a91a4c981889eab89",
       "version_major": 2,
       "version_minor": 0
      },
      "text/plain": [
       "Models:   0%|          | 0/1 [00:00<?, ?it/s]"
      ]
     },
     "metadata": {},
     "output_type": "display_data"
    },
    {
     "data": {
      "application/vnd.jupyter.widget-view+json": {
       "model_id": "cd060828b90e43298e0f6d023fb3d930",
       "version_major": 2,
       "version_minor": 0
      },
      "text/plain": [
       "CatBoost folds:   0%|          | 0/5 [00:00<?, ?it/s]"
      ]
     },
     "metadata": {},
     "output_type": "display_data"
    },
    {
     "data": {
      "application/vnd.jupyter.widget-view+json": {
       "model_id": "7955c3e079434be19bb15895b7cc89f3",
       "version_major": 2,
       "version_minor": 0
      },
      "text/plain": [
       "Models:   0%|          | 0/1 [00:00<?, ?it/s]"
      ]
     },
     "metadata": {},
     "output_type": "display_data"
    },
    {
     "data": {
      "application/vnd.jupyter.widget-view+json": {
       "model_id": "dc198f5cd86c4c57a72498e3d991cff7",
       "version_major": 2,
       "version_minor": 0
      },
      "text/plain": [
       "CatBoost folds:   0%|          | 0/5 [00:00<?, ?it/s]"
      ]
     },
     "metadata": {},
     "output_type": "display_data"
    },
    {
     "data": {
      "application/vnd.jupyter.widget-view+json": {
       "model_id": "6044890d5b1c49aeb20d9c62fbe753cb",
       "version_major": 2,
       "version_minor": 0
      },
      "text/plain": [
       "Models:   0%|          | 0/1 [00:00<?, ?it/s]"
      ]
     },
     "metadata": {},
     "output_type": "display_data"
    },
    {
     "data": {
      "application/vnd.jupyter.widget-view+json": {
       "model_id": "ba108f4ebda64b30a71abec3ea8ca776",
       "version_major": 2,
       "version_minor": 0
      },
      "text/plain": [
       "CatBoost folds:   0%|          | 0/5 [00:00<?, ?it/s]"
      ]
     },
     "metadata": {},
     "output_type": "display_data"
    },
    {
     "data": {
      "application/vnd.jupyter.widget-view+json": {
       "model_id": "8bf7c6f00a2247ccb8727f6b1b465f90",
       "version_major": 2,
       "version_minor": 0
      },
      "text/plain": [
       "Models:   0%|          | 0/1 [00:00<?, ?it/s]"
      ]
     },
     "metadata": {},
     "output_type": "display_data"
    },
    {
     "data": {
      "application/vnd.jupyter.widget-view+json": {
       "model_id": "3d6a25e24ce04a24b7bc61dd663ec720",
       "version_major": 2,
       "version_minor": 0
      },
      "text/plain": [
       "CatBoost folds:   0%|          | 0/5 [00:00<?, ?it/s]"
      ]
     },
     "metadata": {},
     "output_type": "display_data"
    },
    {
     "data": {
      "application/vnd.jupyter.widget-view+json": {
       "model_id": "e1d23c75db144e5eb537367b9092bb5d",
       "version_major": 2,
       "version_minor": 0
      },
      "text/plain": [
       "Models:   0%|          | 0/1 [00:00<?, ?it/s]"
      ]
     },
     "metadata": {},
     "output_type": "display_data"
    },
    {
     "data": {
      "application/vnd.jupyter.widget-view+json": {
       "model_id": "517b338d4b6e4c3bb29349ae67c914d1",
       "version_major": 2,
       "version_minor": 0
      },
      "text/plain": [
       "CatBoost folds:   0%|          | 0/5 [00:00<?, ?it/s]"
      ]
     },
     "metadata": {},
     "output_type": "display_data"
    },
    {
     "data": {
      "application/vnd.jupyter.widget-view+json": {
       "model_id": "695375fe5d624b3c97c8079cba84db21",
       "version_major": 2,
       "version_minor": 0
      },
      "text/plain": [
       "Models:   0%|          | 0/1 [00:00<?, ?it/s]"
      ]
     },
     "metadata": {},
     "output_type": "display_data"
    },
    {
     "data": {
      "application/vnd.jupyter.widget-view+json": {
       "model_id": "40b9bcde3ede4aa5bcc000c40a2ec47c",
       "version_major": 2,
       "version_minor": 0
      },
      "text/plain": [
       "CatBoost folds:   0%|          | 0/5 [00:00<?, ?it/s]"
      ]
     },
     "metadata": {},
     "output_type": "display_data"
    },
    {
     "data": {
      "application/vnd.jupyter.widget-view+json": {
       "model_id": "b5bb9094191b4e178cc58bad8828483f",
       "version_major": 2,
       "version_minor": 0
      },
      "text/plain": [
       "Models:   0%|          | 0/1 [00:00<?, ?it/s]"
      ]
     },
     "metadata": {},
     "output_type": "display_data"
    },
    {
     "data": {
      "application/vnd.jupyter.widget-view+json": {
       "model_id": "c393e2335b134a7f80d4da9fb27735eb",
       "version_major": 2,
       "version_minor": 0
      },
      "text/plain": [
       "CatBoost folds:   0%|          | 0/5 [00:00<?, ?it/s]"
      ]
     },
     "metadata": {},
     "output_type": "display_data"
    },
    {
     "data": {
      "application/vnd.jupyter.widget-view+json": {
       "model_id": "5950c37e480b422f8aa1d50487a1b23f",
       "version_major": 2,
       "version_minor": 0
      },
      "text/plain": [
       "Models:   0%|          | 0/1 [00:00<?, ?it/s]"
      ]
     },
     "metadata": {},
     "output_type": "display_data"
    },
    {
     "data": {
      "application/vnd.jupyter.widget-view+json": {
       "model_id": "37d68daebb834f7f954e4fede0c6f75e",
       "version_major": 2,
       "version_minor": 0
      },
      "text/plain": [
       "CatBoost folds:   0%|          | 0/5 [00:00<?, ?it/s]"
      ]
     },
     "metadata": {},
     "output_type": "display_data"
    },
    {
     "data": {
      "application/vnd.jupyter.widget-view+json": {
       "model_id": "b4601ad9e3944344b9d4df6159218f4f",
       "version_major": 2,
       "version_minor": 0
      },
      "text/plain": [
       "Models:   0%|          | 0/1 [00:00<?, ?it/s]"
      ]
     },
     "metadata": {},
     "output_type": "display_data"
    },
    {
     "data": {
      "application/vnd.jupyter.widget-view+json": {
       "model_id": "29ea369cacdb4fb1b9e1b15f35242eb9",
       "version_major": 2,
       "version_minor": 0
      },
      "text/plain": [
       "CatBoost folds:   0%|          | 0/5 [00:00<?, ?it/s]"
      ]
     },
     "metadata": {},
     "output_type": "display_data"
    },
    {
     "data": {
      "application/vnd.jupyter.widget-view+json": {
       "model_id": "71e9b7263c2d46d8a72303591031f824",
       "version_major": 2,
       "version_minor": 0
      },
      "text/plain": [
       "Models:   0%|          | 0/1 [00:00<?, ?it/s]"
      ]
     },
     "metadata": {},
     "output_type": "display_data"
    },
    {
     "data": {
      "application/vnd.jupyter.widget-view+json": {
       "model_id": "0a555069d4684649843f09564bc8d0c0",
       "version_major": 2,
       "version_minor": 0
      },
      "text/plain": [
       "CatBoost folds:   0%|          | 0/5 [00:00<?, ?it/s]"
      ]
     },
     "metadata": {},
     "output_type": "display_data"
    },
    {
     "data": {
      "application/vnd.jupyter.widget-view+json": {
       "model_id": "9d3e5bca4aa14e0bbe5921993c1b6394",
       "version_major": 2,
       "version_minor": 0
      },
      "text/plain": [
       "Models:   0%|          | 0/1 [00:00<?, ?it/s]"
      ]
     },
     "metadata": {},
     "output_type": "display_data"
    },
    {
     "data": {
      "application/vnd.jupyter.widget-view+json": {
       "model_id": "a3d59472ad3e46f1badecaf2bd96c330",
       "version_major": 2,
       "version_minor": 0
      },
      "text/plain": [
       "CatBoost folds:   0%|          | 0/5 [00:00<?, ?it/s]"
      ]
     },
     "metadata": {},
     "output_type": "display_data"
    },
    {
     "data": {
      "application/vnd.jupyter.widget-view+json": {
       "model_id": "7bb22f0466dd472e864d0f6491056c93",
       "version_major": 2,
       "version_minor": 0
      },
      "text/plain": [
       "Models:   0%|          | 0/1 [00:00<?, ?it/s]"
      ]
     },
     "metadata": {},
     "output_type": "display_data"
    },
    {
     "data": {
      "application/vnd.jupyter.widget-view+json": {
       "model_id": "b2da35f104474752be39ed0f63d6fab1",
       "version_major": 2,
       "version_minor": 0
      },
      "text/plain": [
       "CatBoost folds:   0%|          | 0/5 [00:00<?, ?it/s]"
      ]
     },
     "metadata": {},
     "output_type": "display_data"
    },
    {
     "data": {
      "application/vnd.jupyter.widget-view+json": {
       "model_id": "90877f7cdaf44fe0952aa1697f239e8c",
       "version_major": 2,
       "version_minor": 0
      },
      "text/plain": [
       "Models:   0%|          | 0/1 [00:00<?, ?it/s]"
      ]
     },
     "metadata": {},
     "output_type": "display_data"
    },
    {
     "data": {
      "application/vnd.jupyter.widget-view+json": {
       "model_id": "b8beb620b9c44a9aaa3ac9ebb838df15",
       "version_major": 2,
       "version_minor": 0
      },
      "text/plain": [
       "CatBoost folds:   0%|          | 0/5 [00:00<?, ?it/s]"
      ]
     },
     "metadata": {},
     "output_type": "display_data"
    },
    {
     "data": {
      "application/vnd.jupyter.widget-view+json": {
       "model_id": "1b6202b354e44053b76f07b8b9fa5394",
       "version_major": 2,
       "version_minor": 0
      },
      "text/plain": [
       "Models:   0%|          | 0/1 [00:00<?, ?it/s]"
      ]
     },
     "metadata": {},
     "output_type": "display_data"
    },
    {
     "data": {
      "application/vnd.jupyter.widget-view+json": {
       "model_id": "373bf96ce7fe456a90336bb9676ed593",
       "version_major": 2,
       "version_minor": 0
      },
      "text/plain": [
       "CatBoost folds:   0%|          | 0/5 [00:00<?, ?it/s]"
      ]
     },
     "metadata": {},
     "output_type": "display_data"
    },
    {
     "data": {
      "application/vnd.jupyter.widget-view+json": {
       "model_id": "68a405985a284eb1a08f6f11418a315f",
       "version_major": 2,
       "version_minor": 0
      },
      "text/plain": [
       "Models:   0%|          | 0/1 [00:00<?, ?it/s]"
      ]
     },
     "metadata": {},
     "output_type": "display_data"
    },
    {
     "data": {
      "application/vnd.jupyter.widget-view+json": {
       "model_id": "6a59c31e764f4ded9ca5e06f4c225a2a",
       "version_major": 2,
       "version_minor": 0
      },
      "text/plain": [
       "CatBoost folds:   0%|          | 0/5 [00:00<?, ?it/s]"
      ]
     },
     "metadata": {},
     "output_type": "display_data"
    },
    {
     "data": {
      "application/vnd.jupyter.widget-view+json": {
       "model_id": "444fea969e5e406a8f5d20c5359b4d6e",
       "version_major": 2,
       "version_minor": 0
      },
      "text/plain": [
       "Models:   0%|          | 0/1 [00:00<?, ?it/s]"
      ]
     },
     "metadata": {},
     "output_type": "display_data"
    },
    {
     "data": {
      "application/vnd.jupyter.widget-view+json": {
       "model_id": "e2aa23190b52463a8069085a5ece82f8",
       "version_major": 2,
       "version_minor": 0
      },
      "text/plain": [
       "CatBoost folds:   0%|          | 0/5 [00:00<?, ?it/s]"
      ]
     },
     "metadata": {},
     "output_type": "display_data"
    },
    {
     "data": {
      "application/vnd.jupyter.widget-view+json": {
       "model_id": "34eaf71a41e04ff9ae8651f7657003ec",
       "version_major": 2,
       "version_minor": 0
      },
      "text/plain": [
       "Models:   0%|          | 0/1 [00:00<?, ?it/s]"
      ]
     },
     "metadata": {},
     "output_type": "display_data"
    },
    {
     "data": {
      "application/vnd.jupyter.widget-view+json": {
       "model_id": "68a87955a2324dff91b37d1650f77a31",
       "version_major": 2,
       "version_minor": 0
      },
      "text/plain": [
       "CatBoost folds:   0%|          | 0/5 [00:00<?, ?it/s]"
      ]
     },
     "metadata": {},
     "output_type": "display_data"
    },
    {
     "data": {
      "application/vnd.jupyter.widget-view+json": {
       "model_id": "758dfbe180f14016a85bca68df07cd22",
       "version_major": 2,
       "version_minor": 0
      },
      "text/plain": [
       "Models:   0%|          | 0/1 [00:00<?, ?it/s]"
      ]
     },
     "metadata": {},
     "output_type": "display_data"
    },
    {
     "data": {
      "application/vnd.jupyter.widget-view+json": {
       "model_id": "b00a3c40f0804e1db92d69accf4fb979",
       "version_major": 2,
       "version_minor": 0
      },
      "text/plain": [
       "CatBoost folds:   0%|          | 0/5 [00:00<?, ?it/s]"
      ]
     },
     "metadata": {},
     "output_type": "display_data"
    },
    {
     "data": {
      "text/html": [
       "<div>\n",
       "<style scoped>\n",
       "    .dataframe tbody tr th:only-of-type {\n",
       "        vertical-align: middle;\n",
       "    }\n",
       "\n",
       "    .dataframe tbody tr th {\n",
       "        vertical-align: top;\n",
       "    }\n",
       "\n",
       "    .dataframe thead th {\n",
       "        text-align: right;\n",
       "    }\n",
       "</style>\n",
       "<table border=\"1\" class=\"dataframe\">\n",
       "  <thead>\n",
       "    <tr style=\"text-align: right;\">\n",
       "      <th></th>\n",
       "      <th>model</th>\n",
       "      <th>cv_rmse_mean</th>\n",
       "      <th>cv_rmse_std</th>\n",
       "      <th>r2_cv</th>\n",
       "      <th>r2_full</th>\n",
       "      <th>w_full</th>\n",
       "      <th>w_half</th>\n",
       "      <th>w_bfull</th>\n",
       "      <th>w_bhalf</th>\n",
       "    </tr>\n",
       "  </thead>\n",
       "  <tbody>\n",
       "    <tr>\n",
       "      <th>0</th>\n",
       "      <td>CatBoost</td>\n",
       "      <td>19474.588574</td>\n",
       "      <td>2994.704493</td>\n",
       "      <td>0.931012</td>\n",
       "      <td>0.993184</td>\n",
       "      <td>1.0</td>\n",
       "      <td>0.4</td>\n",
       "      <td>1.2</td>\n",
       "      <td>0.2</td>\n",
       "    </tr>\n",
       "    <tr>\n",
       "      <th>1</th>\n",
       "      <td>CatBoost</td>\n",
       "      <td>19494.708369</td>\n",
       "      <td>3369.741774</td>\n",
       "      <td>0.930449</td>\n",
       "      <td>0.993282</td>\n",
       "      <td>1.0</td>\n",
       "      <td>0.6</td>\n",
       "      <td>0.8</td>\n",
       "      <td>0.8</td>\n",
       "    </tr>\n",
       "    <tr>\n",
       "      <th>2</th>\n",
       "      <td>CatBoost</td>\n",
       "      <td>19497.167945</td>\n",
       "      <td>3366.438952</td>\n",
       "      <td>0.930436</td>\n",
       "      <td>0.993200</td>\n",
       "      <td>1.0</td>\n",
       "      <td>0.6</td>\n",
       "      <td>0.8</td>\n",
       "      <td>0.2</td>\n",
       "    </tr>\n",
       "    <tr>\n",
       "      <th>3</th>\n",
       "      <td>CatBoost</td>\n",
       "      <td>19499.380747</td>\n",
       "      <td>3102.699008</td>\n",
       "      <td>0.930723</td>\n",
       "      <td>0.993352</td>\n",
       "      <td>1.0</td>\n",
       "      <td>0.5</td>\n",
       "      <td>1.4</td>\n",
       "      <td>0.6</td>\n",
       "    </tr>\n",
       "    <tr>\n",
       "      <th>4</th>\n",
       "      <td>CatBoost</td>\n",
       "      <td>19519.012472</td>\n",
       "      <td>3593.894038</td>\n",
       "      <td>0.930003</td>\n",
       "      <td>0.993070</td>\n",
       "      <td>1.0</td>\n",
       "      <td>0.6</td>\n",
       "      <td>1.0</td>\n",
       "      <td>0.6</td>\n",
       "    </tr>\n",
       "    <tr>\n",
       "      <th>5</th>\n",
       "      <td>CatBoost</td>\n",
       "      <td>19531.704548</td>\n",
       "      <td>3276.997811</td>\n",
       "      <td>0.930302</td>\n",
       "      <td>0.993076</td>\n",
       "      <td>1.0</td>\n",
       "      <td>0.5</td>\n",
       "      <td>0.8</td>\n",
       "      <td>0.2</td>\n",
       "    </tr>\n",
       "    <tr>\n",
       "      <th>6</th>\n",
       "      <td>CatBoost</td>\n",
       "      <td>19539.841118</td>\n",
       "      <td>3104.742456</td>\n",
       "      <td>0.930441</td>\n",
       "      <td>0.993343</td>\n",
       "      <td>1.0</td>\n",
       "      <td>0.5</td>\n",
       "      <td>1.2</td>\n",
       "      <td>0.4</td>\n",
       "    </tr>\n",
       "    <tr>\n",
       "      <th>7</th>\n",
       "      <td>CatBoost</td>\n",
       "      <td>19566.798822</td>\n",
       "      <td>3263.693177</td>\n",
       "      <td>0.930073</td>\n",
       "      <td>0.992846</td>\n",
       "      <td>1.0</td>\n",
       "      <td>0.4</td>\n",
       "      <td>0.8</td>\n",
       "      <td>0.8</td>\n",
       "    </tr>\n",
       "    <tr>\n",
       "      <th>8</th>\n",
       "      <td>CatBoost</td>\n",
       "      <td>19568.282710</td>\n",
       "      <td>3079.299387</td>\n",
       "      <td>0.930271</td>\n",
       "      <td>0.993145</td>\n",
       "      <td>1.0</td>\n",
       "      <td>0.3</td>\n",
       "      <td>1.6</td>\n",
       "      <td>0.4</td>\n",
       "    </tr>\n",
       "    <tr>\n",
       "      <th>9</th>\n",
       "      <td>CatBoost</td>\n",
       "      <td>19579.658071</td>\n",
       "      <td>3358.838631</td>\n",
       "      <td>0.929872</td>\n",
       "      <td>0.993234</td>\n",
       "      <td>1.0</td>\n",
       "      <td>0.6</td>\n",
       "      <td>1.4</td>\n",
       "      <td>0.4</td>\n",
       "    </tr>\n",
       "    <tr>\n",
       "      <th>10</th>\n",
       "      <td>CatBoost</td>\n",
       "      <td>19580.178574</td>\n",
       "      <td>3318.444129</td>\n",
       "      <td>0.929916</td>\n",
       "      <td>0.992803</td>\n",
       "      <td>1.0</td>\n",
       "      <td>0.3</td>\n",
       "      <td>1.0</td>\n",
       "      <td>0.6</td>\n",
       "    </tr>\n",
       "    <tr>\n",
       "      <th>11</th>\n",
       "      <td>CatBoost</td>\n",
       "      <td>19593.824221</td>\n",
       "      <td>3257.367315</td>\n",
       "      <td>0.929893</td>\n",
       "      <td>0.992837</td>\n",
       "      <td>1.0</td>\n",
       "      <td>0.3</td>\n",
       "      <td>0.8</td>\n",
       "      <td>0.8</td>\n",
       "    </tr>\n",
       "    <tr>\n",
       "      <th>12</th>\n",
       "      <td>CatBoost</td>\n",
       "      <td>19594.461329</td>\n",
       "      <td>2972.200325</td>\n",
       "      <td>0.930204</td>\n",
       "      <td>0.992809</td>\n",
       "      <td>1.0</td>\n",
       "      <td>0.5</td>\n",
       "      <td>1.6</td>\n",
       "      <td>0.8</td>\n",
       "    </tr>\n",
       "    <tr>\n",
       "      <th>13</th>\n",
       "      <td>CatBoost</td>\n",
       "      <td>19597.484695</td>\n",
       "      <td>3238.118437</td>\n",
       "      <td>0.929889</td>\n",
       "      <td>0.993170</td>\n",
       "      <td>1.0</td>\n",
       "      <td>0.3</td>\n",
       "      <td>1.2</td>\n",
       "      <td>0.2</td>\n",
       "    </tr>\n",
       "    <tr>\n",
       "      <th>14</th>\n",
       "      <td>CatBoost</td>\n",
       "      <td>19610.235772</td>\n",
       "      <td>3294.243553</td>\n",
       "      <td>0.929735</td>\n",
       "      <td>0.993023</td>\n",
       "      <td>1.0</td>\n",
       "      <td>0.4</td>\n",
       "      <td>1.2</td>\n",
       "      <td>0.4</td>\n",
       "    </tr>\n",
       "    <tr>\n",
       "      <th>15</th>\n",
       "      <td>CatBoost</td>\n",
       "      <td>19636.533776</td>\n",
       "      <td>3425.579513</td>\n",
       "      <td>0.929395</td>\n",
       "      <td>0.993065</td>\n",
       "      <td>1.0</td>\n",
       "      <td>0.6</td>\n",
       "      <td>1.0</td>\n",
       "      <td>0.8</td>\n",
       "    </tr>\n",
       "    <tr>\n",
       "      <th>16</th>\n",
       "      <td>CatBoost</td>\n",
       "      <td>19642.276651</td>\n",
       "      <td>3363.071639</td>\n",
       "      <td>0.929430</td>\n",
       "      <td>0.992752</td>\n",
       "      <td>1.0</td>\n",
       "      <td>0.3</td>\n",
       "      <td>0.8</td>\n",
       "      <td>0.6</td>\n",
       "    </tr>\n",
       "    <tr>\n",
       "      <th>17</th>\n",
       "      <td>CatBoost</td>\n",
       "      <td>19642.913630</td>\n",
       "      <td>3349.888696</td>\n",
       "      <td>0.929442</td>\n",
       "      <td>0.992749</td>\n",
       "      <td>1.0</td>\n",
       "      <td>0.3</td>\n",
       "      <td>0.8</td>\n",
       "      <td>0.2</td>\n",
       "    </tr>\n",
       "    <tr>\n",
       "      <th>18</th>\n",
       "      <td>CatBoost</td>\n",
       "      <td>19643.881531</td>\n",
       "      <td>3615.300587</td>\n",
       "      <td>0.929106</td>\n",
       "      <td>0.993050</td>\n",
       "      <td>1.0</td>\n",
       "      <td>0.6</td>\n",
       "      <td>1.2</td>\n",
       "      <td>0.8</td>\n",
       "    </tr>\n",
       "    <tr>\n",
       "      <th>19</th>\n",
       "      <td>CatBoost</td>\n",
       "      <td>19657.811516</td>\n",
       "      <td>3444.940531</td>\n",
       "      <td>0.929223</td>\n",
       "      <td>0.993178</td>\n",
       "      <td>1.0</td>\n",
       "      <td>0.4</td>\n",
       "      <td>1.0</td>\n",
       "      <td>0.2</td>\n",
       "    </tr>\n",
       "  </tbody>\n",
       "</table>\n",
       "</div>"
      ],
      "text/plain": [
       "       model  cv_rmse_mean  cv_rmse_std     r2_cv   r2_full  w_full  w_half  \\\n",
       "0   CatBoost  19474.588574  2994.704493  0.931012  0.993184     1.0     0.4   \n",
       "1   CatBoost  19494.708369  3369.741774  0.930449  0.993282     1.0     0.6   \n",
       "2   CatBoost  19497.167945  3366.438952  0.930436  0.993200     1.0     0.6   \n",
       "3   CatBoost  19499.380747  3102.699008  0.930723  0.993352     1.0     0.5   \n",
       "4   CatBoost  19519.012472  3593.894038  0.930003  0.993070     1.0     0.6   \n",
       "5   CatBoost  19531.704548  3276.997811  0.930302  0.993076     1.0     0.5   \n",
       "6   CatBoost  19539.841118  3104.742456  0.930441  0.993343     1.0     0.5   \n",
       "7   CatBoost  19566.798822  3263.693177  0.930073  0.992846     1.0     0.4   \n",
       "8   CatBoost  19568.282710  3079.299387  0.930271  0.993145     1.0     0.3   \n",
       "9   CatBoost  19579.658071  3358.838631  0.929872  0.993234     1.0     0.6   \n",
       "10  CatBoost  19580.178574  3318.444129  0.929916  0.992803     1.0     0.3   \n",
       "11  CatBoost  19593.824221  3257.367315  0.929893  0.992837     1.0     0.3   \n",
       "12  CatBoost  19594.461329  2972.200325  0.930204  0.992809     1.0     0.5   \n",
       "13  CatBoost  19597.484695  3238.118437  0.929889  0.993170     1.0     0.3   \n",
       "14  CatBoost  19610.235772  3294.243553  0.929735  0.993023     1.0     0.4   \n",
       "15  CatBoost  19636.533776  3425.579513  0.929395  0.993065     1.0     0.6   \n",
       "16  CatBoost  19642.276651  3363.071639  0.929430  0.992752     1.0     0.3   \n",
       "17  CatBoost  19642.913630  3349.888696  0.929442  0.992749     1.0     0.3   \n",
       "18  CatBoost  19643.881531  3615.300587  0.929106  0.993050     1.0     0.6   \n",
       "19  CatBoost  19657.811516  3444.940531  0.929223  0.993178     1.0     0.4   \n",
       "\n",
       "    w_bfull  w_bhalf  \n",
       "0       1.2      0.2  \n",
       "1       0.8      0.8  \n",
       "2       0.8      0.2  \n",
       "3       1.4      0.6  \n",
       "4       1.0      0.6  \n",
       "5       0.8      0.2  \n",
       "6       1.2      0.4  \n",
       "7       0.8      0.8  \n",
       "8       1.6      0.4  \n",
       "9       1.4      0.4  \n",
       "10      1.0      0.6  \n",
       "11      0.8      0.8  \n",
       "12      1.6      0.8  \n",
       "13      1.2      0.2  \n",
       "14      1.2      0.4  \n",
       "15      1.0      0.8  \n",
       "16      0.8      0.6  \n",
       "17      0.8      0.2  \n",
       "18      1.2      0.8  \n",
       "19      1.0      0.2  "
      ]
     },
     "metadata": {},
     "output_type": "display_data"
    },
    {
     "name": "stdout",
     "output_type": "stream",
     "text": [
      "Grid size: 80\n",
      "\n",
      "RMSE pivot at HalfBath=0.4: rows=BsmtFull, cols=BsmtHalf\n"
     ]
    },
    {
     "data": {
      "text/html": [
       "<style type=\"text/css\">\n",
       "</style>\n",
       "<table id=\"T_f5ed3\">\n",
       "  <thead>\n",
       "    <tr>\n",
       "      <th class=\"index_name level0\" >w_bhalf</th>\n",
       "      <th id=\"T_f5ed3_level0_col0\" class=\"col_heading level0 col0\" >0.200000</th>\n",
       "      <th id=\"T_f5ed3_level0_col1\" class=\"col_heading level0 col1\" >0.400000</th>\n",
       "      <th id=\"T_f5ed3_level0_col2\" class=\"col_heading level0 col2\" >0.600000</th>\n",
       "      <th id=\"T_f5ed3_level0_col3\" class=\"col_heading level0 col3\" >0.800000</th>\n",
       "    </tr>\n",
       "    <tr>\n",
       "      <th class=\"index_name level0\" >w_bfull</th>\n",
       "      <th class=\"blank col0\" >&nbsp;</th>\n",
       "      <th class=\"blank col1\" >&nbsp;</th>\n",
       "      <th class=\"blank col2\" >&nbsp;</th>\n",
       "      <th class=\"blank col3\" >&nbsp;</th>\n",
       "    </tr>\n",
       "  </thead>\n",
       "  <tbody>\n",
       "    <tr>\n",
       "      <th id=\"T_f5ed3_level0_row0\" class=\"row_heading level0 row0\" >0.800000</th>\n",
       "      <td id=\"T_f5ed3_row0_col0\" class=\"data row0 col0\" >20,032</td>\n",
       "      <td id=\"T_f5ed3_row0_col1\" class=\"data row0 col1\" >19,686</td>\n",
       "      <td id=\"T_f5ed3_row0_col2\" class=\"data row0 col2\" >19,661</td>\n",
       "      <td id=\"T_f5ed3_row0_col3\" class=\"data row0 col3\" >19,567</td>\n",
       "    </tr>\n",
       "    <tr>\n",
       "      <th id=\"T_f5ed3_level0_row1\" class=\"row_heading level0 row1\" >1.000000</th>\n",
       "      <td id=\"T_f5ed3_row1_col0\" class=\"data row1 col0\" >19,658</td>\n",
       "      <td id=\"T_f5ed3_row1_col1\" class=\"data row1 col1\" >20,063</td>\n",
       "      <td id=\"T_f5ed3_row1_col2\" class=\"data row1 col2\" >19,710</td>\n",
       "      <td id=\"T_f5ed3_row1_col3\" class=\"data row1 col3\" >19,745</td>\n",
       "    </tr>\n",
       "    <tr>\n",
       "      <th id=\"T_f5ed3_level0_row2\" class=\"row_heading level0 row2\" >1.200000</th>\n",
       "      <td id=\"T_f5ed3_row2_col0\" class=\"data row2 col0\" >19,475</td>\n",
       "      <td id=\"T_f5ed3_row2_col1\" class=\"data row2 col1\" >19,610</td>\n",
       "      <td id=\"T_f5ed3_row2_col2\" class=\"data row2 col2\" >19,740</td>\n",
       "      <td id=\"T_f5ed3_row2_col3\" class=\"data row2 col3\" >19,795</td>\n",
       "    </tr>\n",
       "    <tr>\n",
       "      <th id=\"T_f5ed3_level0_row3\" class=\"row_heading level0 row3\" >1.400000</th>\n",
       "      <td id=\"T_f5ed3_row3_col0\" class=\"data row3 col0\" >19,862</td>\n",
       "      <td id=\"T_f5ed3_row3_col1\" class=\"data row3 col1\" >19,889</td>\n",
       "      <td id=\"T_f5ed3_row3_col2\" class=\"data row3 col2\" >19,826</td>\n",
       "      <td id=\"T_f5ed3_row3_col3\" class=\"data row3 col3\" >19,707</td>\n",
       "    </tr>\n",
       "    <tr>\n",
       "      <th id=\"T_f5ed3_level0_row4\" class=\"row_heading level0 row4\" >1.600000</th>\n",
       "      <td id=\"T_f5ed3_row4_col0\" class=\"data row4 col0\" >19,699</td>\n",
       "      <td id=\"T_f5ed3_row4_col1\" class=\"data row4 col1\" >19,961</td>\n",
       "      <td id=\"T_f5ed3_row4_col2\" class=\"data row4 col2\" >19,720</td>\n",
       "      <td id=\"T_f5ed3_row4_col3\" class=\"data row4 col3\" >19,687</td>\n",
       "    </tr>\n",
       "  </tbody>\n",
       "</table>\n"
      ],
      "text/plain": [
       "<pandas.io.formats.style.Styler at 0x34b5cb8c0>"
      ]
     },
     "metadata": {},
     "output_type": "display_data"
    },
    {
     "name": "stdout",
     "output_type": "stream",
     "text": [
      "\n",
      "Best weights: {'Full': np.float64(1.0), 'Half': np.float64(0.4), 'BsmtFull': np.float64(1.2), 'BsmtHalf': np.float64(0.2)} | CV RMSE ≈ 19,475\n"
     ]
    }
   ],
   "source": [
    "from itertools import product\n",
    "from tqdm.auto import tqdm\n",
    "import numpy as np\n",
    "import pandas as pd\n",
    "\n",
    "# ---- Grid definition ----\n",
    "W_FULL = [1.0]                            # keep FullBath anchored at 1.0\n",
    "W_HALF = [0.3, 0.4, 0.5, 0.6]             # HalfBath\n",
    "W_BFULL = [0.8, 1.0, 1.2, 1.4, 1.6]       # BsmtFullBath\n",
    "W_BHALF = [0.2, 0.4, 0.6, 0.8]            # BsmtHalfBath\n",
    "\n",
    "grid = list(product(W_FULL, W_HALF, W_BFULL, W_BHALF))\n",
    "results = []\n",
    "\n",
    "# ---- Run sweep ----\n",
    "for (w_full, w_half, w_bfull, w_bhalf) in tqdm(grid, desc=\"Bath weight grid\"):\n",
    "    # Rebuild TotalBaths on a copy (only these four columns used)\n",
    "    X_try = X_fe.copy()\n",
    "    X_try[\"TotalBaths\"] = (\n",
    "        w_full  * Ames[\"FullBath\"].fillna(0) +\n",
    "        w_half  * Ames[\"HalfBath\"].fillna(0) +\n",
    "        w_bfull * Ames[\"BsmtFullBath\"].fillna(0) +\n",
    "        w_bhalf * Ames[\"BsmtHalfBath\"].fillna(0)\n",
    "    )\n",
    "\n",
    "    # CatBoost with your tuned base\n",
    "    model = make_catboost_pipe(\n",
    "        X_try,\n",
    "        depth=6,\n",
    "        learning_rate=0.05,\n",
    "        l2_leaf_reg=5,\n",
    "        iterations=1500,\n",
    "        colsample_bylevel=0.8,\n",
    "        loss_function=\"RMSE\",\n",
    "        verbose=0\n",
    "    )\n",
    "\n",
    "    res = cv_eval_models(\n",
    "        X_try, y,\n",
    "        [(\"CatBoost\", model)],\n",
    "        cv=5,\n",
    "        log_target=True,\n",
    "        random_state=42\n",
    "    )\n",
    "    row = res.iloc[0].to_dict()\n",
    "    row.update({\n",
    "        \"w_full\": w_full,\n",
    "        \"w_half\": w_half,\n",
    "        \"w_bfull\": w_bfull,\n",
    "        \"w_bhalf\": w_bhalf\n",
    "    })\n",
    "    results.append(row)\n",
    "\n",
    "bath_grid_results = (\n",
    "    pd.DataFrame(results)\n",
    "      .sort_values(\"cv_rmse_mean\", ascending=True)\n",
    "      .reset_index(drop=True)\n",
    ")\n",
    "\n",
    "display(bath_grid_results.head(20))\n",
    "print(\"Grid size:\", len(grid))\n",
    "\n",
    "# ---- Optional: quick pivots to visualize patterns ----\n",
    "# Fix HalfBath at the best value and compare basement weights\n",
    "best_half = bath_grid_results.iloc[0][\"w_half\"]\n",
    "pivot = (\n",
    "    bath_grid_results.query(\"w_half == @best_half\")\n",
    "                     .pivot_table(index=\"w_bfull\", columns=\"w_bhalf\",\n",
    "                                  values=\"cv_rmse_mean\", aggfunc=\"min\")\n",
    "                     .sort_index()\n",
    ")\n",
    "print(f\"\\nRMSE pivot at HalfBath={best_half}: rows=BsmtFull, cols=BsmtHalf\")\n",
    "display(pivot.style.format(\"{:,.0f}\"))\n",
    "\n",
    "# ---- Best weights → (optionally) lock them in and refit final model ----\n",
    "best = bath_grid_results.iloc[0]\n",
    "print(\"\\nBest weights:\",\n",
    "      dict(Full=best.w_full, Half=best.w_half, BsmtFull=best.w_bfull, BsmtHalf=best.w_bhalf),\n",
    "      \"| CV RMSE ≈ {:,.0f}\".format(best.cv_rmse_mean))\n",
    "\n",
    "# If you want to adopt the best weights now:\n",
    "# X_fe_best = X_fe.copy()\n",
    "# X_fe_best[\"TotalBaths\"] = (\n",
    "#     best.w_full  * Ames[\"FullBath\"].fillna(0) +\n",
    "#     best.w_half  * Ames[\"HalfBath\"].fillna(0) +\n",
    "#     best.w_bfull * Ames[\"BsmtFullBath\"].fillna(0) +\n",
    "#     best.w_bhalf * Ames[\"BsmtHalfBath\"].fillna(0)\n",
    "# )\n",
    "# cb_best = make_catboost_pipe(\n",
    "#     X_fe_best, depth=6, learning_rate=0.05, l2_leaf_reg=5, iterations=1500,\n",
    "#     colsample_bylevel=0.8, loss_function=\"RMSE\", verbose=0\n",
    "# )\n",
    "# # You can now evaluate or refit on train/test as you did with cb_final."
   ]
  },
  {
   "cell_type": "code",
   "execution_count": 42,
   "id": "6243a7ef-b25b-4b3d-aaaf-35c3b2416cee",
   "metadata": {
    "scrolled": true
   },
   "outputs": [
    {
     "data": {
      "image/png": "[encoded data removed]",
      "text/plain": [
       "<Figure size 800x600 with 1 Axes>"
      ]
     },
     "metadata": {},
     "output_type": "display_data"
    }
   ],
   "source": [
    "import matplotlib.pyplot as plt\n",
    "import seaborn as sns\n",
    "import matplotlib.patheffects as pe\n",
    "\n",
    "# Warwick-ish palette\n",
    "warwick_palette = [\"#006778\",\"#8CBF3F\",\"#F28E2B\",\"#4E79A7\",\"#E15759\",\"#B07AA1\"]\n",
    "\n",
    "plt.figure(figsize=(8,6))\n",
    "sns.set_theme(style=\"whitegrid\")\n",
    "\n",
    "ax = sns.scatterplot(\n",
    "    data=leaderboard,\n",
    "    x=\"cv_rmse_mean\", y=\"r2_cv\",\n",
    "    hue=\"model\", palette=warwick_palette, s=120,\n",
    "    edgecolor=\"black\", linewidth=1, legend=False  # <-- no legend\n",
    ")\n",
    "\n",
    "# Offsets so labels don't sit on points (adjust if you like)\n",
    "x_offsets = [-14, 0, 14, -14, 0, 14]  # cycles across points\n",
    "y_mid = leaderboard[\"r2_cv\"].median()\n",
    "\n",
    "for i, row in leaderboard.reset_index(drop=True).iterrows():\n",
    "    dx = x_offsets[i % len(x_offsets)]\n",
    "    # put some labels above, some below to avoid collisions\n",
    "    dy = 12 if row[\"r2_cv\"] <= y_mid else -14\n",
    "    va = \"bottom\" if dy > 0 else \"top\"\n",
    "\n",
    "    ax.annotate(\n",
    "        row[\"model\"],\n",
    "        xy=(row[\"cv_rmse_mean\"], row[\"r2_cv\"]),\n",
    "        xytext=(dx, dy), textcoords=\"offset points\",\n",
    "        ha=\"center\", va=va, fontsize=10, fontweight=\"bold\",\n",
    "        path_effects=[pe.withStroke(linewidth=3, foreground=\"white\")],  # white outline\n",
    "        arrowprops=dict(arrowstyle=\"-\", color=\"0.6\", lw=0.6, shrinkA=6, shrinkB=6)\n",
    "    )\n",
    "\n",
    "# Titles / axes\n",
    "plt.title(\"Model Selection: RMSE vs R² (CV, 5-fold)\", fontsize=14, weight=\"bold\")\n",
    "plt.xlabel(\"CV RMSE (lower is better)\", fontsize=12)\n",
    "plt.ylabel(\"CV R² (higher is better)\", fontsize=12)\n",
    "plt.xlim(leaderboard[\"cv_rmse_mean\"].min()-1200, leaderboard[\"cv_rmse_mean\"].max()+1200)\n",
    "plt.ylim(0.85, 1.0)\n",
    "plt.tight_layout()\n",
    "plt.show()"
   ]
  },
  {
   "cell_type": "code",
   "execution_count": 43,
   "id": "eea4fd58-bafa-4063-9772-b0210f72e23c",
   "metadata": {},
   "outputs": [
    {
     "data": {
      "image/png": "[encoded data removed]",
      "text/plain": [
       "<Figure size 800x600 with 1 Axes>"
      ]
     },
     "metadata": {},
     "output_type": "display_data"
    }
   ],
   "source": []
  },
  {
   "cell_type": "code",
   "execution_count": 49,
   "id": "0ad72a11-e99a-4e33-a187-73097db81bca",
   "metadata": {},
   "outputs": [
    {
     "name": "stdout",
     "output_type": "stream",
     "text": [
      "<class 'pandas.core.frame.DataFrame'> (2580, 82)\n",
      "<class 'pandas.core.series.Series'> (2580,) 1    126000.0\n",
      "2    139500.0\n",
      "3    124900.0\n",
      "4    114000.0\n",
      "5    227000.0\n",
      "Name: SalePrice, dtype: float64\n",
      "Weighted CatBoost → RMSE: 19,847, R²: 0.936\n"
     ]
    },
    {
     "data": {
      "image/png": "[encoded data removed]",
      "text/plain": [
       "<Figure size 700x400 with 1 Axes>"
      ]
     },
     "metadata": {},
     "output_type": "display_data"
    }
   ],
   "source": [
    "# 0) Restore clean data objects (avoid collisions)\n",
    "Ames = Ames_original.copy()\n",
    "y_target = Ames['SalePrice'].astype(float)\n",
    "X_df = X_fe.copy()          # your engineered features dataframe\n",
    "\n",
    "# 1) sanity checks\n",
    "print(type(X_df), X_df.shape)\n",
    "print(type(y_target), y_target.shape, y_target.head())\n",
    "\n",
    "# 2) split\n",
    "from sklearn.model_selection import train_test_split\n",
    "X_train, X_test, y_train, y_test = train_test_split(\n",
    "    X_df, y_target, test_size=0.20, random_state=42\n",
    ")\n",
    "\n",
    "# 3) price-proportional sample weights (tamed)\n",
    "w_train = (y_train / y_train.mean()).clip(0.25, 4.0)\n",
    "\n",
    "# 4) model (same preprocessing as before)\n",
    "cb_weighted = make_catboost_pipe(\n",
    "    X_df,\n",
    "    depth=6,\n",
    "    learning_rate=0.05,\n",
    "    l2_leaf_reg=5,\n",
    "    iterations=1500,\n",
    "    colsample_bylevel=0.8,\n",
    "    verbose=0\n",
    ")\n",
    "\n",
    "# NOTE: model was trained on log1p target, so fit with log1p(y)\n",
    "cb_weighted.fit(X_train, np.log1p(y_train), reg__sample_weight=w_train)\n",
    "\n",
    "# 5) evaluate + residual plot\n",
    "from sklearn.metrics import mean_squared_error, r2_score\n",
    "y_pred_test = np.expm1(cb_weighted.predict(X_test))\n",
    "residuals = y_test - y_pred_test\n",
    "\n",
    "rmse = float(np.sqrt(mean_squared_error(y_test, y_pred_test)))\n",
    "r2   = float(r2_score(y_test, y_pred_test))\n",
    "print(f\"Weighted CatBoost → RMSE: {rmse:,.0f}, R²: {r2:.3f}\")\n",
    "\n",
    "import matplotlib.pyplot as plt\n",
    "plt.figure(figsize=(7,4))\n",
    "plt.scatter(y_pred_test, residuals, alpha=0.5)\n",
    "plt.axhline(0, color=\"black\", linestyle=\"--\", linewidth=1)\n",
    "plt.xlabel(\"Predicted SalePrice\")\n",
    "plt.ylabel(\"Residual (Actual - Predicted)\")\n",
    "plt.title(\"Residuals vs Predicted (Weighted CatBoost)\")\n",
    "plt.tight_layout()\n",
    "plt.show()"
   ]
  },
  {
   "cell_type": "code",
   "execution_count": 53,
   "id": "fec633fd-0f2c-4314-af14-481e1ccf5868",
   "metadata": {},
   "outputs": [
    {
     "data": {
      "image/png": "[encoded data removed]",
      "text/plain": [
       "<Figure size 600x600 with 1 Axes>"
      ]
     },
     "metadata": {},
     "output_type": "display_data"
    },
    {
     "data": {
      "image/png": "[encoded data removed]",
      "text/plain": [
       "<Figure size 800x500 with 1 Axes>"
      ]
     },
     "metadata": {},
     "output_type": "display_data"
    }
   ],
   "source": [
    "import matplotlib.pyplot as plt\n",
    "import seaborn as sns\n",
    "\n",
    "# Warwick slide theme colors (from your deck)\n",
    "warwick_teal = \"#006d77\"\n",
    "warwick_accent = \"#83c5be\"\n",
    "\n",
    "sns.set_style(\"whitegrid\")\n",
    "sns.set_context(\"talk\")\n",
    "\n",
    "# --- 1. Parity Plot ---\n",
    "plt.figure(figsize=(6,6))\n",
    "plt.scatter(y_test, y_pred_test, color=warwick_teal, alpha=0.6, edgecolor=\"white\", s=50)\n",
    "plt.plot([y_test.min(), y_test.max()],\n",
    "         [y_test.min(), y_test.max()],\n",
    "         color=warwick_accent, lw=2)\n",
    "plt.title(\"CatBoost Final — Actual vs Predicted\", fontsize=16, weight=\"bold\")\n",
    "plt.xlabel(\"Actual Sale Price ($)\")\n",
    "plt.ylabel(\"Predicted Sale Price ($)\")\n",
    "plt.tight_layout()\n",
    "plt.show()\n",
    "\n",
    "# --- 2. Residuals Plot ---\n",
    "residuals = y_test - y_pred_test\n",
    "plt.figure(figsize=(8,5))\n",
    "plt.scatter(y_pred_test, residuals, color=warwick_teal, alpha=0.6, edgecolor=\"white\", s=50)\n",
    "plt.axhline(0, color=\"black\", lw=2)\n",
    "plt.title(\"Residuals vs Predicted\", fontsize=16, weight=\"bold\")\n",
    "plt.xlabel(\"Predicted Sale Price ($)\")\n",
    "plt.ylabel(\"Residual (Actual − Pred)\")\n",
    "plt.tight_layout()\n",
    "plt.show()"
   ]
  },
  {
   "cell_type": "code",
   "execution_count": 54,
   "id": "94dcb96b-a366-47ad-b228-4835f4ea5b18",
   "metadata": {},
   "outputs": [
    {
     "ename": "AttributeError",
     "evalue": "'float' object has no attribute 'clip'",
     "output_type": "error",
     "traceback": [
      "\u001b[0;31m---------------------------------------------------------------------------\u001b[0m",
      "\u001b[0;31mAttributeError\u001b[0m                            Traceback (most recent call last)",
      "Cell \u001b[0;32mIn[54], line 3\u001b[0m\n\u001b[1;32m      1\u001b[0m pred \u001b[38;5;241m=\u001b[39m np\u001b[38;5;241m.\u001b[39mexpm1(cb_final\u001b[38;5;241m.\u001b[39mpredict(X_fe))\n\u001b[1;32m      2\u001b[0m resid \u001b[38;5;241m=\u001b[39m y \u001b[38;5;241m-\u001b[39m pred\n\u001b[0;32m----> 3\u001b[0m resid_pct \u001b[38;5;241m=\u001b[39m resid \u001b[38;5;241m/\u001b[39m y\u001b[38;5;241m.\u001b[39mclip(lower\u001b[38;5;241m=\u001b[39m\u001b[38;5;241m1\u001b[39m)\n",
      "\u001b[0;31mAttributeError\u001b[0m: 'float' object has no attribute 'clip'"
     ]
    }
   ],
   "source": [
    "pred = np.expm1(cb_final.predict(X_fe))\n",
    "resid = y - pred\n",
    "resid_pct = resid / y.clip(lower=1)  # % undervaluation"
   ]
  },
  {
   "cell_type": "code",
   "execution_count": 55,
   "id": "61c5807e-4263-441e-bab0-2250bed9634d",
   "metadata": {},
   "outputs": [],
   "source": [
    "pred_log = cb_final.predict(X_fe)          # trained on log1p(y)\n",
    "y_log = np.log1p(y)\n",
    "resid_log = y_log - pred_log               # ~ log under/over-valuation\n",
    "# Rank or threshold by resid_log instead of dollar residual"
   ]
  }
 ],
 "metadata": {
  "kernelspec": {
   "display_name": "Python 3 (ipykernel)",
   "language": "python",
   "name": "python3"
  },
  "language_info": {
   "codemirror_mode": {
    "name": "ipython",
    "version": 3
   },
   "file_extension": ".py",
   "mimetype": "text/x-python",
   "name": "python",
   "nbconvert_exporter": "python",
   "pygments_lexer": "ipython3",
   "version": "3.13.5"
  }
 },
 "nbformat": 4,
 "nbformat_minor": 5
}
